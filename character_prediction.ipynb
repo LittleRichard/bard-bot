{
  "nbformat": 4,
  "nbformat_minor": 0,
  "metadata": {
    "colab": {
      "name": "character_prediction.ipynb",
      "provenance": [],
      "collapsed_sections": []
    },
    "kernelspec": {
      "name": "python3",
      "display_name": "Python 3"
    },
    "accelerator": "GPU"
  },
  "cells": [
    {
      "cell_type": "code",
      "metadata": {
        "id": "Lmgy6GCVFf_j",
        "colab_type": "code",
        "outputId": "09379a99-abb5-470e-dd58-79e9269ef6a4",
        "colab": {
          "base_uri": "https://localhost:8080/",
          "height": 68
        }
      },
      "source": [
        "%tensorflow_version 2.x\n",
        "import tensorflow as tf\n",
        "print(\"Tensorflow version:\", tf.__version__)\n",
        "from tensorflow.keras.callbacks import EarlyStopping as EarlyStopping\n",
        "from tensorflow.python.client import device_lib\n",
        "from tensorflow.keras.layers import Activation\n",
        "from tensorflow.keras.models import Sequential\n",
        "from tensorflow.keras.layers import Dense, Dropout, LSTM, TimeDistributed, Embedding\n",
        "from tensorflow.keras.callbacks import ModelCheckpoint\n",
        "from tensorflow.keras.optimizers import RMSprop, SGD\n",
        "from keras.utils import np_utils\n",
        "import numpy as np\n",
        "import os\n",
        "import re\n",
        "import time\n",
        "import string\n",
        "import glob"
      ],
      "execution_count": 0,
      "outputs": [
        {
          "output_type": "stream",
          "text": [
            "TensorFlow 2.x selected.\n",
            "Tensorflow version: 2.0.0\n"
          ],
          "name": "stdout"
        },
        {
          "output_type": "stream",
          "text": [
            "Using TensorFlow backend.\n"
          ],
          "name": "stderr"
        }
      ]
    },
    {
      "cell_type": "code",
      "metadata": {
        "id": "58JCHK2YiIbN",
        "colab_type": "code",
        "outputId": "32a6806d-c506-4306-c5a9-18bf57ce8cdc",
        "colab": {
          "base_uri": "https://localhost:8080/",
          "height": 578
        }
      },
      "source": [
        "# Devices informations\n",
        "print(\"Devices:\\n\", device_lib.list_local_devices())\n",
        "print(\"GPU:\", tf.test.gpu_device_name())"
      ],
      "execution_count": 0,
      "outputs": [
        {
          "output_type": "stream",
          "text": [
            "Devices:\n",
            " [name: \"/device:CPU:0\"\n",
            "device_type: \"CPU\"\n",
            "memory_limit: 268435456\n",
            "locality {\n",
            "}\n",
            "incarnation: 14201578251494713768\n",
            ", name: \"/device:XLA_CPU:0\"\n",
            "device_type: \"XLA_CPU\"\n",
            "memory_limit: 17179869184\n",
            "locality {\n",
            "}\n",
            "incarnation: 9328478204569165466\n",
            "physical_device_desc: \"device: XLA_CPU device\"\n",
            ", name: \"/device:XLA_GPU:0\"\n",
            "device_type: \"XLA_GPU\"\n",
            "memory_limit: 17179869184\n",
            "locality {\n",
            "}\n",
            "incarnation: 4715314578553899572\n",
            "physical_device_desc: \"device: XLA_GPU device\"\n",
            ", name: \"/device:GPU:0\"\n",
            "device_type: \"GPU\"\n",
            "memory_limit: 15956161332\n",
            "locality {\n",
            "  bus_id: 1\n",
            "  links {\n",
            "  }\n",
            "}\n",
            "incarnation: 10362487417246095800\n",
            "physical_device_desc: \"device: 0, name: Tesla P100-PCIE-16GB, pci bus id: 0000:00:04.0, compute capability: 6.0\"\n",
            "]\n",
            "GPU: /device:GPU:0\n"
          ],
          "name": "stdout"
        }
      ]
    },
    {
      "cell_type": "code",
      "metadata": {
        "id": "U_UGziQ1LuOv",
        "colab_type": "code",
        "colab": {}
      },
      "source": [
        "!git clone https://github.com/michalovsky/books_data.git"
      ],
      "execution_count": 0,
      "outputs": []
    },
    {
      "cell_type": "code",
      "metadata": {
        "id": "8yOZbDntMiSH",
        "colab_type": "code",
        "outputId": "f50694c1-ab6a-4fcb-8096-2af874c55b76",
        "colab": {
          "base_uri": "https://localhost:8080/",
          "height": 34
        }
      },
      "source": [
        "# Read all file paths from directory\n",
        "directory1 = \"books_data/shelley/\"\n",
        "directory2 = \"books_data/kafka/\"\n",
        "directory3 = \"books_data/sienkiewicz/\"\n",
        "directory4 = \"books_data/joyce/\"\n",
        "\n",
        "directory = directory2\n",
        "file_paths = glob.glob(directory +\"*.txt\")    \n",
        "print(\"Found\", len(file_paths), \"text files in directory:\", directory)"
      ],
      "execution_count": 0,
      "outputs": [
        {
          "output_type": "stream",
          "text": [
            "Found 1 text files in directory: books_data/kafka/\n"
          ],
          "name": "stdout"
        }
      ]
    },
    {
      "cell_type": "code",
      "metadata": {
        "id": "3NmsP_xHPnRe",
        "colab_type": "code",
        "outputId": "c03e7400-97f1-47da-dc84-d504186105a6",
        "colab": {
          "base_uri": "https://localhost:8080/",
          "height": 34
        }
      },
      "source": [
        "# Extract text from all text files\n",
        "text = \"\"\n",
        "\n",
        "for file_path in file_paths:\n",
        "    with open(file_path, 'r') as file:\n",
        "        file_content = file.read()\n",
        "        #remove file beginning and ending from gutenberg books\n",
        "        file_content = file_content[file_content.find(\"*** START\"):file_content.rfind(\"*** END\")]\n",
        "        #remove file ending from wolnelektury books\n",
        "        file_content = file_content[:file_content.rfind(\"-----\")]\n",
        "        text+=file_content\n",
        "print ('Length of text: {} characters'.format(len(text)))"
      ],
      "execution_count": 0,
      "outputs": [
        {
          "output_type": "stream",
          "text": [
            "Length of text: 119433 characters\n"
          ],
          "name": "stdout"
        }
      ]
    },
    {
      "cell_type": "code",
      "metadata": {
        "colab_type": "code",
        "outputId": "5cc14f64-ace9-4f90-eb24-b6c04ab605d9",
        "id": "B8MPgnOfsAjx",
        "colab": {
          "base_uri": "https://localhost:8080/",
          "height": 34
        }
      },
      "source": [
        "# Preprocess data\n",
        "\n",
        "punctuation_translator = str.maketrans('–—”„…«»‘’“', '          ', string.punctuation)\n",
        "digits_translator = str.maketrans('', '', string.digits)\n",
        "special_characters_translator = str.maketrans('ąćęłńóśźżäöüæèêéô', 'acelnoszzaoueeeeo', '')\n",
        "\n",
        "# remove redundant characters and translate special characters\n",
        "text = text.lower().translate(punctuation_translator).translate(digits_translator).translate(special_characters_translator)\n",
        "\n",
        "# remove \"rozdzial <number>\" strings \n",
        "text = re.sub(r\"\\nrozdzial\\s(.*)\\n\", \"\", text)\n",
        "\n",
        "# remove \"chapter <number>\" strings \n",
        "text = re.sub(r\"\\nchapter\\s(.*)\\n\", \"\", text)\n",
        "\n",
        "#remove extra spaces and new lines\n",
        "text = ' '.join(text.split())\n",
        "\n",
        "print ('Length of text after preprocessing: {} characters'.format(len(text)))"
      ],
      "execution_count": 0,
      "outputs": [
        {
          "output_type": "stream",
          "text": [
            "Length of text after preprocessing: 115574 characters\n"
          ],
          "name": "stdout"
        }
      ]
    },
    {
      "cell_type": "code",
      "metadata": {
        "id": "ppJ2hrDqGUtP",
        "colab_type": "code",
        "colab": {}
      },
      "source": [
        "# Creating a mapping from unique characters to indices\n",
        "\n",
        "vocab = sorted(set(text))\n",
        "vocab_length = len(vocab)\n",
        "\n",
        "char2idx = {u:i for i, u in enumerate(vocab)}\n",
        "idx2char = np.array(vocab)\n",
        "\n",
        "#encode text from characters to numbers  \n",
        "encoded = np.array([char2idx[ch] for ch in text])  "
      ],
      "execution_count": 0,
      "outputs": []
    },
    {
      "cell_type": "code",
      "metadata": {
        "id": "dGskc03TGZ--",
        "colab_type": "code",
        "outputId": "db4d6091-447a-4c8f-8a6c-59bd1d285ef7",
        "colab": {
          "base_uri": "https://localhost:8080/",
          "height": 527
        }
      },
      "source": [
        "# Print unique characters\n",
        "print ('{} unique characters:'.format(len(vocab)))\n",
        "\n",
        "print('{')\n",
        "for char in char2idx:\n",
        "    print('  {:4s}:{:3d},'.format(repr(char), char2idx[char]))\n",
        "print('}')"
      ],
      "execution_count": 0,
      "outputs": [
        {
          "output_type": "stream",
          "text": [
            "27 unique characters:\n",
            "{\n",
            "  ' ' :  0,\n",
            "  'a' :  1,\n",
            "  'b' :  2,\n",
            "  'c' :  3,\n",
            "  'd' :  4,\n",
            "  'e' :  5,\n",
            "  'f' :  6,\n",
            "  'g' :  7,\n",
            "  'h' :  8,\n",
            "  'i' :  9,\n",
            "  'j' : 10,\n",
            "  'k' : 11,\n",
            "  'l' : 12,\n",
            "  'm' : 13,\n",
            "  'n' : 14,\n",
            "  'o' : 15,\n",
            "  'p' : 16,\n",
            "  'q' : 17,\n",
            "  'r' : 18,\n",
            "  's' : 19,\n",
            "  't' : 20,\n",
            "  'u' : 21,\n",
            "  'v' : 22,\n",
            "  'w' : 23,\n",
            "  'x' : 24,\n",
            "  'y' : 25,\n",
            "  'z' : 26,\n",
            "}\n"
          ],
          "name": "stdout"
        }
      ]
    },
    {
      "cell_type": "code",
      "metadata": {
        "id": "D4T1FgjiGg8d",
        "colab_type": "code",
        "outputId": "e54d4253-2fdb-48b2-9382-b6dde0eade4b",
        "colab": {
          "base_uri": "https://localhost:8080/",
          "height": 34
        }
      },
      "source": [
        "from sklearn.model_selection import train_test_split\n",
        "from sklearn.utils import shuffle\n",
        "\n",
        "sequence_length = 100\n",
        "\n",
        "x_data = []\n",
        "y_data = []\n",
        "\n",
        "for i in range(0, len(text) - sequence_length, 1):\n",
        "    x_sequence = text[i:i + sequence_length]\n",
        "    y_label = text[i + sequence_length]\n",
        "\n",
        "    x_data.append([char2idx[char] for char in x_sequence])\n",
        "    y_data.append(char2idx[y_label])\n",
        "\n",
        "data_length = len(x_data)\n",
        "print(\"Amount of data\", data_length)\n",
        "\n",
        "X = np.reshape(x_data, (data_length, sequence_length, 1))\n",
        "X = X/float(vocab_length)\n",
        "y = np_utils.to_categorical(y_data)\n",
        "\n",
        "# Split into training and testing set, shuffle data\n",
        "X_train, X_test, y_train, y_test = train_test_split(X,y, test_size=0.2, shuffle=False)\n",
        "\n",
        "# Shuffle testing set\n",
        "X_test, y_test = shuffle(X_test, y_test, random_state=0)"
      ],
      "execution_count": 0,
      "outputs": [
        {
          "output_type": "stream",
          "text": [
            "Amount of data 115474\n"
          ],
          "name": "stdout"
        }
      ]
    },
    {
      "cell_type": "code",
      "metadata": {
        "colab_type": "code",
        "outputId": "37eeee6c-1709-406d-d47c-180f2b8e6e4f",
        "id": "Ab_oxOg99PBt",
        "colab": {
          "base_uri": "https://localhost:8080/",
          "height": 255
        }
      },
      "source": [
        "model = Sequential()\n",
        "model.add(LSTM(330, return_sequences=True, input_shape=(X.shape[1], X.shape[2])))\n",
        "model.add(LSTM(330))\n",
        "model.add(Dense(y.shape[1], activation='softmax'))\n",
        "\n",
        "#TO CHECK\n",
        "# kernel_regularizer=l2(0.01), recurrent_regularizer=l2(0.01), bias_regularizer=l2(0.01)\n",
        "\n",
        "\n",
        "\n",
        "# model = Sequential()\n",
        "# model.add(LSTM(600, return_sequences=True, input_shape=(X.shape[1], X.shape[2]), recurrent_initializer='glorot_uniform', recurrent_dropout=0.3))\n",
        "# model.add(Dropout(0.4))\n",
        "# model.add(LSTM(600, recurrent_initializer='glorot_uniform', recurrent_dropout=0.3))\n",
        "# model.add(Dropout(0.4)) #none to 0.4\n",
        "# model.add(Dense(y.shape[1], activation='softmax'))\n",
        "# NIGHT CHECK, batch_size=64, sequences=30\n",
        "\n",
        "# model = Sequential()\n",
        "# model.add(LSTM(256, input_shape=(X.shape[1], X.shape[2]), return_sequences=True, recurrent_initializer='glorot_uniform', recurrent_dropout=0.3))\n",
        "# # model.add(Dropout(0.4))\n",
        "# model.add(LSTM(256, return_sequences=True, recurrent_initializer='glorot_uniform', recurrent_dropout=0.3))\n",
        "# # model.add(Dropout(0.4))\n",
        "# model.add(LSTM(256, recurrent_initializer='glorot_uniform', recurrent_dropout=0.3))\n",
        "# model.add(Dropout(0.2))\n",
        "# model.add(Dense(y.shape[1], activation='softmax'))\n",
        "\n",
        "# Model informations\n",
        "model.summary()"
      ],
      "execution_count": 0,
      "outputs": [
        {
          "output_type": "stream",
          "text": [
            "Model: \"sequential_16\"\n",
            "_________________________________________________________________\n",
            "Layer (type)                 Output Shape              Param #   \n",
            "=================================================================\n",
            "lstm_33 (LSTM)               (None, 100, 330)          438240    \n",
            "_________________________________________________________________\n",
            "lstm_34 (LSTM)               (None, 330)               872520    \n",
            "_________________________________________________________________\n",
            "dense_16 (Dense)             (None, 27)                8937      \n",
            "=================================================================\n",
            "Total params: 1,319,697\n",
            "Trainable params: 1,319,697\n",
            "Non-trainable params: 0\n",
            "_________________________________________________________________\n"
          ],
          "name": "stdout"
        }
      ]
    },
    {
      "cell_type": "code",
      "metadata": {
        "id": "S6h5D-t_WgG9",
        "colab_type": "code",
        "colab": {}
      },
      "source": [
        "model.compile(loss='categorical_crossentropy', optimizer='adam', metrics=['accuracy'])"
      ],
      "execution_count": 0,
      "outputs": []
    },
    {
      "cell_type": "code",
      "metadata": {
        "id": "-DN9MDmbWsRb",
        "colab_type": "code",
        "colab": {}
      },
      "source": [
        "# Setting checkpoints and directory to save weights\n",
        "\n",
        "es = EarlyStopping(monitor='val_loss', mode='min', verbose=2, patience=100)\n",
        "\n",
        "# filepath=\"epoch-{epoch:02d}-loss-{loss:.4f}.hdf5\"\n",
        "# checkpoint = ModelCheckpoint(filepath, monitor='loss', save_best_only=True, mode='min')\n",
        "\n",
        "callbacks = [es]"
      ],
      "execution_count": 0,
      "outputs": []
    },
    {
      "cell_type": "code",
      "metadata": {
        "id": "ckKUs9m20mXz",
        "colab_type": "code",
        "outputId": "ed8ef9a6-4aac-4698-dae2-18a57b4ea667",
        "colab": {
          "base_uri": "https://localhost:8080/",
          "height": 1000
        }
      },
      "source": [
        "epochs = 50\n",
        "batch_size = 64 #128->64\n",
        "history = model.fit(X_train, y_train, validation_data=(X_test, y_test), epochs=epochs, batch_size=batch_size, verbose=2, callbacks=callbacks)"
      ],
      "execution_count": 0,
      "outputs": [
        {
          "output_type": "stream",
          "text": [
            "Train on 92379 samples, validate on 23095 samples\n",
            "Epoch 1/50\n",
            "92379/92379 - 44s - loss: 2.5983 - accuracy: 0.2540 - val_loss: 2.2829 - val_accuracy: 0.3383\n",
            "Epoch 2/50\n",
            "92379/92379 - 41s - loss: 2.0537 - accuracy: 0.3983 - val_loss: 1.9693 - val_accuracy: 0.4220\n",
            "Epoch 3/50\n",
            "92379/92379 - 41s - loss: 1.7796 - accuracy: 0.4725 - val_loss: 1.8081 - val_accuracy: 0.4645\n",
            "Epoch 4/50\n",
            "92379/92379 - 41s - loss: 1.6216 - accuracy: 0.5169 - val_loss: 1.7014 - val_accuracy: 0.4950\n",
            "Epoch 5/50\n",
            "92379/92379 - 41s - loss: 1.5023 - accuracy: 0.5516 - val_loss: 1.6469 - val_accuracy: 0.5118\n",
            "Epoch 6/50\n",
            "92379/92379 - 41s - loss: 1.4114 - accuracy: 0.5734 - val_loss: 1.6200 - val_accuracy: 0.5190\n",
            "Epoch 7/50\n",
            "92379/92379 - 41s - loss: 1.3355 - accuracy: 0.5950 - val_loss: 1.6213 - val_accuracy: 0.5252\n",
            "Epoch 8/50\n",
            "92379/92379 - 41s - loss: 1.2650 - accuracy: 0.6162 - val_loss: 1.6293 - val_accuracy: 0.5253\n",
            "Epoch 9/50\n",
            "92379/92379 - 41s - loss: 1.2032 - accuracy: 0.6321 - val_loss: 1.6129 - val_accuracy: 0.5319\n",
            "Epoch 10/50\n",
            "92379/92379 - 41s - loss: 1.1437 - accuracy: 0.6483 - val_loss: 1.6133 - val_accuracy: 0.5330\n",
            "Epoch 11/50\n",
            "92379/92379 - 41s - loss: 1.0873 - accuracy: 0.6641 - val_loss: 1.6429 - val_accuracy: 0.5339\n",
            "Epoch 12/50\n",
            "92379/92379 - 41s - loss: 1.0314 - accuracy: 0.6817 - val_loss: 1.6647 - val_accuracy: 0.5315\n",
            "Epoch 13/50\n",
            "92379/92379 - 41s - loss: 0.9820 - accuracy: 0.6955 - val_loss: 1.6987 - val_accuracy: 0.5270\n",
            "Epoch 14/50\n",
            "92379/92379 - 41s - loss: 0.9310 - accuracy: 0.7114 - val_loss: 1.7379 - val_accuracy: 0.5221\n",
            "Epoch 15/50\n",
            "92379/92379 - 41s - loss: 0.8837 - accuracy: 0.7252 - val_loss: 1.7808 - val_accuracy: 0.5217\n",
            "Epoch 16/50\n",
            "92379/92379 - 41s - loss: 0.8405 - accuracy: 0.7367 - val_loss: 1.8415 - val_accuracy: 0.5146\n",
            "Epoch 17/50\n",
            "92379/92379 - 41s - loss: 0.7954 - accuracy: 0.7518 - val_loss: 1.8854 - val_accuracy: 0.5149\n",
            "Epoch 18/50\n",
            "92379/92379 - 41s - loss: 0.7568 - accuracy: 0.7640 - val_loss: 1.9381 - val_accuracy: 0.5087\n",
            "Epoch 19/50\n",
            "92379/92379 - 41s - loss: 0.7227 - accuracy: 0.7733 - val_loss: 1.9601 - val_accuracy: 0.5095\n",
            "Epoch 20/50\n",
            "92379/92379 - 41s - loss: 0.6848 - accuracy: 0.7843 - val_loss: 2.0211 - val_accuracy: 0.5042\n",
            "Epoch 21/50\n",
            "92379/92379 - 41s - loss: 0.6499 - accuracy: 0.7960 - val_loss: 2.0810 - val_accuracy: 0.5040\n",
            "Epoch 22/50\n",
            "92379/92379 - 41s - loss: 0.6246 - accuracy: 0.8032 - val_loss: 2.0969 - val_accuracy: 0.5033\n",
            "Epoch 23/50\n",
            "92379/92379 - 41s - loss: 0.5946 - accuracy: 0.8120 - val_loss: 2.1624 - val_accuracy: 0.5011\n",
            "Epoch 24/50\n",
            "92379/92379 - 41s - loss: 0.5708 - accuracy: 0.8199 - val_loss: 2.1891 - val_accuracy: 0.5010\n",
            "Epoch 25/50\n",
            "92379/92379 - 41s - loss: 0.5458 - accuracy: 0.8277 - val_loss: 2.2496 - val_accuracy: 0.4963\n",
            "Epoch 26/50\n",
            "92379/92379 - 41s - loss: 0.5209 - accuracy: 0.8358 - val_loss: 2.2920 - val_accuracy: 0.4979\n",
            "Epoch 27/50\n",
            "92379/92379 - 41s - loss: 0.5078 - accuracy: 0.8387 - val_loss: 2.3393 - val_accuracy: 0.4926\n",
            "Epoch 28/50\n",
            "92379/92379 - 41s - loss: 0.4866 - accuracy: 0.8454 - val_loss: 2.3725 - val_accuracy: 0.4966\n",
            "Epoch 29/50\n",
            "92379/92379 - 41s - loss: 0.4683 - accuracy: 0.8503 - val_loss: 2.4284 - val_accuracy: 0.4904\n",
            "Epoch 30/50\n",
            "92379/92379 - 41s - loss: 0.4538 - accuracy: 0.8554 - val_loss: 2.4952 - val_accuracy: 0.4913\n",
            "Epoch 31/50\n",
            "92379/92379 - 41s - loss: 0.4417 - accuracy: 0.8599 - val_loss: 2.5038 - val_accuracy: 0.4894\n",
            "Epoch 32/50\n",
            "92379/92379 - 41s - loss: 0.4255 - accuracy: 0.8644 - val_loss: 2.5564 - val_accuracy: 0.4897\n",
            "Epoch 33/50\n",
            "92379/92379 - 41s - loss: 0.4121 - accuracy: 0.8682 - val_loss: 2.6064 - val_accuracy: 0.4869\n",
            "Epoch 34/50\n",
            "92379/92379 - 41s - loss: 0.4058 - accuracy: 0.8693 - val_loss: 2.6513 - val_accuracy: 0.4824\n",
            "Epoch 35/50\n",
            "92379/92379 - 41s - loss: 0.3976 - accuracy: 0.8715 - val_loss: 2.7078 - val_accuracy: 0.4794\n",
            "Epoch 36/50\n",
            "92379/92379 - 41s - loss: 0.3946 - accuracy: 0.8724 - val_loss: 2.7165 - val_accuracy: 0.4864\n",
            "Epoch 37/50\n",
            "92379/92379 - 41s - loss: 0.3869 - accuracy: 0.8742 - val_loss: 2.7353 - val_accuracy: 0.4865\n",
            "Epoch 38/50\n",
            "92379/92379 - 41s - loss: 0.3661 - accuracy: 0.8825 - val_loss: 2.7955 - val_accuracy: 0.4822\n",
            "Epoch 39/50\n",
            "92379/92379 - 41s - loss: 0.3686 - accuracy: 0.8802 - val_loss: 2.7941 - val_accuracy: 0.4840\n",
            "Epoch 40/50\n",
            "92379/92379 - 41s - loss: 0.3595 - accuracy: 0.8833 - val_loss: 2.8638 - val_accuracy: 0.4814\n",
            "Epoch 41/50\n",
            "92379/92379 - 41s - loss: 0.3564 - accuracy: 0.8845 - val_loss: 2.8812 - val_accuracy: 0.4831\n",
            "Epoch 42/50\n",
            "92379/92379 - 41s - loss: 0.3530 - accuracy: 0.8850 - val_loss: 2.8692 - val_accuracy: 0.4837\n",
            "Epoch 43/50\n",
            "92379/92379 - 41s - loss: 0.3743 - accuracy: 0.8767 - val_loss: 2.8888 - val_accuracy: 0.4869\n",
            "Epoch 44/50\n",
            "92379/92379 - 41s - loss: 0.3503 - accuracy: 0.8851 - val_loss: 2.9755 - val_accuracy: 0.4743\n",
            "Epoch 45/50\n",
            "92379/92379 - 41s - loss: 0.3417 - accuracy: 0.8868 - val_loss: 2.9768 - val_accuracy: 0.4837\n",
            "Epoch 46/50\n",
            "92379/92379 - 41s - loss: 0.3375 - accuracy: 0.8887 - val_loss: 2.9824 - val_accuracy: 0.4827\n",
            "Epoch 47/50\n",
            "92379/92379 - 41s - loss: 0.3186 - accuracy: 0.8951 - val_loss: 3.0169 - val_accuracy: 0.4824\n",
            "Epoch 48/50\n",
            "92379/92379 - 41s - loss: 0.3392 - accuracy: 0.8880 - val_loss: 3.0357 - val_accuracy: 0.4828\n",
            "Epoch 49/50\n",
            "92379/92379 - 41s - loss: 0.3233 - accuracy: 0.8933 - val_loss: 3.0772 - val_accuracy: 0.4786\n",
            "Epoch 50/50\n",
            "92379/92379 - 41s - loss: 0.3292 - accuracy: 0.8909 - val_loss: 3.0760 - val_accuracy: 0.4809\n"
          ],
          "name": "stdout"
        }
      ]
    },
    {
      "cell_type": "code",
      "metadata": {
        "id": "rktOFz_d0zAd",
        "colab_type": "code",
        "outputId": "43c37c2d-2dce-46aa-e234-24e287029ce9",
        "colab": {
          "base_uri": "https://localhost:8080/",
          "height": 34
        }
      },
      "source": [
        "tf.train.latest_checkpoint(checkpoint_dir) #second param direct file: \"ckpt_50\""
      ],
      "execution_count": 0,
      "outputs": [
        {
          "output_type": "execute_result",
          "data": {
            "text/plain": [
              "'./training_checkpoints/ckpt_30'"
            ]
          },
          "metadata": {
            "tags": []
          },
          "execution_count": 45
        }
      ]
    },
    {
      "cell_type": "code",
      "metadata": {
        "id": "I2pmrJv_07w1",
        "colab_type": "code",
        "colab": {}
      },
      "source": [
        "def generate_text(model):\n",
        "  random_index = np.random.randint(0, len(X)-1)\n",
        "  new_string = x_data[random_index]\n",
        "  print ('random seed data: ', repr(''.join(idx2char[new_string])))\n",
        "\n",
        "  text_generated = []\n",
        "\n",
        "  model.reset_states()\n",
        "  for i in range(100):\n",
        "      x = np.reshape(new_string, (1, len(new_string), 1))\n",
        "      x = x/float(vocab_length)\n",
        "\n",
        "      index = np.argmax(model.predict(x))\n",
        "      result = idx2char[index]\n",
        "\n",
        "      new_string = np.append(new_string, index)\n",
        "      new_string = new_string[1:len(new_string)]\n",
        "      text_generated.append(result)\n",
        "\n",
        "  return ''.join(text_generated)"
      ],
      "execution_count": 0,
      "outputs": []
    },
    {
      "cell_type": "code",
      "metadata": {
        "id": "IGzq8hGkpgj9",
        "colab_type": "code",
        "outputId": "57b825b4-0ca6-4117-d367-ec8fc0feaaba",
        "colab": {
          "base_uri": "https://localhost:8080/",
          "height": 441
        }
      },
      "source": [
        "import matplotlib.pyplot as plt\n",
        "\n",
        "# Make characteristics\n",
        "training_loss = history.history['loss']\n",
        "validation_loss = history.history['val_loss']\n",
        "training_acc = history.history['accuracy']\n",
        "validation_acc = history.history['val_accuracy']\n",
        "\n",
        "epoch_count = range(1, len(training_loss) + 1)\n",
        "\n",
        "f = plt.figure(figsize=(14,6))\n",
        "\n",
        "a0 = f.add_subplot(121)\n",
        "a0.plot(epoch_count, training_loss, 'r--', label=\"Training loss\")\n",
        "a0.plot(epoch_count, validation_loss, 'b-', label=\"Validation loss\")\n",
        "a0.legend()\n",
        "a0.set_title(\"Loss function\")\n",
        "a0.set_xlabel(\"Epoch\")\n",
        "plt.xlim(0, epochs)\n",
        "a0.set_ylabel(\"Loss\")\n",
        "plt.ylim(0, np.ceil(max(training_loss)))\n",
        "\n",
        "a1 = f.add_subplot(122)\n",
        "a1.plot(epoch_count, training_acc, 'r--', label=\"Training acc\")\n",
        "a1.plot(epoch_count, validation_acc, 'b-', label=\"Validation acc\")\n",
        "a1.set_title(\"Accuracy function\")\n",
        "a1.set_xlabel(\"Epoch\")\n",
        "plt.xlim(0, epochs)\n",
        "a1.set_ylabel(\"Acc\")\n",
        "plt.ylim(0, 1)\n",
        "# plt.savefig(save_directory+\"/characteristics.png\")  \n",
        "\n",
        "plt.tight_layout()\n",
        "plt.show()"
      ],
      "execution_count": 106,
      "outputs": [
        {
          "output_type": "display_data",
          "data": {
            "image/png": "[encoded data removed]",
            "text/plain": [
              "<Figure size 1008x432 with 2 Axes>"
            ]
          },
          "metadata": {
            "tags": []
          }
        }
      ]
    },
    {
      "cell_type": "code",
      "metadata": {
        "id": "p_0grRL2AvYj",
        "colab_type": "code",
        "colab": {}
      },
      "source": [
        "#Save model summary, weights, params and plots to file\n",
        "from contextlib import redirect_stdout\n",
        "\n",
        "save_directory = \"save\"\n",
        "if not os.path.exists(save_directory):\n",
        "    os.makedirs(save_directory)\n",
        "\n",
        "with open(save_directory+\"/model_summary.txt\", 'w') as f:\n",
        "    with redirect_stdout(f):\n",
        "        model.summary()\n",
        "\n",
        "with open(save_directory+\"/data_info.txt\", 'w') as f:\n",
        "    with redirect_stdout(f):\n",
        "        print(\"Data:\", directory)\n",
        "        print(\"Amount of data:\", data_length)\n",
        "        print(\"Sequence length\", sequence_length)\n",
        "        print(\"Batch size:\", batch_size)\n",
        "        print(\"Epochs:\", epochs)\n",
        "\n",
        "model.save_weights(save_directory+\"/weights.h5\")\n",
        "\n",
        "plt.savefig(save_directory+\"/characteristics.png\")  "
      ],
      "execution_count": 0,
      "outputs": []
    },
    {
      "cell_type": "code",
      "metadata": {
        "id": "Ug44Zupcrz67",
        "colab_type": "code",
        "colab": {}
      },
      "source": [
        "from google.colab import drive\n",
        "drive.mount('/content/drive')"
      ],
      "execution_count": 0,
      "outputs": []
    },
    {
      "cell_type": "code",
      "metadata": {
        "id": "hZcRkB_TprQP",
        "colab_type": "code",
        "outputId": "dc9f9101-30bf-4d7a-b8a7-7f29ff44ba4a",
        "colab": {
          "base_uri": "https://localhost:8080/",
          "height": 50
        }
      },
      "source": [
        "print(generate_text(model))\n",
        "# margaret tried up the home that noone else way his head kep"
      ],
      "execution_count": 107,
      "outputs": [
        {
          "output_type": "stream",
          "text": [
            "random seed data:  'er that later on once the difficulty has been removed he will certainly work with all the more dilig'\n",
            "ent on the window open from then on the floor only where he was heamilg to darce himself and which h\n"
          ],
          "name": "stdout"
        }
      ]
    }
  ]
}