{
  "nbformat": 4,
  "nbformat_minor": 0,
  "metadata": {
    "colab": {
      "name": "character_prediction.ipynb",
      "provenance": [],
      "collapsed_sections": [],
      "include_colab_link": true
    },
    "kernelspec": {
      "name": "python3",
      "display_name": "Python 3"
    }
  },
  "cells": [
    {
      "cell_type": "markdown",
      "metadata": {
        "id": "view-in-github",
        "colab_type": "text"
      },
      "source": [
        "<a href=\"https://colab.research.google.com/github/michalovsky/character_prediction/blob/master/character_prediction.ipynb\" target=\"_parent\"><img src=\"https://colab.research.google.com/assets/colab-badge.svg\" alt=\"Open In Colab\"/></a>"
      ]
    },
    {
      "cell_type": "code",
      "metadata": {
        "id": "3RoKNH7o0bTR",
        "colab_type": "code",
        "colab": {
          "base_uri": "https://localhost:8080/",
          "height": 134
        },
        "outputId": "318ea289-360d-4e0d-fd22-e56121f9c2d2"
      },
      "source": [
        "from __future__ import absolute_import, division, print_function, unicode_literals\n",
        "\n",
        "import tensorflow as tf\n",
        "tf.enable_eager_execution()\n",
        "from tensorflow.keras.callbacks import EarlyStopping as EarlyStopping\n",
        "from tensorflow.python.client import device_lib\n",
        "from tensorflow.keras.layers import Activation\n",
        "import numpy as np\n",
        "import os\n",
        "import re\n",
        "import time\n",
        "import string\n",
        "\n",
        "file = open('lotr.txt','rt')\n",
        "text = file.read()\n",
        "file.close()\n",
        "\n",
        "chars_to_remove = ['…', '‚', '’', '‘', 'ó', '»', 'µ', '®', '«', '¥', '¤', '¢', '}', '{', '—', '_', '=', ';', '~', '`',\n",
        "                   '#', '!', '\\\"', '#', '&', \"\\'\", '(', ')', ',', '-', '.', '/', ':', '*', '[', ']', '\\\\', '|', '?', '–']\n",
        "\n",
        "for char_to_remove in chars_to_remove:\n",
        "  text = text.replace(char_to_remove, \"\")\n",
        "  \n",
        "text = text.lower()\n",
        "\n",
        "#split text into words\n",
        "# words = text.split(\" \")\n",
        "# print(*words)\n",
        "\n",
        "vocab = sorted(set(text))\n",
        "print ('{} unique characters'.format(len(vocab)))\n",
        "\n",
        "# Creating a mapping from unique characters to indices\n",
        "char2idx = {u:i for i, u in enumerate(vocab)}\n",
        "idx2char = np.array(vocab)\n",
        "    \n",
        "# print('{')\n",
        "# for char in char2idx:\n",
        "#     print('  {:4s}: {:3d},'.format(repr(char), char2idx[char]))\n",
        "# print('}')\n",
        "  \n",
        "  \n",
        "encoded = np.array([char2idx[ch] for ch in text])  \n",
        "# text[:100]\n",
        "encoded[:100]\n",
        "  \n",
        "  \n",
        "# def one_with_zeros_encode(arr, n_labels):\n",
        "#   one_zeros = np.zeros((np.multiply(*arr.shape)))\n",
        "#   one_zeros[np.arrange(one_zeros.shape[0]), arr.flatten()] = 1.\n",
        "#   one_zeros = one_zeros.reshape((*arr.shape, n_labels))\n",
        "\n",
        " \n",
        "\n",
        "\n",
        "\n",
        "\n",
        "\n"
      ],
      "execution_count": 42,
      "outputs": [
        {
          "output_type": "stream",
          "text": [
            "38 unique characters\n"
          ],
          "name": "stdout"
        },
        {
          "output_type": "execute_result",
          "data": {
            "text/plain": [
              "array([ 0,  0,  0, 20, 25,  1, 12,  1, 19, 26, 23, 16,  1, 20, 25,  1, 31,\n",
              "       19, 16,  1, 18, 29, 26, 32, 25, 15,  1, 31, 19, 16, 29, 16,  1, 23,\n",
              "       20, 33, 16, 15,  1, 12,  1, 19, 26, 13, 13, 20, 31,  1, 25, 26, 31,\n",
              "        1, 12,  1, 25, 12, 30, 31, 36,  1, 15, 20, 29, 31, 36,  1, 34, 16,\n",
              "       31,  1, 19, 26, 23, 16,  1, 17, 20, 23, 23, 16, 15,  1, 34, 20, 31,\n",
              "       19,  1,  0, 31, 19, 16,  1, 16, 25, 15, 30,  1, 26, 17,  1])"
            ]
          },
          "metadata": {
            "tags": []
          },
          "execution_count": 42
        }
      ]
    }
  ]
}