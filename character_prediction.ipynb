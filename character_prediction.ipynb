{
  "nbformat": 4,
  "nbformat_minor": 0,
  "metadata": {
    "colab": {
      "name": "character_prediction.ipynb",
      "provenance": [],
      "collapsed_sections": []
    },
    "kernelspec": {
      "name": "python3",
      "display_name": "Python 3"
    },
    "accelerator": "GPU"
  },
  "cells": [
    {
      "cell_type": "code",
      "metadata": {
        "id": "Lmgy6GCVFf_j",
        "colab_type": "code",
        "colab": {
          "base_uri": "https://localhost:8080/",
          "height": 571
        },
        "outputId": "01d12ada-16dd-4813-d70d-37a6f6392cf5"
      },
      "source": [
        "from __future__ import absolute_import, division, print_function, unicode_literals\n",
        "%tensorflow_version 2.x\n",
        "import tensorflow as tf\n",
        "print(tf.__version__)\n",
        "from tensorflow.keras.callbacks import EarlyStopping as EarlyStopping\n",
        "from tensorflow.python.client import device_lib\n",
        "from tensorflow.keras.layers import Activation\n",
        "print(device_lib.list_local_devices())\n",
        "print(tf.test.gpu_device_name())\n",
        "import numpy as np\n",
        "import os\n",
        "import re\n",
        "import time\n",
        "import string\n",
        "import glob"
      ],
      "execution_count": 24,
      "outputs": [
        {
          "output_type": "stream",
          "text": [
            "2.0.0\n",
            "[name: \"/device:CPU:0\"\n",
            "device_type: \"CPU\"\n",
            "memory_limit: 268435456\n",
            "locality {\n",
            "}\n",
            "incarnation: 10863907423894129598\n",
            ", name: \"/device:XLA_CPU:0\"\n",
            "device_type: \"XLA_CPU\"\n",
            "memory_limit: 17179869184\n",
            "locality {\n",
            "}\n",
            "incarnation: 7447499130611775932\n",
            "physical_device_desc: \"device: XLA_CPU device\"\n",
            ", name: \"/device:XLA_GPU:0\"\n",
            "device_type: \"XLA_GPU\"\n",
            "memory_limit: 17179869184\n",
            "locality {\n",
            "}\n",
            "incarnation: 16651030693836257992\n",
            "physical_device_desc: \"device: XLA_GPU device\"\n",
            ", name: \"/device:GPU:0\"\n",
            "device_type: \"GPU\"\n",
            "memory_limit: 11330115994\n",
            "locality {\n",
            "  bus_id: 1\n",
            "  links {\n",
            "  }\n",
            "}\n",
            "incarnation: 14506785095655576978\n",
            "physical_device_desc: \"device: 0, name: Tesla K80, pci bus id: 0000:00:04.0, compute capability: 3.7\"\n",
            "]\n",
            "/device:GPU:0\n"
          ],
          "name": "stdout"
        }
      ]
    },
    {
      "cell_type": "code",
      "metadata": {
        "id": "U_UGziQ1LuOv",
        "colab_type": "code",
        "colab": {
          "base_uri": "https://localhost:8080/",
          "height": 118
        },
        "outputId": "0e099941-7dd8-4cf8-9360-efbd4de0b0ee"
      },
      "source": [
        "!git clone https://github.com/michalovsky/trilogy_data.git"
      ],
      "execution_count": 2,
      "outputs": [
        {
          "output_type": "stream",
          "text": [
            "Cloning into 'trilogy_data'...\n",
            "remote: Enumerating objects: 13, done.\u001b[K\n",
            "remote: Counting objects: 100% (13/13), done.\u001b[K\n",
            "remote: Compressing objects: 100% (11/11), done.\u001b[K\n",
            "remote: Total 13 (delta 0), reused 8 (delta 0), pack-reused 0\u001b[K\n",
            "Unpacking objects: 100% (13/13), done.\n"
          ],
          "name": "stdout"
        }
      ]
    },
    {
      "cell_type": "code",
      "metadata": {
        "id": "8yOZbDntMiSH",
        "colab_type": "code",
        "colab": {
          "base_uri": "https://localhost:8080/",
          "height": 34
        },
        "outputId": "d6165839-f908-40d8-af10-f62b2d7eb2a6"
      },
      "source": [
        "#Read all file paths from directory\n",
        "directory = \"trilogy_data/\"\n",
        "file_paths = glob.glob(directory +\"*.txt\")    \n",
        "print(\"Found\", len(file_paths), \"text files in directory:\", directory)"
      ],
      "execution_count": 25,
      "outputs": [
        {
          "output_type": "stream",
          "text": [
            "Found 3 text files in directory: trilogy_data/\n"
          ],
          "name": "stdout"
        }
      ]
    },
    {
      "cell_type": "code",
      "metadata": {
        "id": "3NmsP_xHPnRe",
        "colab_type": "code",
        "colab": {
          "base_uri": "https://localhost:8080/",
          "height": 34
        },
        "outputId": "9bcd4c8e-6d61-496d-9843-6927ef291ffc"
      },
      "source": [
        "# Extract text from all text files\n",
        "text = \"\"\n",
        "\n",
        "for file_path in file_paths:\n",
        "    with open(file_path, 'r') as file:\n",
        "        file_content = file.read()\n",
        "        #remove file beginning\n",
        "        file_content = file_content[file_content.find(\"ISBN\") + len(\"ISBN\"):]\n",
        "        #remove file ending\n",
        "        file_content = file_content[:file_content.rfind(\"-----\")]\n",
        "        text+=file_content\n",
        "print ('Length of text: {} characters'.format(len(text)))"
      ],
      "execution_count": 26,
      "outputs": [
        {
          "output_type": "stream",
          "text": [
            "Length of text: 2583333 characters\n"
          ],
          "name": "stdout"
        }
      ]
    },
    {
      "cell_type": "code",
      "metadata": {
        "id": "_FNF_i6cF1b7",
        "colab_type": "code",
        "outputId": "8ccbe805-8e38-42c3-98eb-094038f27ea2",
        "colab": {
          "base_uri": "https://localhost:8080/",
          "height": 34
        }
      },
      "source": [
        "# Preprocess data\n",
        "\n",
        "punctuation_translator = str.maketrans('–—”„…«»', '       ', string.punctuation)\n",
        "digits_translator = str.maketrans('', '', string.digits)\n",
        "polish_characters_translator = str.maketrans('ąćęłńóśźż', 'acelnoszz', 'äöü')\n",
        "\n",
        "# remove redundant characters and replace polish characters\n",
        "text = text.lower().translate(punctuation_translator).translate(digits_translator).translate(polish_characters_translator)\n",
        "\n",
        "# remove \"tom <number>\" strings \n",
        "text = re.sub(r\"\\ntom\\s(.*)\\n\", \"\", text)\n",
        "\n",
        "# remove \"rozdzial <number>\" strings \n",
        "text = re.sub(r\"\\nrozdzial\\s(.*)\\n\", \"\", text)\n",
        "\n",
        "#remove extra spaces and new lines\n",
        "text = ' '.join(text.split())\n",
        "\n",
        "print ('Length of text after preprocessing: {} characters'.format(len(text)))\n",
        "\n",
        "vocab = sorted(set(text))"
      ],
      "execution_count": 27,
      "outputs": [
        {
          "output_type": "stream",
          "text": [
            "Length of text after preprocessing: 2458504 characters\n"
          ],
          "name": "stdout"
        }
      ]
    },
    {
      "cell_type": "code",
      "metadata": {
        "id": "2HCZY-GZGQ14",
        "colab_type": "code",
        "outputId": "68b431b8-11bb-40f4-f260-0eac672cc281",
        "colab": {
          "base_uri": "https://localhost:8080/",
          "height": 34
        }
      },
      "source": [
        "# split text into words\n",
        "words = text.split(\" \")\n",
        "print ('Amount of words: {}'.format(len(words)))"
      ],
      "execution_count": 28,
      "outputs": [
        {
          "output_type": "stream",
          "text": [
            "Amount of words: 399021\n"
          ],
          "name": "stdout"
        }
      ]
    },
    {
      "cell_type": "code",
      "metadata": {
        "id": "ppJ2hrDqGUtP",
        "colab_type": "code",
        "colab": {}
      },
      "source": [
        "# Creating a mapping from unique characters to indices\n",
        "char2idx = {u:i for i, u in enumerate(vocab)}\n",
        "idx2char = np.array(vocab)\n",
        "\n",
        "#encode text from characters to numbers  \n",
        "encoded = np.array([char2idx[ch] for ch in text])  "
      ],
      "execution_count": 0,
      "outputs": []
    },
    {
      "cell_type": "code",
      "metadata": {
        "id": "dGskc03TGZ--",
        "colab_type": "code",
        "colab": {
          "base_uri": "https://localhost:8080/",
          "height": 521
        },
        "outputId": "69257cea-298d-4069-8bf8-f99373cb16d9"
      },
      "source": [
        "# Print unique characters\n",
        "print ('{} unique characters:'.format(len(vocab)))\n",
        "\n",
        "print('{')\n",
        "for char in char2idx:\n",
        "    print('  {:4s}:{:3d},'.format(repr(char), char2idx[char]))\n",
        "print('}')"
      ],
      "execution_count": 30,
      "outputs": [
        {
          "output_type": "stream",
          "text": [
            "27 unique characters:\n",
            "{\n",
            "  ' ' :  0,\n",
            "  'a' :  1,\n",
            "  'b' :  2,\n",
            "  'c' :  3,\n",
            "  'd' :  4,\n",
            "  'e' :  5,\n",
            "  'f' :  6,\n",
            "  'g' :  7,\n",
            "  'h' :  8,\n",
            "  'i' :  9,\n",
            "  'j' : 10,\n",
            "  'k' : 11,\n",
            "  'l' : 12,\n",
            "  'm' : 13,\n",
            "  'n' : 14,\n",
            "  'o' : 15,\n",
            "  'p' : 16,\n",
            "  'q' : 17,\n",
            "  'r' : 18,\n",
            "  's' : 19,\n",
            "  't' : 20,\n",
            "  'u' : 21,\n",
            "  'v' : 22,\n",
            "  'w' : 23,\n",
            "  'x' : 24,\n",
            "  'y' : 25,\n",
            "  'z' : 26,\n",
            "}\n"
          ],
          "name": "stdout"
        }
      ]
    },
    {
      "cell_type": "code",
      "metadata": {
        "id": "D4T1FgjiGg8d",
        "colab_type": "code",
        "colab": {}
      },
      "source": [
        "# The maximum length sentence we want for a single input in characters\n",
        "sequence_length = 100\n",
        "examples_per_epoch = len(encoded)//sequence_length\n",
        "\n",
        "# Create trainging examples\n",
        "char_dataset = tf.data.Dataset.from_tensor_slices(encoded)\n",
        "\n",
        "# Create sequences from dataset\n",
        "sequences = char_dataset.batch(sequence_length+1, drop_remainder=True)"
      ],
      "execution_count": 0,
      "outputs": []
    },
    {
      "cell_type": "code",
      "metadata": {
        "id": "gjdTeUmqIkuH",
        "colab_type": "code",
        "colab": {
          "base_uri": "https://localhost:8080/",
          "height": 185
        },
        "outputId": "3f3f2f17-c7ed-492e-df9e-0b80c5aec7f8"
      },
      "source": [
        "#first 10 sequence batches\n",
        "for item in sequences.take(10):\n",
        "  print(repr(''.join(idx2char[item.numpy()])))"
      ],
      "execution_count": 32,
      "outputs": [
        {
          "output_type": "stream",
          "text": [
            "'rok byl to dziwny rok w ktorym rozmaite znaki na niebie i ziemi zwiastowaly jakowes kleski i nadzwycz'\n",
            "'ajne zdarzenia wspolczesni kronikarze wspominaja iz z wiosny szarancza w nieslychanej ilosci wyroila '\n",
            "'sie z dzikich pol i zniszczyla zasiewy i trawy co bylo przepowiednia napadow tatarskich latem zdarzyl'\n",
            "'o sie wielkie zacmienie slonca a wkrotce potem kometa pojawila sie na niebie w warszawie widywano tez'\n",
            "' nad miastem mogile i krzyz ognisty w oblokach odprawiano wiec posty i dawano jalmuzny gdyz niektorzy'\n",
            "' twierdzili ze zaraza spadnie na kraj i wygubi rodzaj ludzki nareszcie zima nastala tak lekka ze najs'\n",
            "'tarsi ludzie nie pamietali podobnej w poludniowych wojewodztwach lody nie popetaly wcale wod ktore po'\n",
            "'dsycane topniejacym kazdego ranka sniegiem wystapily z lozysk i pozalewaly brzegi padaly czeste deszc'\n",
            "'ze step rozmokl i zmienil sie w wielka kaluze slonce zas w poludnie dogrzewalo tak mocno ze dziw nad '\n",
            "'dziwy w wojewodztwie braclawskim i na dzikich polach zielona run okryla stepy i rozlogi juz w polowie'\n"
          ],
          "name": "stdout"
        }
      ]
    },
    {
      "cell_type": "code",
      "metadata": {
        "id": "7UkKhz-ZJNUq",
        "colab_type": "code",
        "colab": {}
      },
      "source": [
        "# Transform each sequence into two sequences: input(same as sequence), target (shifted by one index)\n",
        "\n",
        "def split_input_target(chunk):\n",
        "  input_text = chunk[:-1]\n",
        "  target_text = chunk[1:]\n",
        "  return input_text, target_text\n",
        "\n",
        "dataset = sequences.map(split_input_target)"
      ],
      "execution_count": 0,
      "outputs": []
    },
    {
      "cell_type": "code",
      "metadata": {
        "id": "Pkz--QEZJY-P",
        "colab_type": "code",
        "outputId": "4e0bb752-cd27-4540-edf5-96cf0b3efd46",
        "colab": {
          "base_uri": "https://localhost:8080/",
          "height": 50
        }
      },
      "source": [
        "# First input data and corresponding target data\n",
        "for input_example, target_example in  dataset.take(1):\n",
        "  print ('Input data: ', repr(''.join(idx2char[input_example.numpy()])))\n",
        "  print ('Target data:', repr(''.join(idx2char[target_example.numpy()])))"
      ],
      "execution_count": 34,
      "outputs": [
        {
          "output_type": "stream",
          "text": [
            "Input data:  'rok byl to dziwny rok w ktorym rozmaite znaki na niebie i ziemi zwiastowaly jakowes kleski i nadzwyc'\n",
            "Target data: 'ok byl to dziwny rok w ktorym rozmaite znaki na niebie i ziemi zwiastowaly jakowes kleski i nadzwycz'\n"
          ],
          "name": "stdout"
        }
      ]
    },
    {
      "cell_type": "code",
      "metadata": {
        "id": "r0qPZGAFK5Lt",
        "colab_type": "code",
        "colab": {}
      },
      "source": [
        "# Shuffle dataset\n",
        "batch_size = 64\n",
        "steps_per_epoch = examples_per_epoch//batch_size\n",
        "buffer_size = 10000\n",
        "dataset = dataset.shuffle(buffer_size).batch(batch_size, drop_remainder=True)"
      ],
      "execution_count": 0,
      "outputs": []
    },
    {
      "cell_type": "code",
      "metadata": {
        "id": "q9PCsVlDLV2G",
        "colab_type": "code",
        "colab": {}
      },
      "source": [
        "# Testing the GPU presence before feeding the model to take advantage of the tensorflow GRU gpu implemenation\n",
        "if tf.test.is_gpu_available():\n",
        "  rnn = tf.keras.layers.LSTM\n",
        "else:\n",
        "  import functools\n",
        "  rnn = functools.partial(\n",
        "    tf.keras.layers.GRU, recurrent_activation='sigmoid')"
      ],
      "execution_count": 0,
      "outputs": []
    },
    {
      "cell_type": "code",
      "metadata": {
        "id": "kP5shCZiLf6g",
        "colab_type": "code",
        "colab": {}
      },
      "source": [
        "# Defining function building model with two GRU Rnn layers and output to dense layer \n",
        "def build_model(vocab_size, embedding_dim, rnn_units, batch_size):\n",
        "    model = tf.keras.Sequential([\n",
        "        tf.keras.layers.Embedding(vocab_size, embedding_dim,\n",
        "                                  batch_input_shape=[batch_size, None]),\n",
        "        rnn(rnn_units,\n",
        "            return_sequences=True,\n",
        "            recurrent_initializer='glorot_uniform',\n",
        "            stateful=True),\n",
        "        rnn(rnn_units,\n",
        "            return_sequences=True,\n",
        "            recurrent_initializer='glorot_uniform',\n",
        "            stateful=True),\n",
        "    \n",
        "        tf.keras.layers.Dense(vocab_size)])\n",
        "    return model"
      ],
      "execution_count": 0,
      "outputs": []
    },
    {
      "cell_type": "code",
      "metadata": {
        "id": "FzvlR2Z1M5-r",
        "colab_type": "code",
        "colab": {}
      },
      "source": [
        "# Build model\n",
        "\n",
        "# Length of the vocabulary (amount of unique characters)\n",
        "vocab_size = len(vocab)\n",
        "\n",
        "# The embedding dimension\n",
        "embedding_dim = 256\n",
        "\n",
        "# Number of RNN units\n",
        "rnn_units = 1024\n",
        "\n",
        "model = build_model(vocab_size, embedding_dim, rnn_units, batch_size)"
      ],
      "execution_count": 0,
      "outputs": []
    },
    {
      "cell_type": "code",
      "metadata": {
        "id": "CR5QfiXyM-Ud",
        "colab_type": "code",
        "outputId": "b8c994da-8617-4c4e-f605-ab95e0d40930",
        "colab": {
          "base_uri": "https://localhost:8080/",
          "height": 302
        }
      },
      "source": [
        "# Model informations\n",
        "for input_example_batch, target_example_batch in dataset.take(1):\n",
        "  example_batch_predictions = model(input_example_batch)\n",
        "  print(example_batch_predictions.shape, \"# (batch_size, sequence_length, vocab_size)\")\n",
        "    \n",
        "model.summary()"
      ],
      "execution_count": 39,
      "outputs": [
        {
          "output_type": "stream",
          "text": [
            "(64, 100, 27) # (batch_size, sequence_length, vocab_size)\n",
            "Model: \"sequential_1\"\n",
            "_________________________________________________________________\n",
            "Layer (type)                 Output Shape              Param #   \n",
            "=================================================================\n",
            "embedding_1 (Embedding)      (64, None, 256)           6912      \n",
            "_________________________________________________________________\n",
            "lstm_2 (LSTM)                (64, None, 1024)          5246976   \n",
            "_________________________________________________________________\n",
            "lstm_3 (LSTM)                (64, None, 1024)          8392704   \n",
            "_________________________________________________________________\n",
            "dense_1 (Dense)              (64, None, 27)            27675     \n",
            "=================================================================\n",
            "Total params: 13,674,267\n",
            "Trainable params: 13,674,267\n",
            "Non-trainable params: 0\n",
            "_________________________________________________________________\n"
          ],
          "name": "stdout"
        }
      ]
    },
    {
      "cell_type": "code",
      "metadata": {
        "id": "4lbCzzfTOAIH",
        "colab_type": "code",
        "colab": {
          "base_uri": "https://localhost:8080/",
          "height": 84
        },
        "outputId": "6fe9118e-e897-4713-be6c-9e3cb972db1a"
      },
      "source": [
        "# Get first predictions\n",
        "\n",
        "sampled_indices = tf.random.categorical(example_batch_predictions[0], num_samples=1)\n",
        "sampled_indices = tf.squeeze(sampled_indices,axis=-1).numpy()\n",
        "\n",
        "print(\"Input: \\n\", repr(\"\".join(idx2char[input_example_batch[0]])))\n",
        "print(\"Next character predictions: \\n\", repr(\"\".join(idx2char[sampled_indices ])))"
      ],
      "execution_count": 40,
      "outputs": [
        {
          "output_type": "stream",
          "text": [
            "Input: \n",
            " 'ami przed kuznia z gwarem rozmow ze szczekaniem psow widzac to wszystko pan zagloba skrecil zaraz w '\n",
            "Next character predictions: \n",
            " 'qjhngjhukxpzbvlvvessvjodfdhzhphjoqjhgcmgwojndruuadvbnmcjbwk xqkxqpzhznuhwcirfgkgurujintoqhhsrvyyospt'\n"
          ],
          "name": "stdout"
        }
      ]
    },
    {
      "cell_type": "code",
      "metadata": {
        "id": "9iaRDzX8Pv4T",
        "colab_type": "code",
        "colab": {
          "base_uri": "https://localhost:8080/",
          "height": 50
        },
        "outputId": "ad266d81-ed77-40c1-9b41-8eee44442635"
      },
      "source": [
        "# Define loss function\n",
        "\n",
        "def loss(labels, logits):\n",
        "  return tf.keras.losses.sparse_categorical_crossentropy(labels, logits, from_logits=True)\n",
        "\n",
        "example_batch_loss  = loss(target_example_batch, example_batch_predictions)\n",
        "print(\"Prediction shape: \", example_batch_predictions.shape, \" # (batch_size, sequence_length, vocab_size)\")\n",
        "print(\"scalar_loss:      \", example_batch_loss.numpy().mean())"
      ],
      "execution_count": 41,
      "outputs": [
        {
          "output_type": "stream",
          "text": [
            "Prediction shape:  (64, 100, 27)  # (batch_size, sequence_length, vocab_size)\n",
            "scalar_loss:       3.2954612\n"
          ],
          "name": "stdout"
        }
      ]
    },
    {
      "cell_type": "code",
      "metadata": {
        "id": "S6h5D-t_WgG9",
        "colab_type": "code",
        "colab": {}
      },
      "source": [
        "model.compile(\n",
        "    optimizer = tf.optimizers.Adam(),\n",
        "    loss = loss)"
      ],
      "execution_count": 0,
      "outputs": []
    },
    {
      "cell_type": "code",
      "metadata": {
        "id": "-DN9MDmbWsRb",
        "colab_type": "code",
        "colab": {}
      },
      "source": [
        "# Directory where the checkpoints will be saved\n",
        "checkpoint_dir = './training_checkpoints'\n",
        "# Name of the checkpoint files\n",
        "checkpoint_prefix = os.path.join(checkpoint_dir, \"ckpt_{epoch}\")\n",
        "\n",
        "es = EarlyStopping(monitor='loss', mode='min', verbose=2, patience=200)\n",
        "\n",
        "checkpoint_callback = tf.keras.callbacks.ModelCheckpoint(\n",
        "    filepath=checkpoint_prefix,\n",
        "    save_weights_only=True)"
      ],
      "execution_count": 0,
      "outputs": []
    },
    {
      "cell_type": "code",
      "metadata": {
        "id": "2fOu1Sdv0juJ",
        "colab_type": "code",
        "colab": {}
      },
      "source": [
        "epochs = 200"
      ],
      "execution_count": 0,
      "outputs": []
    },
    {
      "cell_type": "code",
      "metadata": {
        "id": "ckKUs9m20mXz",
        "colab_type": "code",
        "colab": {
          "base_uri": "https://localhost:8080/",
          "height": 1000
        },
        "outputId": "24e13f89-a08a-42c5-8dfa-cc68dee2b9e8"
      },
      "source": [
        "history = model.fit(dataset.repeat(), epochs=epochs, steps_per_epoch=steps_per_epoch, verbose=2,callbacks=[checkpoint_callback, es])"
      ],
      "execution_count": 48,
      "outputs": [
        {
          "output_type": "stream",
          "text": [
            "Train for 384 steps\n",
            "Epoch 1/200\n",
            "384/384 - 138s - loss: 1.3642\n",
            "Epoch 2/200\n",
            "384/384 - 137s - loss: 1.3127\n",
            "Epoch 3/200\n",
            "384/384 - 137s - loss: 1.2667\n",
            "Epoch 4/200\n",
            "384/384 - 137s - loss: 1.2235\n",
            "Epoch 5/200\n",
            "384/384 - 137s - loss: 1.1782\n",
            "Epoch 6/200\n",
            "384/384 - 137s - loss: 1.1332\n",
            "Epoch 7/200\n",
            "384/384 - 137s - loss: 1.0855\n",
            "Epoch 8/200\n",
            "384/384 - 137s - loss: 1.0356\n",
            "Epoch 9/200\n",
            "384/384 - 137s - loss: 0.9863\n",
            "Epoch 10/200\n",
            "384/384 - 137s - loss: 0.9371\n",
            "Epoch 11/200\n",
            "384/384 - 137s - loss: 0.8877\n",
            "Epoch 12/200\n",
            "384/384 - 137s - loss: 0.8422\n",
            "Epoch 13/200\n",
            "384/384 - 137s - loss: 0.7983\n",
            "Epoch 14/200\n",
            "384/384 - 137s - loss: 0.7588\n",
            "Epoch 15/200\n",
            "384/384 - 137s - loss: 0.7214\n",
            "Epoch 16/200\n",
            "384/384 - 137s - loss: 0.6897\n",
            "Epoch 17/200\n",
            "384/384 - 137s - loss: 0.6591\n",
            "Epoch 18/200\n",
            "384/384 - 137s - loss: 0.6327\n",
            "Epoch 19/200\n",
            "384/384 - 137s - loss: 0.6096\n",
            "Epoch 20/200\n",
            "384/384 - 137s - loss: 0.5907\n",
            "Epoch 21/200\n",
            "384/384 - 137s - loss: 0.5732\n",
            "Epoch 22/200\n",
            "384/384 - 137s - loss: 0.5586\n",
            "Epoch 23/200\n",
            "384/384 - 137s - loss: 0.5457\n",
            "Epoch 24/200\n",
            "384/384 - 137s - loss: 0.5336\n",
            "Epoch 25/200\n",
            "384/384 - 137s - loss: 0.5241\n",
            "Epoch 26/200\n",
            "384/384 - 137s - loss: 0.5163\n",
            "Epoch 27/200\n",
            "384/384 - 137s - loss: 0.5097\n",
            "Epoch 28/200\n",
            "384/384 - 137s - loss: 0.5041\n",
            "Epoch 29/200\n",
            "384/384 - 137s - loss: 0.4969\n",
            "Epoch 30/200\n",
            "384/384 - 137s - loss: 0.4925\n",
            "Epoch 31/200\n",
            "384/384 - 137s - loss: 0.4879\n",
            "Epoch 32/200\n",
            "384/384 - 137s - loss: 0.4858\n",
            "Epoch 33/200\n",
            "384/384 - 137s - loss: 0.4815\n",
            "Epoch 34/200\n",
            "384/384 - 137s - loss: 0.4785\n",
            "Epoch 35/200\n",
            "384/384 - 137s - loss: 0.4769\n",
            "Epoch 36/200\n",
            "384/384 - 137s - loss: 0.4738\n",
            "Epoch 37/200\n",
            "384/384 - 137s - loss: 0.4726\n",
            "Epoch 38/200\n",
            "384/384 - 137s - loss: 0.4698\n",
            "Epoch 39/200\n",
            "384/384 - 137s - loss: 0.4665\n",
            "Epoch 40/200\n",
            "384/384 - 137s - loss: 0.4665\n",
            "Epoch 41/200\n",
            "384/384 - 136s - loss: 0.4658\n",
            "Epoch 42/200\n",
            "384/384 - 136s - loss: 0.4648\n",
            "Epoch 43/200\n",
            "384/384 - 137s - loss: 0.4643\n",
            "Epoch 44/200\n",
            "384/384 - 137s - loss: 0.4635\n",
            "Epoch 45/200\n",
            "384/384 - 137s - loss: 0.4626\n",
            "Epoch 46/200\n",
            "384/384 - 137s - loss: 0.4606\n",
            "Epoch 47/200\n",
            "384/384 - 137s - loss: 0.4606\n",
            "Epoch 48/200\n",
            "384/384 - 137s - loss: 0.4609\n",
            "Epoch 49/200\n",
            "384/384 - 136s - loss: 0.4614\n",
            "Epoch 50/200\n",
            "384/384 - 137s - loss: 0.4584\n",
            "Epoch 51/200\n",
            "384/384 - 137s - loss: 0.4596\n",
            "Epoch 52/200\n",
            "384/384 - 137s - loss: 0.4598\n",
            "Epoch 53/200\n",
            "384/384 - 137s - loss: 0.4598\n",
            "Epoch 54/200\n",
            "384/384 - 137s - loss: 0.4593\n",
            "Epoch 55/200\n",
            "384/384 - 137s - loss: 0.4591\n",
            "Epoch 56/200\n",
            "384/384 - 137s - loss: 0.4578\n",
            "Epoch 57/200\n",
            "384/384 - 137s - loss: 0.4588\n",
            "Epoch 58/200\n",
            "384/384 - 137s - loss: 0.4614\n",
            "Epoch 59/200\n",
            "384/384 - 137s - loss: 0.4603\n",
            "Epoch 60/200\n",
            "384/384 - 137s - loss: 0.4612\n",
            "Epoch 61/200\n",
            "384/384 - 137s - loss: 0.4610\n",
            "Epoch 62/200\n",
            "384/384 - 137s - loss: 0.4619\n",
            "Epoch 63/200\n",
            "384/384 - 137s - loss: 0.4608\n",
            "Epoch 64/200\n",
            "384/384 - 137s - loss: 0.4627\n",
            "Epoch 65/200\n",
            "384/384 - 136s - loss: 0.4609\n",
            "Epoch 66/200\n",
            "384/384 - 136s - loss: 0.4640\n",
            "Epoch 67/200\n",
            "384/384 - 137s - loss: 0.4649\n",
            "Epoch 68/200\n",
            "384/384 - 137s - loss: 0.4652\n",
            "Epoch 69/200\n",
            "384/384 - 137s - loss: 0.4662\n",
            "Epoch 70/200\n",
            "384/384 - 137s - loss: 0.4668\n",
            "Epoch 71/200\n",
            "384/384 - 137s - loss: 0.4665\n",
            "Epoch 72/200\n",
            "384/384 - 136s - loss: 0.4685\n",
            "Epoch 73/200\n",
            "384/384 - 137s - loss: 0.4676\n",
            "Epoch 74/200\n",
            "384/384 - 137s - loss: 0.4704\n",
            "Epoch 75/200\n",
            "384/384 - 137s - loss: 0.4715\n",
            "Epoch 76/200\n",
            "384/384 - 137s - loss: 0.4713\n",
            "Epoch 77/200\n",
            "384/384 - 136s - loss: 0.4737\n",
            "Epoch 78/200\n",
            "384/384 - 137s - loss: 0.4734\n",
            "Epoch 79/200\n",
            "384/384 - 137s - loss: 0.4753\n",
            "Epoch 80/200\n",
            "384/384 - 137s - loss: 0.4776\n",
            "Epoch 81/200\n",
            "384/384 - 136s - loss: 0.4792\n",
            "Epoch 82/200\n",
            "384/384 - 136s - loss: 0.4797\n",
            "Epoch 83/200\n",
            "384/384 - 137s - loss: 0.4785\n",
            "Epoch 84/200\n",
            "384/384 - 137s - loss: 0.4802\n",
            "Epoch 85/200\n",
            "384/384 - 137s - loss: 0.4820\n",
            "Epoch 86/200\n",
            "384/384 - 137s - loss: 0.4840\n",
            "Epoch 87/200\n",
            "384/384 - 137s - loss: 0.4855\n",
            "Epoch 88/200\n",
            "384/384 - 137s - loss: 0.4877\n",
            "Epoch 89/200\n",
            "384/384 - 137s - loss: 0.4897\n",
            "Epoch 90/200\n",
            "384/384 - 137s - loss: 0.4925\n",
            "Epoch 91/200\n",
            "384/384 - 137s - loss: 0.4932\n",
            "Epoch 92/200\n",
            "384/384 - 137s - loss: 0.4922\n",
            "Epoch 93/200\n",
            "384/384 - 137s - loss: 0.4962\n",
            "Epoch 94/200\n",
            "384/384 - 137s - loss: 0.4956\n",
            "Epoch 95/200\n",
            "384/384 - 136s - loss: 0.4979\n",
            "Epoch 96/200\n",
            "384/384 - 138s - loss: 0.4991\n",
            "Epoch 97/200\n",
            "384/384 - 136s - loss: 0.5002\n",
            "Epoch 98/200\n",
            "384/384 - 136s - loss: 0.5045\n",
            "Epoch 99/200\n",
            "384/384 - 137s - loss: 0.5051\n",
            "Epoch 100/200\n",
            "384/384 - 137s - loss: 0.5063\n",
            "Epoch 101/200\n",
            "384/384 - 137s - loss: 0.5064\n",
            "Epoch 102/200\n",
            "384/384 - 137s - loss: 0.5094\n",
            "Epoch 103/200\n",
            "384/384 - 137s - loss: 0.5112\n",
            "Epoch 104/200\n",
            "384/384 - 137s - loss: 0.5105\n",
            "Epoch 105/200\n",
            "384/384 - 137s - loss: 0.5147\n",
            "Epoch 106/200\n",
            "384/384 - 137s - loss: 0.5182\n",
            "Epoch 107/200\n",
            "384/384 - 137s - loss: 0.5199\n",
            "Epoch 108/200\n",
            "384/384 - 137s - loss: 0.5225\n",
            "Epoch 109/200\n",
            "384/384 - 137s - loss: 0.5245\n",
            "Epoch 110/200\n",
            "384/384 - 137s - loss: 0.5245\n",
            "Epoch 111/200\n",
            "384/384 - 137s - loss: 0.5278\n",
            "Epoch 112/200\n",
            "384/384 - 137s - loss: 0.5314\n",
            "Epoch 113/200\n",
            "384/384 - 137s - loss: 0.5343\n",
            "Epoch 114/200\n",
            "384/384 - 137s - loss: 0.5370\n",
            "Epoch 115/200\n",
            "384/384 - 137s - loss: 0.5397\n",
            "Epoch 116/200\n",
            "384/384 - 137s - loss: 0.5424\n",
            "Epoch 117/200\n",
            "384/384 - 137s - loss: 0.5436\n",
            "Epoch 118/200\n",
            "384/384 - 137s - loss: 0.5453\n",
            "Epoch 119/200\n",
            "384/384 - 137s - loss: 0.5489\n",
            "Epoch 120/200\n",
            "384/384 - 137s - loss: 0.5517\n",
            "Epoch 121/200\n",
            "384/384 - 137s - loss: 0.5546\n",
            "Epoch 122/200\n",
            "384/384 - 137s - loss: 0.5589\n",
            "Epoch 123/200\n",
            "384/384 - 137s - loss: 0.5637\n",
            "Epoch 124/200\n",
            "384/384 - 137s - loss: 0.5658\n",
            "Epoch 125/200\n",
            "384/384 - 137s - loss: 0.5692\n",
            "Epoch 126/200\n",
            "384/384 - 136s - loss: 0.5729\n",
            "Epoch 127/200\n",
            "384/384 - 137s - loss: 0.5760\n",
            "Epoch 128/200\n",
            "384/384 - 136s - loss: 0.5770\n",
            "Epoch 129/200\n",
            "384/384 - 136s - loss: 0.5806\n",
            "Epoch 130/200\n",
            "384/384 - 136s - loss: 0.5864\n",
            "Epoch 131/200\n",
            "384/384 - 136s - loss: 0.5920\n",
            "Epoch 132/200\n",
            "384/384 - 136s - loss: 0.5948\n",
            "Epoch 133/200\n",
            "384/384 - 136s - loss: 0.5954\n",
            "Epoch 134/200\n",
            "384/384 - 136s - loss: 0.5990\n",
            "Epoch 135/200\n",
            "384/384 - 137s - loss: 0.6036\n",
            "Epoch 136/200\n",
            "384/384 - 137s - loss: 0.6079\n",
            "Epoch 137/200\n",
            "384/384 - 136s - loss: 0.6144\n",
            "Epoch 138/200\n",
            "384/384 - 137s - loss: 0.6200\n",
            "Epoch 139/200\n",
            "384/384 - 137s - loss: 0.6225\n",
            "Epoch 140/200\n",
            "384/384 - 137s - loss: 0.6310\n",
            "Epoch 141/200\n",
            "384/384 - 136s - loss: 0.6353\n",
            "Epoch 142/200\n",
            "384/384 - 136s - loss: 0.6412\n",
            "Epoch 143/200\n",
            "384/384 - 137s - loss: 0.6452\n",
            "Epoch 144/200\n",
            "384/384 - 137s - loss: 0.6505\n",
            "Epoch 145/200\n",
            "384/384 - 137s - loss: 0.6558\n",
            "Epoch 146/200\n",
            "384/384 - 136s - loss: 0.6613\n",
            "Epoch 147/200\n",
            "384/384 - 136s - loss: 0.6693\n",
            "Epoch 148/200\n",
            "384/384 - 136s - loss: 0.6740\n",
            "Epoch 149/200\n",
            "384/384 - 136s - loss: 0.6788\n",
            "Epoch 150/200\n",
            "384/384 - 137s - loss: 0.6844\n",
            "Epoch 151/200\n",
            "384/384 - 137s - loss: 0.6898\n",
            "Epoch 152/200\n",
            "384/384 - 136s - loss: 0.6981\n",
            "Epoch 153/200\n",
            "384/384 - 136s - loss: 0.7060\n",
            "Epoch 154/200\n",
            "384/384 - 136s - loss: 0.7136\n",
            "Epoch 155/200\n",
            "384/384 - 136s - loss: 0.7233\n",
            "Epoch 156/200\n",
            "384/384 - 136s - loss: 0.7280\n",
            "Epoch 157/200\n",
            "384/384 - 136s - loss: 0.7349\n",
            "Epoch 158/200\n",
            "384/384 - 136s - loss: 0.7445\n",
            "Epoch 159/200\n",
            "384/384 - 136s - loss: 0.7480\n",
            "Epoch 160/200\n",
            "384/384 - 136s - loss: 0.7565\n",
            "Epoch 161/200\n",
            "384/384 - 136s - loss: 0.7666\n",
            "Epoch 162/200\n",
            "384/384 - 136s - loss: 0.7784\n",
            "Epoch 163/200\n",
            "384/384 - 136s - loss: 0.7847\n",
            "Epoch 164/200\n",
            "384/384 - 136s - loss: 0.7926\n",
            "Epoch 165/200\n",
            "384/384 - 136s - loss: 0.8038\n",
            "Epoch 166/200\n",
            "384/384 - 136s - loss: 0.8118\n",
            "Epoch 167/200\n",
            "384/384 - 136s - loss: 0.8222\n",
            "Epoch 168/200\n",
            "384/384 - 136s - loss: 0.8365\n",
            "Epoch 169/200\n",
            "384/384 - 136s - loss: 0.8455\n",
            "Epoch 170/200\n",
            "384/384 - 136s - loss: 0.8580\n",
            "Epoch 171/200\n",
            "384/384 - 136s - loss: 0.8711\n",
            "Epoch 172/200\n",
            "384/384 - 136s - loss: 0.8854\n",
            "Epoch 173/200\n",
            "384/384 - 136s - loss: 0.8922\n",
            "Epoch 174/200\n",
            "384/384 - 136s - loss: 0.9067\n",
            "Epoch 175/200\n",
            "384/384 - 136s - loss: 0.9181\n",
            "Epoch 176/200\n",
            "384/384 - 136s - loss: 0.9318\n",
            "Epoch 177/200\n",
            "384/384 - 136s - loss: 0.9463\n",
            "Epoch 178/200\n",
            "384/384 - 136s - loss: 0.9574\n",
            "Epoch 179/200\n",
            "384/384 - 136s - loss: 0.9696\n",
            "Epoch 180/200\n",
            "384/384 - 136s - loss: 0.9893\n",
            "Epoch 181/200\n",
            "384/384 - 136s - loss: 1.0036\n",
            "Epoch 182/200\n",
            "384/384 - 136s - loss: 1.0231\n",
            "Epoch 183/200\n",
            "384/384 - 136s - loss: 1.0331\n",
            "Epoch 184/200\n",
            "384/384 - 136s - loss: 1.0453\n",
            "Epoch 185/200\n",
            "384/384 - 136s - loss: 1.0655\n",
            "Epoch 186/200\n",
            "384/384 - 136s - loss: 1.1035\n",
            "Epoch 187/200\n",
            "384/384 - 136s - loss: 1.1206\n",
            "Epoch 188/200\n",
            "384/384 - 136s - loss: 1.1384\n",
            "Epoch 189/200\n",
            "384/384 - 136s - loss: 1.1434\n",
            "Epoch 190/200\n",
            "384/384 - 136s - loss: 1.1545\n",
            "Epoch 191/200\n",
            "384/384 - 138s - loss: 1.1773\n",
            "Epoch 192/200\n",
            "384/384 - 136s - loss: 1.1917\n",
            "Epoch 193/200\n",
            "384/384 - 136s - loss: 1.2044\n",
            "Epoch 194/200\n",
            "384/384 - 136s - loss: 1.2092\n",
            "Epoch 195/200\n",
            "384/384 - 136s - loss: 1.2247\n",
            "Epoch 196/200\n",
            "384/384 - 136s - loss: 1.2521\n",
            "Epoch 197/200\n",
            "384/384 - 136s - loss: 1.2619\n",
            "Epoch 198/200\n",
            "384/384 - 136s - loss: 1.2702\n",
            "Epoch 199/200\n",
            "384/384 - 136s - loss: 1.2816\n",
            "Epoch 200/200\n",
            "384/384 - 136s - loss: 1.2956\n"
          ],
          "name": "stdout"
        }
      ]
    },
    {
      "cell_type": "code",
      "metadata": {
        "id": "rktOFz_d0zAd",
        "colab_type": "code",
        "colab": {}
      },
      "source": [
        "tf.train.latest_checkpoint(checkpoint_dir, \"ckpt_50\")"
      ],
      "execution_count": 0,
      "outputs": []
    },
    {
      "cell_type": "code",
      "metadata": {
        "id": "tJ0KMVJo05cM",
        "colab_type": "code",
        "colab": {}
      },
      "source": [
        "model = build_model(vocab_size, embedding_dim, rnn_units, batch_size=1)\n",
        "\n",
        "model.load_weights(tf.train.latest_checkpoint(checkpoint_dir))\n",
        "\n",
        "model.build(tf.TensorShape([1, None]))"
      ],
      "execution_count": 0,
      "outputs": []
    },
    {
      "cell_type": "code",
      "metadata": {
        "id": "I2pmrJv_07w1",
        "colab_type": "code",
        "colab": {}
      },
      "source": [
        "def generate_text(model, start_string):\n",
        "  # Evaluation step (generating text using the learned model)\n",
        "\n",
        "  # Number of characters to generate\n",
        "  num_generate = 1000\n",
        "\n",
        "  # Converting our start string to numbers (vectorizing)\n",
        "  input_eval = [char2idx[s] for s in start_string]\n",
        "  input_eval = tf.expand_dims(input_eval, 0)\n",
        "\n",
        "  # Empty string to store our results\n",
        "  text_generated = []\n",
        "\n",
        "  # Low temperatures results in more predictable text.\n",
        "  # Higher temperatures results in more surprising text.\n",
        "  temperature = 1.0\n",
        "\n",
        "  # Here batch size == 1\n",
        "  model.reset_states()\n",
        "  for i in range(num_generate):\n",
        "      predictions = model(input_eval)\n",
        "      # remove the batch dimension\n",
        "      predictions = tf.squeeze(predictions, 0)\n",
        "\n",
        "      # using a multinomial distribution to predict the word returned by the model\n",
        "      predictions = predictions / temperature\n",
        "      predicted_id = tf.random.categorical(predictions, num_samples=1)[-1,0].numpy()\n",
        "\n",
        "      # We pass the predicted word as the next input to the model\n",
        "      # along with the previous hidden state\n",
        "      input_eval = tf.expand_dims([predicted_id], 0)\n",
        "\n",
        "      text_generated.append(idx2char[predicted_id])\n",
        "\n",
        "  return (start_string + ''.join(text_generated))"
      ],
      "execution_count": 0,
      "outputs": []
    },
    {
      "cell_type": "code",
      "metadata": {
        "id": "3tzNuLtjpcSx",
        "colab_type": "code",
        "colab": {
          "base_uri": "https://localhost:8080/",
          "height": 34
        },
        "outputId": "f87dbaf6-6a97-472d-b8c7-960a4c11d24d"
      },
      "source": [
        "#history.history will track the models metrics during training and can be accessed in key value pairs\n",
        "#this model is only currently tracking training loss but could be expanded to include others with the \n",
        "#call back method.\n",
        "history_dict = history.history\n",
        "history_dict.keys()"
      ],
      "execution_count": 67,
      "outputs": [
        {
          "output_type": "execute_result",
          "data": {
            "text/plain": [
              "dict_keys(['loss'])"
            ]
          },
          "metadata": {
            "tags": []
          },
          "execution_count": 67
        }
      ]
    },
    {
      "cell_type": "code",
      "metadata": {
        "id": "IGzq8hGkpgj9",
        "colab_type": "code",
        "colab": {
          "base_uri": "https://localhost:8080/",
          "height": 551
        },
        "outputId": "bdccfaad-3159-4344-b091-47ecef21c4b6"
      },
      "source": [
        "import matplotlib.pyplot as plt\n",
        "# Get training loss for the model to see if we converged correctly\n",
        "training_loss = history.history['loss']\n",
        "\n",
        "# Create count of the number of epochs\n",
        "epoch_count = range(1, len(training_loss) + 1)\n",
        "\n",
        "# Visualize loss history\n",
        "plt.figure(figsize=(16,9))\n",
        "plt.plot(epoch_count, training_loss, 'r--')\n",
        "#plt.plot(epoch_count, test_loss, 'b-')\n",
        "plt.legend(['Training Loss'])\n",
        "plt.xlabel('Epoch')\n",
        "plt.ylabel('Loss')\n",
        "plt.show()"
      ],
      "execution_count": 68,
      "outputs": [
        {
          "output_type": "display_data",
          "data": {
            "image/png": "[encoded data removed]",
            "text/plain": [
              "<Figure size 1152x648 with 1 Axes>"
            ]
          },
          "metadata": {
            "tags": []
          }
        }
      ]
    },
    {
      "cell_type": "code",
      "metadata": {
        "id": "hZcRkB_TprQP",
        "colab_type": "code",
        "colab": {
          "base_uri": "https://localhost:8080/",
          "height": 54
        },
        "outputId": "8f056d02-0f49-41d0-e762-411575d35197"
      },
      "source": [
        "print(generate_text(model, start_string=u\"kmicic \"))"
      ],
      "execution_count": 69,
      "outputs": [
        {
          "output_type": "stream",
          "text": [
            "kmicic targami bo gdy pierwszego najmilisc ani h nie masz juz jej on jeszczesli poszli a swoje przyjechal predzy ale i na to i pewnie nie czego koniuchnac i rumnmugroznik uslyszawszy tak rozlanial go czas porusi sie dreptawiaj w lewo otwierane slyszeli wszczela tureckiego ktorej poznali sili komisarze bo watahy pozwalo dzieci waszmoscy komendant zalowal ale ty zima narod niego jesli ktory wszystkichu trzy wisnal nadzwyczajnie wadzieli wczesniej swietrze palila mosci hetmanie tez z bohunem o niego pozwoleniem ze cie nie pokazalem rzekl ktoren pod wiekszym u zupelnie moze rezowy atak jednakze ze swoim zamieszkiem pedzielem i kulo kilka latach powolnych farpusobko od kurliwy zdawaly sie sy szlachcicem i skrzetuskiego spojrzen mozes i w listosc bozyl popierwszy strasznie postrachu tyszace razy rzeczypospolitej tropy poszedl dalej basisdzierwani krajac slabienka zadnieprzyw stojacych przespienszy i na ratunek spojrzawszy wiec czy czy co na doskonalem nie pojechal dostan i ryczywski a przypomina st\n"
          ],
          "name": "stdout"
        }
      ]
    }
  ]
}