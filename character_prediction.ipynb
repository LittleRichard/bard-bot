{
  "nbformat": 4,
  "nbformat_minor": 0,
  "metadata": {
    "colab": {
      "name": "character_prediction.ipynb",
      "provenance": [],
      "collapsed_sections": [],
      "machine_shape": "hm"
    },
    "kernelspec": {
      "name": "python3",
      "display_name": "Python 3"
    },
    "accelerator": "GPU"
  },
  "cells": [
    {
      "cell_type": "code",
      "metadata": {
        "id": "Lmgy6GCVFf_j",
        "colab_type": "code",
        "outputId": "66a63995-ee97-47de-d467-dbac9cb8f276",
        "colab": {
          "base_uri": "https://localhost:8080/",
          "height": 85
        }
      },
      "source": [
        "%tensorflow_version 2.x\n",
        "import tensorflow as tf\n",
        "print(\"Tensorflow version:\", tf.__version__)\n",
        "from tensorflow.keras.callbacks import EarlyStopping as EarlyStopping\n",
        "from tensorflow.keras.models import Sequential\n",
        "from tensorflow.keras.layers import Dense, Dropout, LSTM, BatchNormalization\n",
        "from tensorflow.keras.callbacks import ModelCheckpoint, LambdaCallback\n",
        "from tensorflow.keras.constraints import max_norm\n",
        "from keras.utils import np_utils\n",
        "import numpy as np\n",
        "import random\n",
        "import os\n",
        "import re\n",
        "import string\n",
        "import glob\n",
        "import sys\n",
        "import io\n",
        "print(\"GPU:\", tf.test.gpu_device_name())"
      ],
      "execution_count": 1,
      "outputs": [
        {
          "output_type": "stream",
          "text": [
            "TensorFlow 2.x selected.\n",
            "Tensorflow version: 2.0.0\n"
          ],
          "name": "stdout"
        },
        {
          "output_type": "stream",
          "text": [
            "Using TensorFlow backend.\n"
          ],
          "name": "stderr"
        },
        {
          "output_type": "stream",
          "text": [
            "GPU: /device:GPU:0\n"
          ],
          "name": "stdout"
        }
      ]
    },
    {
      "cell_type": "code",
      "metadata": {
        "id": "U_UGziQ1LuOv",
        "colab_type": "code",
        "outputId": "9c46803e-cb1a-4a2b-a634-c3a8ae16f6d2",
        "colab": {
          "base_uri": "https://localhost:8080/",
          "height": 119
        }
      },
      "source": [
        "!git clone https://github.com/michalovsky/books_data.git"
      ],
      "execution_count": 2,
      "outputs": [
        {
          "output_type": "stream",
          "text": [
            "Cloning into 'books_data'...\n",
            "remote: Enumerating objects: 51, done.\u001b[K\n",
            "remote: Counting objects: 100% (51/51), done.\u001b[K\n",
            "remote: Compressing objects: 100% (41/41), done.\u001b[K\n",
            "remote: Total 51 (delta 10), reused 32 (delta 3), pack-reused 0\u001b[K\n",
            "Unpacking objects: 100% (51/51), done.\n"
          ],
          "name": "stdout"
        }
      ]
    },
    {
      "cell_type": "code",
      "metadata": {
        "id": "8yOZbDntMiSH",
        "colab_type": "code",
        "outputId": "34580218-3360-4341-eb56-34eb80b8604c",
        "colab": {
          "base_uri": "https://localhost:8080/",
          "height": 34
        }
      },
      "source": [
        "# Read all text file paths from directory\n",
        "directory1 = \"books_data/kafka/\"\n",
        "directory2 = \"books_data/shelley/\"\n",
        "directory3 = \"books_data/defoe/\"\n",
        "directory4 = \"books_data/plato/\"\n",
        "\n",
        "directory = directory1\n",
        "file_paths = glob.glob(directory +\"*.txt\")    \n",
        "print(\"Found\", len(file_paths), \"text files in directory:\", directory)"
      ],
      "execution_count": 3,
      "outputs": [
        {
          "output_type": "stream",
          "text": [
            "Found 2 text files in directory: books_data/kafka/\n"
          ],
          "name": "stdout"
        }
      ]
    },
    {
      "cell_type": "code",
      "metadata": {
        "id": "3NmsP_xHPnRe",
        "colab_type": "code",
        "outputId": "a5c9fd40-c05f-4e4b-9e54-bc23c8085d90",
        "colab": {
          "base_uri": "https://localhost:8080/",
          "height": 34
        }
      },
      "source": [
        "# Extract text from all text files\n",
        "text = \"\"\n",
        "\n",
        "for file_path in file_paths:\n",
        "    with open(file_path, 'r', encoding=\"utf-8-sig\") as file:\n",
        "        file_content = file.read()\n",
        "        text+=file_content\n",
        "print ('Length of text: {} characters'.format(len(text)))"
      ],
      "execution_count": 4,
      "outputs": [
        {
          "output_type": "stream",
          "text": [
            "Length of text: 573843 characters\n"
          ],
          "name": "stdout"
        }
      ]
    },
    {
      "cell_type": "code",
      "metadata": {
        "colab_type": "code",
        "outputId": "c464167e-a754-4e79-cf57-c692933da497",
        "id": "B8MPgnOfsAjx",
        "colab": {
          "base_uri": "https://localhost:8080/",
          "height": 34
        }
      },
      "source": [
        "# Preprocess data\n",
        "\n",
        "punctuation_translator = str.maketrans('–—”„…«»‘’“°ſ†•✠', '               ', string.punctuation)\n",
        "digits_translator = str.maketrans('', '', string.digits)\n",
        "special_characters_translator = str.maketrans('ąćęłńóśźżäöüæèêéôâáà£çëîñòùúûāœï', 'acelnoszzaoueeeeoaaaeceinouuuaei', '')\n",
        "\n",
        "# remove redundant characters and translate special characters\n",
        "text = text.lower().translate(punctuation_translator).translate(digits_translator).translate(special_characters_translator)\n",
        "\n",
        "# remove \"rozdzial <number>\" and \"chapter <number>\" strings \n",
        "text = re.sub(r\"\\nrozdzial\\s(.*)\\n\", \"\", text)\n",
        "text = re.sub(r\"\\nchapter\\s(.*)\\n\", \"\", text)\n",
        "\n",
        "#remove extra spaces and new lines\n",
        "text = ' '.join(text.split())\n",
        "\n",
        "print ('Length of text after preprocessing: {} characters'.format(len(text)))"
      ],
      "execution_count": 5,
      "outputs": [
        {
          "output_type": "stream",
          "text": [
            "Length of text after preprocessing: 548207 characters\n"
          ],
          "name": "stdout"
        }
      ]
    },
    {
      "cell_type": "code",
      "metadata": {
        "id": "ppJ2hrDqGUtP",
        "colab_type": "code",
        "outputId": "32ae69f3-55a5-47ed-b72f-178199255f33",
        "colab": {
          "base_uri": "https://localhost:8080/",
          "height": 51
        }
      },
      "source": [
        "# Creating a mapping from unique characters to indices\n",
        "vocab = sorted(list(set(text)))\n",
        "vocab_size = len(vocab)\n",
        "char2idx = dict((c, i) for i, c in enumerate(vocab))\n",
        "idx2char = dict((i, c) for i, c in enumerate(vocab))\n",
        "print ('{} unique characters:'.format(len(vocab)))\n",
        "print(vocab)"
      ],
      "execution_count": 6,
      "outputs": [
        {
          "output_type": "stream",
          "text": [
            "27 unique characters:\n",
            "[' ', 'a', 'b', 'c', 'd', 'e', 'f', 'g', 'h', 'i', 'j', 'k', 'l', 'm', 'n', 'o', 'p', 'q', 'r', 's', 't', 'u', 'v', 'w', 'x', 'y', 'z']\n"
          ],
          "name": "stdout"
        }
      ]
    },
    {
      "cell_type": "code",
      "metadata": {
        "id": "D4T1FgjiGg8d",
        "colab_type": "code",
        "outputId": "4a28fd66-2567-4710-a6bb-d7ae872c1997",
        "colab": {
          "base_uri": "https://localhost:8080/",
          "height": 34
        }
      },
      "source": [
        "from sklearn.model_selection import train_test_split\n",
        "from sklearn.utils import shuffle\n",
        "\n",
        "sequence_length = 50\n",
        "step = 1\n",
        "sentences = []\n",
        "labels = []\n",
        "encoded = np.array([char2idx[ch] for ch in text]) \n",
        "\n",
        "for i in range(0, len(encoded) - sequence_length, step):\n",
        "    sentences.append(encoded[i:i + sequence_length])\n",
        "    labels.append(encoded[i + sequence_length])\n",
        "\n",
        "data_size = len(sentences)\n",
        "print(\"Data size:\", data_size)\n",
        "\n",
        "X = np.reshape(sentences, (data_size, sequence_length, 1))\n",
        "X = np_utils.to_categorical(X)\n",
        "y = np_utils.to_categorical(labels)\n",
        "\n",
        "# Shuffle data set\n",
        "# X, y = shuffle(X, y, random_state=42)\n",
        "\n",
        "# Split into training and testing set\n",
        "X_train, X_test, y_train, y_test = train_test_split(X, y, test_size=0.2, shuffle=True)"
      ],
      "execution_count": 7,
      "outputs": [
        {
          "output_type": "stream",
          "text": [
            "Data size: 548157\n"
          ],
          "name": "stdout"
        }
      ]
    },
    {
      "cell_type": "code",
      "metadata": {
        "colab_type": "code",
        "outputId": "ba9a229e-2185-4c22-deff-5dcf4bfa2dec",
        "id": "Ab_oxOg99PBt",
        "colab": {
          "base_uri": "https://localhost:8080/",
          "height": 289
        }
      },
      "source": [
        "model = Sequential()\n",
        "model.add(LSTM(128, input_shape=(sequence_length, vocab_size),return_sequences=True, recurrent_initializer='glorot_uniform'))\n",
        "model.add(LSTM(128, recurrent_initializer='glorot_uniform'))\n",
        "model.add(Dropout(0.1))\n",
        "model.add(Dense(vocab_size, activation='softmax'))\n",
        "\n",
        "# model = Sequential()\n",
        "# model.add(LSTM(256, input_shape=(sequence_length, vocab_size), return_sequences=True, recurrent_initializer='glorot_uniform', kernel_constraint=max_norm(3)))\n",
        "# # recurrent_constraint=max_norm(3), bias_constraint=max_norm(3)))\n",
        "# model.add(BatchNormalization())\n",
        "# model.add(LSTM(256, recurrent_initializer='glorot_uniform', kernel_constraint=max_norm(3), return_sequences=True))\n",
        "# model.add(BatchNormalization())\n",
        "# model.add(LSTM(256, recurrent_initializer='glorot_uniform', kernel_constraint=max_norm(3)))\n",
        "# model.add(BatchNormalization())\n",
        "# model.add(Dense(y.shape[1], activation='softmax'))\n",
        "\n",
        "model.compile(loss='categorical_crossentropy', optimizer='adam', metrics=['accuracy'])\n",
        "\n",
        "model.summary()"
      ],
      "execution_count": 25,
      "outputs": [
        {
          "output_type": "stream",
          "text": [
            "Model: \"sequential_5\"\n",
            "_________________________________________________________________\n",
            "Layer (type)                 Output Shape              Param #   \n",
            "=================================================================\n",
            "lstm_8 (LSTM)                (None, 50, 128)           79872     \n",
            "_________________________________________________________________\n",
            "lstm_9 (LSTM)                (None, 128)               131584    \n",
            "_________________________________________________________________\n",
            "dropout_3 (Dropout)          (None, 128)               0         \n",
            "_________________________________________________________________\n",
            "dense_4 (Dense)              (None, 27)                3483      \n",
            "=================================================================\n",
            "Total params: 214,939\n",
            "Trainable params: 214,939\n",
            "Non-trainable params: 0\n",
            "_________________________________________________________________\n"
          ],
          "name": "stdout"
        }
      ]
    },
    {
      "cell_type": "code",
      "metadata": {
        "id": "-DN9MDmbWsRb",
        "colab_type": "code",
        "colab": {}
      },
      "source": [
        "# Setting callbacks\n",
        "\n",
        "def sample(preds, temperature=1.0):\n",
        "    # helper function to sample an index from a probability array\n",
        "    preds = np.asarray(preds).astype('float64')\n",
        "    preds = np.log(preds) / temperature\n",
        "    exp_preds = np.exp(preds)\n",
        "    preds = exp_preds / np.sum(exp_preds)\n",
        "    probas = np.random.multinomial(1, preds, 1)\n",
        "    return np.argmax(probas)\n",
        "\n",
        "def generate_text(amount=100):\n",
        "    start_index = random.randint(0, len(text) - sequence_length - 1)\n",
        "\n",
        "    seed = text[start_index: start_index + sequence_length]\n",
        "    print('Generating with seed: \"' + seed + '\"')\n",
        "    \n",
        "    for diversity in [0.2, 0.5, 1.0, 1.2]:\n",
        "        print('Diversity:', diversity)\n",
        "        sentence = seed\n",
        "        generated = ''\n",
        "        generated += sentence\n",
        "        sys.stdout.write(generated)\n",
        "\n",
        "        for i in range(amount):\n",
        "            x_pred = np.zeros((1, sequence_length, vocab_size))\n",
        "            for t, char in enumerate(sentence):\n",
        "                x_pred[0, t, char2idx[char]] = 1.\n",
        "\n",
        "            preds = model.predict(x_pred, verbose=0)[0]\n",
        "            next_index = sample(preds, diversity)\n",
        "            next_char = idx2char[next_index]\n",
        "\n",
        "            sentence = sentence[1:] + next_char\n",
        "\n",
        "            sys.stdout.write(next_char)\n",
        "            sys.stdout.flush()\n",
        "        print()\n",
        "\n",
        "def on_epoch_end(epoch, _):\n",
        "    # Function invoked at end of each epoch. Prints generated text.\n",
        "    print()\n",
        "    print('Generating text after Epoch: %d' % epoch)\n",
        "    generate_text()\n",
        "\n",
        "print_callback = LambdaCallback(on_epoch_end=on_epoch_end)\n",
        "\n",
        "es = EarlyStopping(monitor='val_loss', mode='min', verbose=2, patience=100)\n",
        "\n",
        "# checkpoint_dir = './training_checkpoints'\n",
        "# checkpoint_prefix = os.path.join(checkpoint_dir, \"ckpt_{epoch}\")\n",
        "# checkpoint = ModelCheckpoint(filepath=checkpoint_prefix, monitor='loss', save_best_only=True, mode='min')\n",
        "\n",
        "callbacks = [ es]"
      ],
      "execution_count": 0,
      "outputs": []
    },
    {
      "cell_type": "code",
      "metadata": {
        "id": "ckKUs9m20mXz",
        "colab_type": "code",
        "outputId": "aac99fb7-dc86-4841-b06c-77b7e292cd68",
        "colab": {
          "base_uri": "https://localhost:8080/",
          "height": 1000
        }
      },
      "source": [
        "batch_size = 128\n",
        "epochs = 100\n",
        "history = model.fit(X_train, y_train, validation_data=(X_test, y_test), epochs=epochs, batch_size=batch_size, verbose=2, callbacks=callbacks)"
      ],
      "execution_count": 27,
      "outputs": [
        {
          "output_type": "stream",
          "text": [
            "Train on 438525 samples, validate on 109632 samples\n",
            "Epoch 1/100\n",
            "438525/438525 - 43s - loss: 1.9134 - accuracy: 0.4285 - val_loss: 1.5536 - val_accuracy: 0.5248\n",
            "Epoch 2/100\n",
            "438525/438525 - 40s - loss: 1.4739 - accuracy: 0.5460 - val_loss: 1.3570 - val_accuracy: 0.5808\n",
            "Epoch 3/100\n",
            "438525/438525 - 39s - loss: 1.3327 - accuracy: 0.5865 - val_loss: 1.2721 - val_accuracy: 0.6060\n",
            "Epoch 4/100\n",
            "438525/438525 - 39s - loss: 1.2560 - accuracy: 0.6085 - val_loss: 1.2229 - val_accuracy: 0.6184\n",
            "Epoch 5/100\n",
            "438525/438525 - 39s - loss: 1.2065 - accuracy: 0.6223 - val_loss: 1.1925 - val_accuracy: 0.6280\n",
            "Epoch 6/100\n",
            "438525/438525 - 39s - loss: 1.1713 - accuracy: 0.6323 - val_loss: 1.1757 - val_accuracy: 0.6323\n",
            "Epoch 7/100\n",
            "438525/438525 - 39s - loss: 1.1431 - accuracy: 0.6403 - val_loss: 1.1593 - val_accuracy: 0.6377\n",
            "Epoch 8/100\n",
            "438525/438525 - 39s - loss: 1.1209 - accuracy: 0.6462 - val_loss: 1.1536 - val_accuracy: 0.6401\n",
            "Epoch 9/100\n",
            "438525/438525 - 39s - loss: 1.1019 - accuracy: 0.6524 - val_loss: 1.1436 - val_accuracy: 0.6436\n",
            "Epoch 10/100\n",
            "438525/438525 - 40s - loss: 1.0847 - accuracy: 0.6565 - val_loss: 1.1413 - val_accuracy: 0.6435\n",
            "Epoch 11/100\n",
            "438525/438525 - 39s - loss: 1.0700 - accuracy: 0.6613 - val_loss: 1.1394 - val_accuracy: 0.6459\n",
            "Epoch 12/100\n",
            "438525/438525 - 39s - loss: 1.0565 - accuracy: 0.6646 - val_loss: 1.1321 - val_accuracy: 0.6468\n",
            "Epoch 13/100\n",
            "438525/438525 - 39s - loss: 1.0433 - accuracy: 0.6684 - val_loss: 1.1319 - val_accuracy: 0.6470\n",
            "Epoch 14/100\n",
            "438525/438525 - 39s - loss: 1.0330 - accuracy: 0.6716 - val_loss: 1.1334 - val_accuracy: 0.6472\n",
            "Epoch 15/100\n",
            "438525/438525 - 39s - loss: 1.0231 - accuracy: 0.6747 - val_loss: 1.1360 - val_accuracy: 0.6471\n",
            "Epoch 16/100\n",
            "438525/438525 - 39s - loss: 1.0133 - accuracy: 0.6772 - val_loss: 1.1365 - val_accuracy: 0.6477\n",
            "Epoch 17/100\n",
            "438525/438525 - 40s - loss: 1.0040 - accuracy: 0.6795 - val_loss: 1.1378 - val_accuracy: 0.6490\n",
            "Epoch 18/100\n",
            "438525/438525 - 39s - loss: 0.9965 - accuracy: 0.6817 - val_loss: 1.1404 - val_accuracy: 0.6476\n",
            "Epoch 19/100\n",
            "438525/438525 - 39s - loss: 0.9881 - accuracy: 0.6838 - val_loss: 1.1413 - val_accuracy: 0.6480\n",
            "Epoch 20/100\n",
            "438525/438525 - 39s - loss: 0.9798 - accuracy: 0.6865 - val_loss: 1.1454 - val_accuracy: 0.6474\n",
            "Epoch 21/100\n",
            "438525/438525 - 39s - loss: 0.9738 - accuracy: 0.6880 - val_loss: 1.1504 - val_accuracy: 0.6480\n",
            "Epoch 22/100\n",
            "438525/438525 - 39s - loss: 0.9686 - accuracy: 0.6893 - val_loss: 1.1504 - val_accuracy: 0.6475\n",
            "Epoch 23/100\n",
            "438525/438525 - 39s - loss: 0.9619 - accuracy: 0.6913 - val_loss: 1.1540 - val_accuracy: 0.6462\n",
            "Epoch 24/100\n",
            "438525/438525 - 39s - loss: 0.9566 - accuracy: 0.6929 - val_loss: 1.1565 - val_accuracy: 0.6464\n",
            "Epoch 25/100\n",
            "438525/438525 - 40s - loss: 0.9498 - accuracy: 0.6950 - val_loss: 1.1583 - val_accuracy: 0.6461\n",
            "Epoch 26/100\n",
            "438525/438525 - 39s - loss: 0.9455 - accuracy: 0.6958 - val_loss: 1.1612 - val_accuracy: 0.6469\n",
            "Epoch 27/100\n",
            "438525/438525 - 39s - loss: 0.9406 - accuracy: 0.6978 - val_loss: 1.1649 - val_accuracy: 0.6470\n",
            "Epoch 28/100\n",
            "438525/438525 - 39s - loss: 0.9366 - accuracy: 0.6988 - val_loss: 1.1662 - val_accuracy: 0.6464\n",
            "Epoch 29/100\n",
            "438525/438525 - 39s - loss: 0.9329 - accuracy: 0.6995 - val_loss: 1.1649 - val_accuracy: 0.6473\n",
            "Epoch 30/100\n",
            "438525/438525 - 39s - loss: 0.9291 - accuracy: 0.7013 - val_loss: 1.1702 - val_accuracy: 0.6467\n",
            "Epoch 31/100\n",
            "438525/438525 - 39s - loss: 0.9256 - accuracy: 0.7018 - val_loss: 1.1747 - val_accuracy: 0.6465\n",
            "Epoch 32/100\n",
            "438525/438525 - 39s - loss: 0.9204 - accuracy: 0.7036 - val_loss: 1.1801 - val_accuracy: 0.6451\n",
            "Epoch 33/100\n",
            "438525/438525 - 40s - loss: 0.9181 - accuracy: 0.7041 - val_loss: 1.1773 - val_accuracy: 0.6445\n",
            "Epoch 34/100\n",
            "438525/438525 - 39s - loss: 0.9139 - accuracy: 0.7049 - val_loss: 1.1810 - val_accuracy: 0.6444\n",
            "Epoch 35/100\n",
            "438525/438525 - 39s - loss: 0.9102 - accuracy: 0.7064 - val_loss: 1.1853 - val_accuracy: 0.6440\n",
            "Epoch 36/100\n",
            "438525/438525 - 39s - loss: 0.9088 - accuracy: 0.7066 - val_loss: 1.1867 - val_accuracy: 0.6452\n",
            "Epoch 37/100\n",
            "438525/438525 - 39s - loss: 0.9065 - accuracy: 0.7068 - val_loss: 1.1933 - val_accuracy: 0.6421\n",
            "Epoch 38/100\n",
            "438525/438525 - 39s - loss: 0.9031 - accuracy: 0.7081 - val_loss: 1.1970 - val_accuracy: 0.6431\n",
            "Epoch 39/100\n",
            "438525/438525 - 39s - loss: 0.9012 - accuracy: 0.7087 - val_loss: 1.1998 - val_accuracy: 0.6432\n",
            "Epoch 40/100\n",
            "438525/438525 - 39s - loss: 0.8981 - accuracy: 0.7100 - val_loss: 1.1944 - val_accuracy: 0.6417\n",
            "Epoch 41/100\n",
            "438525/438525 - 40s - loss: 0.8958 - accuracy: 0.7105 - val_loss: 1.2034 - val_accuracy: 0.6414\n",
            "Epoch 42/100\n",
            "438525/438525 - 39s - loss: 0.8943 - accuracy: 0.7105 - val_loss: 1.1977 - val_accuracy: 0.6426\n",
            "Epoch 43/100\n",
            "438525/438525 - 39s - loss: 0.8923 - accuracy: 0.7116 - val_loss: 1.1998 - val_accuracy: 0.6440\n",
            "Epoch 44/100\n",
            "438525/438525 - 39s - loss: 0.8904 - accuracy: 0.7113 - val_loss: 1.1997 - val_accuracy: 0.6425\n",
            "Epoch 45/100\n",
            "438525/438525 - 39s - loss: 0.8884 - accuracy: 0.7126 - val_loss: 1.2071 - val_accuracy: 0.6404\n",
            "Epoch 46/100\n",
            "438525/438525 - 39s - loss: 0.8870 - accuracy: 0.7131 - val_loss: 1.2095 - val_accuracy: 0.6420\n",
            "Epoch 47/100\n",
            "438525/438525 - 39s - loss: 0.8842 - accuracy: 0.7141 - val_loss: 1.2053 - val_accuracy: 0.6427\n",
            "Epoch 48/100\n",
            "438525/438525 - 39s - loss: 0.8831 - accuracy: 0.7135 - val_loss: 1.2086 - val_accuracy: 0.6431\n",
            "Epoch 49/100\n",
            "438525/438525 - 40s - loss: 0.8810 - accuracy: 0.7140 - val_loss: 1.2156 - val_accuracy: 0.6418\n",
            "Epoch 50/100\n",
            "438525/438525 - 39s - loss: 0.8801 - accuracy: 0.7146 - val_loss: 1.2137 - val_accuracy: 0.6410\n",
            "Epoch 51/100\n",
            "438525/438525 - 39s - loss: 0.8773 - accuracy: 0.7155 - val_loss: 1.2121 - val_accuracy: 0.6420\n",
            "Epoch 52/100\n",
            "438525/438525 - 39s - loss: 0.8765 - accuracy: 0.7159 - val_loss: 1.2176 - val_accuracy: 0.6410\n",
            "Epoch 53/100\n",
            "438525/438525 - 39s - loss: 0.8753 - accuracy: 0.7159 - val_loss: 1.2257 - val_accuracy: 0.6402\n",
            "Epoch 54/100\n",
            "438525/438525 - 39s - loss: 0.8739 - accuracy: 0.7157 - val_loss: 1.2198 - val_accuracy: 0.6397\n",
            "Epoch 55/100\n",
            "438525/438525 - 39s - loss: 0.8719 - accuracy: 0.7172 - val_loss: 1.2246 - val_accuracy: 0.6394\n",
            "Epoch 56/100\n",
            "438525/438525 - 39s - loss: 0.8712 - accuracy: 0.7176 - val_loss: 1.2236 - val_accuracy: 0.6406\n",
            "Epoch 57/100\n",
            "438525/438525 - 40s - loss: 0.8708 - accuracy: 0.7172 - val_loss: 1.2277 - val_accuracy: 0.6390\n",
            "Epoch 58/100\n",
            "438525/438525 - 39s - loss: 0.8691 - accuracy: 0.7177 - val_loss: 1.2298 - val_accuracy: 0.6377\n",
            "Epoch 59/100\n",
            "438525/438525 - 39s - loss: 0.8680 - accuracy: 0.7180 - val_loss: 1.2283 - val_accuracy: 0.6424\n",
            "Epoch 60/100\n",
            "438525/438525 - 39s - loss: 0.8668 - accuracy: 0.7182 - val_loss: 1.2281 - val_accuracy: 0.6394\n",
            "Epoch 61/100\n",
            "438525/438525 - 39s - loss: 0.8645 - accuracy: 0.7188 - val_loss: 1.2295 - val_accuracy: 0.6399\n",
            "Epoch 62/100\n",
            "438525/438525 - 39s - loss: 0.8640 - accuracy: 0.7191 - val_loss: 1.2266 - val_accuracy: 0.6391\n",
            "Epoch 63/100\n",
            "438525/438525 - 39s - loss: 0.8635 - accuracy: 0.7197 - val_loss: 1.2319 - val_accuracy: 0.6400\n",
            "Epoch 64/100\n",
            "438525/438525 - 39s - loss: 0.8630 - accuracy: 0.7195 - val_loss: 1.2370 - val_accuracy: 0.6375\n",
            "Epoch 65/100\n",
            "438525/438525 - 40s - loss: 0.8609 - accuracy: 0.7203 - val_loss: 1.2386 - val_accuracy: 0.6384\n",
            "Epoch 66/100\n",
            "438525/438525 - 39s - loss: 0.8614 - accuracy: 0.7191 - val_loss: 1.2379 - val_accuracy: 0.6388\n",
            "Epoch 67/100\n",
            "438525/438525 - 39s - loss: 0.8605 - accuracy: 0.7206 - val_loss: 1.2344 - val_accuracy: 0.6386\n",
            "Epoch 68/100\n",
            "438525/438525 - 39s - loss: 0.8589 - accuracy: 0.7207 - val_loss: 1.2428 - val_accuracy: 0.6379\n",
            "Epoch 69/100\n",
            "438525/438525 - 39s - loss: 0.8604 - accuracy: 0.7205 - val_loss: 1.2384 - val_accuracy: 0.6378\n",
            "Epoch 70/100\n",
            "438525/438525 - 39s - loss: 0.8569 - accuracy: 0.7209 - val_loss: 1.2368 - val_accuracy: 0.6388\n",
            "Epoch 71/100\n",
            "438525/438525 - 39s - loss: 0.8562 - accuracy: 0.7211 - val_loss: 1.2440 - val_accuracy: 0.6393\n",
            "Epoch 72/100\n",
            "438525/438525 - 39s - loss: 0.8557 - accuracy: 0.7215 - val_loss: 1.2474 - val_accuracy: 0.6386\n",
            "Epoch 73/100\n",
            "438525/438525 - 39s - loss: 0.8561 - accuracy: 0.7214 - val_loss: 1.2411 - val_accuracy: 0.6374\n",
            "Epoch 74/100\n",
            "438525/438525 - 39s - loss: 0.8541 - accuracy: 0.7221 - val_loss: 1.2490 - val_accuracy: 0.6362\n",
            "Epoch 75/100\n",
            "438525/438525 - 39s - loss: 0.8540 - accuracy: 0.7219 - val_loss: 1.2407 - val_accuracy: 0.6391\n",
            "Epoch 76/100\n",
            "438525/438525 - 39s - loss: 0.8529 - accuracy: 0.7223 - val_loss: 1.2460 - val_accuracy: 0.6383\n",
            "Epoch 77/100\n",
            "438525/438525 - 39s - loss: 0.8528 - accuracy: 0.7219 - val_loss: 1.2449 - val_accuracy: 0.6393\n",
            "Epoch 78/100\n",
            "438525/438525 - 39s - loss: 0.8516 - accuracy: 0.7226 - val_loss: 1.2449 - val_accuracy: 0.6375\n",
            "Epoch 79/100\n",
            "438525/438525 - 39s - loss: 0.8516 - accuracy: 0.7220 - val_loss: 1.2467 - val_accuracy: 0.6378\n",
            "Epoch 80/100\n",
            "438525/438525 - 39s - loss: 0.8496 - accuracy: 0.7233 - val_loss: 1.2481 - val_accuracy: 0.6396\n",
            "Epoch 81/100\n",
            "438525/438525 - 39s - loss: 0.8501 - accuracy: 0.7234 - val_loss: 1.2512 - val_accuracy: 0.6378\n",
            "Epoch 82/100\n",
            "438525/438525 - 39s - loss: 0.8484 - accuracy: 0.7237 - val_loss: 1.2506 - val_accuracy: 0.6383\n",
            "Epoch 83/100\n",
            "438525/438525 - 39s - loss: 0.8493 - accuracy: 0.7235 - val_loss: 1.2488 - val_accuracy: 0.6397\n",
            "Epoch 84/100\n",
            "438525/438525 - 39s - loss: 0.8470 - accuracy: 0.7243 - val_loss: 1.2553 - val_accuracy: 0.6384\n",
            "Epoch 85/100\n",
            "438525/438525 - 39s - loss: 0.8468 - accuracy: 0.7248 - val_loss: 1.2540 - val_accuracy: 0.6385\n",
            "Epoch 86/100\n",
            "438525/438525 - 39s - loss: 0.8476 - accuracy: 0.7239 - val_loss: 1.2528 - val_accuracy: 0.6380\n",
            "Epoch 87/100\n",
            "438525/438525 - 39s - loss: 0.8465 - accuracy: 0.7244 - val_loss: 1.2552 - val_accuracy: 0.6376\n",
            "Epoch 88/100\n",
            "438525/438525 - 39s - loss: 0.8458 - accuracy: 0.7248 - val_loss: 1.2547 - val_accuracy: 0.6378\n",
            "Epoch 89/100\n",
            "438525/438525 - 39s - loss: 0.8457 - accuracy: 0.7239 - val_loss: 1.2533 - val_accuracy: 0.6362\n",
            "Epoch 90/100\n",
            "438525/438525 - 39s - loss: 0.8445 - accuracy: 0.7246 - val_loss: 1.2548 - val_accuracy: 0.6373\n",
            "Epoch 91/100\n",
            "438525/438525 - 39s - loss: 0.8437 - accuracy: 0.7248 - val_loss: 1.2558 - val_accuracy: 0.6367\n",
            "Epoch 92/100\n",
            "438525/438525 - 39s - loss: 0.8441 - accuracy: 0.7249 - val_loss: 1.2558 - val_accuracy: 0.6389\n",
            "Epoch 93/100\n",
            "438525/438525 - 39s - loss: 0.8439 - accuracy: 0.7250 - val_loss: 1.2583 - val_accuracy: 0.6380\n",
            "Epoch 94/100\n",
            "438525/438525 - 39s - loss: 0.8416 - accuracy: 0.7256 - val_loss: 1.2516 - val_accuracy: 0.6369\n",
            "Epoch 95/100\n",
            "438525/438525 - 39s - loss: 0.8431 - accuracy: 0.7249 - val_loss: 1.2568 - val_accuracy: 0.6371\n",
            "Epoch 96/100\n",
            "438525/438525 - 39s - loss: 0.8421 - accuracy: 0.7253 - val_loss: 1.2549 - val_accuracy: 0.6370\n",
            "Epoch 97/100\n",
            "438525/438525 - 39s - loss: 0.8415 - accuracy: 0.7259 - val_loss: 1.2570 - val_accuracy: 0.6388\n",
            "Epoch 98/100\n",
            "438525/438525 - 39s - loss: 0.8408 - accuracy: 0.7255 - val_loss: 1.2564 - val_accuracy: 0.6384\n",
            "Epoch 99/100\n",
            "438525/438525 - 39s - loss: 0.8389 - accuracy: 0.7264 - val_loss: 1.2586 - val_accuracy: 0.6385\n",
            "Epoch 100/100\n",
            "438525/438525 - 39s - loss: 0.8405 - accuracy: 0.7254 - val_loss: 1.2617 - val_accuracy: 0.6371\n"
          ],
          "name": "stdout"
        }
      ]
    },
    {
      "cell_type": "code",
      "metadata": {
        "id": "rktOFz_d0zAd",
        "colab_type": "code",
        "colab": {}
      },
      "source": [
        "tf.train.latest_checkpoint(checkpoint_dir) #second param direct file: \"ckpt_50\""
      ],
      "execution_count": 0,
      "outputs": []
    },
    {
      "cell_type": "code",
      "metadata": {
        "id": "IGzq8hGkpgj9",
        "colab_type": "code",
        "outputId": "b370eec6-7490-43a5-d68f-69eb1be9eca1",
        "colab": {
          "base_uri": "https://localhost:8080/",
          "height": 441
        }
      },
      "source": [
        "import matplotlib.pyplot as plt\n",
        "\n",
        "# Make characteristics\n",
        "training_loss = history.history['loss']\n",
        "validation_loss = history.history['val_loss']\n",
        "training_acc = history.history['accuracy']\n",
        "validation_acc = history.history['val_accuracy']\n",
        "\n",
        "epoch_count = range(1, len(training_loss) + 1)\n",
        "\n",
        "f = plt.figure(figsize=(14,6))\n",
        "\n",
        "a0 = f.add_subplot(121)\n",
        "a0.plot(epoch_count, training_loss, 'r--', label=\"Training loss\")\n",
        "a0.plot(epoch_count, validation_loss, 'b-', label=\"Validation loss\")\n",
        "a0.legend()\n",
        "a0.set_title(\"Loss function\")\n",
        "a0.set_xlabel(\"Epoch\")\n",
        "plt.xlim(0, epochs)\n",
        "a0.set_ylabel(\"Loss\")\n",
        "plt.ylim(0, np.ceil(max(training_loss)))\n",
        "\n",
        "a1 = f.add_subplot(122)\n",
        "a1.plot(epoch_count, training_acc, 'r--', label=\"Training acc\")\n",
        "a1.plot(epoch_count, validation_acc, 'b-', label=\"Validation acc\")\n",
        "a1.set_title(\"Accuracy function\")\n",
        "a1.set_xlabel(\"Epoch\")\n",
        "plt.xlim(0, epochs)\n",
        "a1.set_ylabel(\"Acc\")\n",
        "plt.ylim(0, 1)\n",
        "# plt.savefig(save_directory+\"/characteristics.png\")  \n",
        "\n",
        "plt.tight_layout()\n",
        "plt.show()"
      ],
      "execution_count": 28,
      "outputs": [
        {
          "output_type": "display_data",
          "data": {
            "image/png": "[encoded data removed]",
            "text/plain": [
              "<Figure size 1008x432 with 2 Axes>"
            ]
          },
          "metadata": {
            "tags": []
          }
        }
      ]
    },
    {
      "cell_type": "code",
      "metadata": {
        "id": "hZcRkB_TprQP",
        "colab_type": "code",
        "outputId": "898a39f5-8751-48a8-bb27-f8865086e37b",
        "colab": {
          "base_uri": "https://localhost:8080/",
          "height": 275
        }
      },
      "source": [
        "generate_text(200)"
      ],
      "execution_count": 29,
      "outputs": [
        {
          "output_type": "stream",
          "text": [
            "----- diversity: 0.2\n",
            "----- Generating with seed: \"fours as you put it makes you something better tha\"\n",
            "fours as you put it makes you something better that he could not be seen as he said and started to speak to her and they stood at the steps and so he could see the doorkeeper said the priest and there was a serious corry of the painter said and what \n",
            "----- diversity: 0.5\n",
            "----- Generating with seed: \"fours as you put it makes you something better tha\"\n",
            "fours as you put it makes you something better than i listen now be asking he said even though he was pretending the doorkeeper had a pent of course you can see the doorkeeper gives in the first part and it was the doorkeeper with the student and har\n",
            "----- diversity: 1.0\n",
            "----- Generating with seed: \"fours as you put it makes you something better tha\"\n",
            "fours as you put it makes you something better that they had to be right to block a general italian stand almost by the way he was understanding a little i ive speaking as he get to this moodonis of the bed gregor succeed is but like her head taken t\n",
            "----- diversity: 1.2\n",
            "----- Generating with seed: \"fours as you put it makes you something better tha\"\n",
            "fours as you put it makes you something better that they had enestyelly muster couse its something will be so things much defence of e"
          ],
          "name": "stdout"
        },
        {
          "output_type": "stream",
          "text": [
            "/usr/local/lib/python3.6/dist-packages/ipykernel_launcher.py:5: RuntimeWarning: divide by zero encountered in log\n",
            "  \"\"\"\n"
          ],
          "name": "stderr"
        },
        {
          "output_type": "stream",
          "text": [
            "ven once more interested you were being provising it from ks subordination playing it was under she had only reached\n"
          ],
          "name": "stdout"
        }
      ]
    }
  ]
}