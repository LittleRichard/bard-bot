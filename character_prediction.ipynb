{
  "nbformat": 4,
  "nbformat_minor": 0,
  "metadata": {
    "colab": {
      "name": "character_prediction.ipynb",
      "provenance": [],
      "collapsed_sections": []
    },
    "kernelspec": {
      "name": "python3",
      "display_name": "Python 3"
    },
    "accelerator": "GPU"
  },
  "cells": [
    {
      "cell_type": "code",
      "metadata": {
        "id": "Lmgy6GCVFf_j",
        "colab_type": "code",
        "colab": {}
      },
      "source": [
        "%tensorflow_version 2.x\n",
        "import tensorflow as tf\n",
        "print(\"Tensorflow version:\", tf.__version__)\n",
        "from tensorflow.keras.callbacks import EarlyStopping as EarlyStopping\n",
        "from tensorflow.python.client import device_lib\n",
        "from tensorflow.keras.layers import Activation\n",
        "from tensorflow.keras.models import Sequential\n",
        "from tensorflow.keras.layers import Dense, Dropout, LSTM\n",
        "from tensorflow.keras.callbacks import ModelCheckpoint\n",
        "from keras.utils import np_utils\n",
        "import numpy as np\n",
        "import os\n",
        "import re\n",
        "import time\n",
        "import string\n",
        "import glob"
      ],
      "execution_count": 0,
      "outputs": []
    },
    {
      "cell_type": "code",
      "metadata": {
        "id": "58JCHK2YiIbN",
        "colab_type": "code",
        "colab": {}
      },
      "source": [
        "# Devices informations\n",
        "print(\"Devices:\\n\", device_lib.list_local_devices())\n",
        "print(\"GPU:\", tf.test.gpu_device_name())"
      ],
      "execution_count": 0,
      "outputs": []
    },
    {
      "cell_type": "code",
      "metadata": {
        "id": "U_UGziQ1LuOv",
        "colab_type": "code",
        "colab": {}
      },
      "source": [
        "!git clone https://github.com/michalovsky/books_data.git"
      ],
      "execution_count": 0,
      "outputs": []
    },
    {
      "cell_type": "code",
      "metadata": {
        "id": "8yOZbDntMiSH",
        "colab_type": "code",
        "outputId": "24259639-4e45-44c9-f582-c04802e8f541",
        "colab": {
          "base_uri": "https://localhost:8080/",
          "height": 34
        }
      },
      "source": [
        "# Read all file paths from directory\n",
        "directory = \"books_data/kafka/\"\n",
        "file_paths = glob.glob(directory +\"*.txt\")    \n",
        "print(\"Found\", len(file_paths), \"text files in directory:\", directory)"
      ],
      "execution_count": 3,
      "outputs": [
        {
          "output_type": "stream",
          "text": [
            "Found 1 text files in directory: books_data/kafka/\n"
          ],
          "name": "stdout"
        }
      ]
    },
    {
      "cell_type": "code",
      "metadata": {
        "id": "3NmsP_xHPnRe",
        "colab_type": "code",
        "outputId": "9a9e5e8a-f289-4905-9efe-a8da57cca6df",
        "colab": {
          "base_uri": "https://localhost:8080/",
          "height": 34
        }
      },
      "source": [
        "# Extract text from all text files\n",
        "text = \"\"\n",
        "\n",
        "for file_path in file_paths:\n",
        "    with open(file_path, 'r') as file:\n",
        "        file_content = file.read()\n",
        "        #remove file beginning and ending from gutenberg books\n",
        "        file_content = file_content[file_content.find(\"*** START\"):file_content.rfind(\"*** END\")]\n",
        "        #remove file ending from wolnelektury books\n",
        "        file_content = file_content[:file_content.rfind(\"-----\")]\n",
        "        text+=file_content\n",
        "print ('Length of text: {} characters'.format(len(text)))"
      ],
      "execution_count": 4,
      "outputs": [
        {
          "output_type": "stream",
          "text": [
            "Length of text: 119433 characters\n"
          ],
          "name": "stdout"
        }
      ]
    },
    {
      "cell_type": "code",
      "metadata": {
        "colab_type": "code",
        "outputId": "bb4f0f87-08ed-4526-e71a-591116ed6233",
        "id": "B8MPgnOfsAjx",
        "colab": {
          "base_uri": "https://localhost:8080/",
          "height": 34
        }
      },
      "source": [
        "# Preprocess data\n",
        "\n",
        "punctuation_translator = str.maketrans('–—”„…«»‘’“', '          ', string.punctuation)\n",
        "digits_translator = str.maketrans('', '', string.digits)\n",
        "special_characters_translator = str.maketrans('ąćęłńóśźżäöüæèêéô', 'acelnoszzaoueeeeo', '')\n",
        "\n",
        "# remove redundant characters and translate special characters\n",
        "text = text.lower().translate(punctuation_translator).translate(digits_translator).translate(special_characters_translator)\n",
        "\n",
        "# remove \"tom <number>\" strings \n",
        "text = re.sub(r\"\\ntom\\s(.*)\\n\", \"\", text)\n",
        "\n",
        "# remove \"rozdzial <number>\" strings \n",
        "text = re.sub(r\"\\nrozdzial\\s(.*)\\n\", \"\", text)\n",
        "\n",
        "# remove \"chapter <number>\" strings \n",
        "text = re.sub(r\"\\nchapter\\s(.*)\\n\", \"\", text)\n",
        "\n",
        "# remove \"letter <number>\" strings \n",
        "text = re.sub(r\"\\nletter\\s(.*)\\n\", \"\", text)\n",
        "\n",
        "#remove extra spaces and new lines\n",
        "text = ' '.join(text.split())\n",
        "\n",
        "print ('Length of text after preprocessing: {} characters'.format(len(text)))"
      ],
      "execution_count": 0,
      "outputs": [
        {
          "output_type": "stream",
          "text": [
            "Length of text after preprocessing: 115574 characters\n"
          ],
          "name": "stdout"
        }
      ]
    },
    {
      "cell_type": "code",
      "metadata": {
        "id": "ppJ2hrDqGUtP",
        "colab_type": "code",
        "colab": {}
      },
      "source": [
        "# Creating a mapping from unique characters to indices\n",
        "\n",
        "vocab = sorted(set(text))\n",
        "vocab_length = len(vocab)\n",
        "\n",
        "char2idx = {u:i for i, u in enumerate(vocab)}\n",
        "idx2char = np.array(vocab)\n",
        "\n",
        "#encode text from characters to numbers  \n",
        "encoded = np.array([char2idx[ch] for ch in text])  "
      ],
      "execution_count": 0,
      "outputs": []
    },
    {
      "cell_type": "code",
      "metadata": {
        "id": "dGskc03TGZ--",
        "colab_type": "code",
        "colab": {}
      },
      "source": [
        "# Print unique characters\n",
        "print ('{} unique characters:'.format(len(vocab)))\n",
        "\n",
        "print('{')\n",
        "for char in char2idx:\n",
        "    print('  {:4s}:{:3d},'.format(repr(char), char2idx[char]))\n",
        "print('}')"
      ],
      "execution_count": 0,
      "outputs": []
    },
    {
      "cell_type": "code",
      "metadata": {
        "id": "D4T1FgjiGg8d",
        "colab_type": "code",
        "outputId": "d4f9cab4-0c34-4c83-c0ce-e9dd6db33e91",
        "colab": {
          "base_uri": "https://localhost:8080/",
          "height": 34
        }
      },
      "source": [
        "sequence_length = 30\n",
        "\n",
        "# Create training examples\n",
        "x_data = []\n",
        "y_data = []\n",
        "\n",
        "for i in range(0, len(text) - sequence_length, 1):\n",
        "    x_sequence = text[i:i + sequence_length]\n",
        "    y_label = text[i + sequence_length]\n",
        "\n",
        "    x_data.append([char2idx[char] for char in x_sequence])\n",
        "    y_data.append(char2idx[y_label])\n",
        "\n",
        "data_length = len(x_data)\n",
        "print(\"Amount of data\", data_length)\n",
        "X = np.reshape(x_data, (data_length, sequence_length, 1))\n",
        "X = X/float(vocab_length)\n",
        "\n",
        "# one hot encoding\n",
        "y = np_utils.to_categorical(y_data)"
      ],
      "execution_count": 8,
      "outputs": [
        {
          "output_type": "stream",
          "text": [
            "Amount of data 115544\n"
          ],
          "name": "stdout"
        }
      ]
    },
    {
      "cell_type": "code",
      "metadata": {
        "id": "FzvlR2Z1M5-r",
        "colab_type": "code",
        "colab": {}
      },
      "source": [
        "model = Sequential()\n",
        "model.add(LSTM(256, input_shape=(X.shape[1], X.shape[2]), return_sequences=True))\n",
        "model.add(Dropout(0.2))\n",
        "model.add(LSTM(1024, return_sequences=True))\n",
        "model.add(Dropout(0.2))\n",
        "model.add(LSTM(128))\n",
        "# model.add(Dropout(0.2))\n",
        "model.add(Dense(y.shape[1], activation='softmax'))\n",
        "\n",
        "#             return_sequences=True,\n",
        "#             recurrent_initializer='glorot_uniform',\n",
        "#             stateful=True),\n",
        "\n",
        "# Model informations\n",
        "model.summary()"
      ],
      "execution_count": 0,
      "outputs": []
    },
    {
      "cell_type": "code",
      "metadata": {
        "id": "S6h5D-t_WgG9",
        "colab_type": "code",
        "colab": {}
      },
      "source": [
        "model.compile(loss='categorical_crossentropy', optimizer='adam', metrics=['accuracy'])"
      ],
      "execution_count": 0,
      "outputs": []
    },
    {
      "cell_type": "code",
      "metadata": {
        "id": "-DN9MDmbWsRb",
        "colab_type": "code",
        "colab": {}
      },
      "source": [
        "# Setting checkpoints and directory to save weights\n",
        "\n",
        "checkpoint_dir = './training_checkpoints'\n",
        "checkpoint_prefix = os.path.join(checkpoint_dir, \"ckpt_{epoch}\")\n",
        "\n",
        "es = EarlyStopping(monitor='val_loss', mode='min', verbose=2, patience=10)\n",
        "\n",
        "checkpoint_callback = tf.keras.callbacks.ModelCheckpoint(\n",
        "    filepath=checkpoint_prefix,\n",
        "    save_weights_only=True)\n",
        "\n",
        "callbacks = [checkpoint_callback, es]"
      ],
      "execution_count": 0,
      "outputs": []
    },
    {
      "cell_type": "code",
      "metadata": {
        "id": "ckKUs9m20mXz",
        "colab_type": "code",
        "outputId": "49ff90d7-1b75-41dc-c242-59c7b2ae0c4b",
        "colab": {
          "base_uri": "https://localhost:8080/",
          "height": 689
        }
      },
      "source": [
        "history = model.fit(X, y, epochs=25, validation_split=0.1, batch_size=256, verbose=2, callbacks=callbacks)"
      ],
      "execution_count": 12,
      "outputs": [
        {
          "output_type": "stream",
          "text": [
            "Train on 103989 samples, validate on 11555 samples\n",
            "Epoch 1/25\n",
            "103989/103989 - 86s - loss: 2.8187 - accuracy: 0.1915 - val_loss: 2.7408 - val_accuracy: 0.2035\n",
            "Epoch 2/25\n",
            "103989/103989 - 78s - loss: 2.4445 - accuracy: 0.2951 - val_loss: 2.2137 - val_accuracy: 0.3586\n",
            "Epoch 3/25\n",
            "103989/103989 - 78s - loss: 2.0293 - accuracy: 0.4051 - val_loss: 1.9785 - val_accuracy: 0.4135\n",
            "Epoch 4/25\n",
            "103989/103989 - 78s - loss: 1.8115 - accuracy: 0.4654 - val_loss: 1.8153 - val_accuracy: 0.4646\n",
            "Epoch 5/25\n",
            "103989/103989 - 78s - loss: 1.6658 - accuracy: 0.5060 - val_loss: 1.7187 - val_accuracy: 0.4891\n",
            "Epoch 6/25\n",
            "103989/103989 - 78s - loss: 1.5553 - accuracy: 0.5375 - val_loss: 1.6729 - val_accuracy: 0.5034\n",
            "Epoch 7/25\n",
            "103989/103989 - 78s - loss: 1.4609 - accuracy: 0.5641 - val_loss: 1.6456 - val_accuracy: 0.5154\n",
            "Epoch 8/25\n",
            "103989/103989 - 78s - loss: 1.3775 - accuracy: 0.5856 - val_loss: 1.6364 - val_accuracy: 0.5182\n",
            "Epoch 9/25\n",
            "103989/103989 - 78s - loss: 1.2898 - accuracy: 0.6098 - val_loss: 1.6230 - val_accuracy: 0.5232\n",
            "Epoch 10/25\n",
            "103989/103989 - 78s - loss: 1.2128 - accuracy: 0.6325 - val_loss: 1.6425 - val_accuracy: 0.5204\n",
            "Epoch 11/25\n",
            "103989/103989 - 78s - loss: 1.1363 - accuracy: 0.6538 - val_loss: 1.6567 - val_accuracy: 0.5250\n",
            "Epoch 12/25\n",
            "103989/103989 - 78s - loss: 1.0611 - accuracy: 0.6749 - val_loss: 1.6946 - val_accuracy: 0.5212\n",
            "Epoch 13/25\n",
            "103989/103989 - 78s - loss: 0.9879 - accuracy: 0.6970 - val_loss: 1.7147 - val_accuracy: 0.5221\n",
            "Epoch 14/25\n",
            "103989/103989 - 78s - loss: 0.9075 - accuracy: 0.7201 - val_loss: 1.7826 - val_accuracy: 0.5182\n",
            "Epoch 15/25\n",
            "103989/103989 - 78s - loss: 0.8309 - accuracy: 0.7445 - val_loss: 1.8483 - val_accuracy: 0.5084\n",
            "Epoch 16/25\n",
            "103989/103989 - 78s - loss: 0.7631 - accuracy: 0.7658 - val_loss: 1.8920 - val_accuracy: 0.5088\n",
            "Epoch 17/25\n",
            "103989/103989 - 78s - loss: 0.6916 - accuracy: 0.7875 - val_loss: 1.9360 - val_accuracy: 0.5065\n",
            "Epoch 18/25\n",
            "103989/103989 - 78s - loss: 0.6291 - accuracy: 0.8061 - val_loss: 2.0463 - val_accuracy: 0.4980\n",
            "Epoch 19/25\n",
            "103989/103989 - 78s - loss: 0.5670 - accuracy: 0.8263 - val_loss: 2.1127 - val_accuracy: 0.4951\n",
            "Epoch 00019: early stopping\n"
          ],
          "name": "stdout"
        }
      ]
    },
    {
      "cell_type": "code",
      "metadata": {
        "id": "rktOFz_d0zAd",
        "colab_type": "code",
        "outputId": "002d243a-b1cf-4a96-9034-d313e646b9c2",
        "colab": {
          "base_uri": "https://localhost:8080/",
          "height": 34
        }
      },
      "source": [
        "tf.train.latest_checkpoint(checkpoint_dir) #second param direct file: \"ckpt_50\""
      ],
      "execution_count": 13,
      "outputs": [
        {
          "output_type": "execute_result",
          "data": {
            "text/plain": [
              "'./training_checkpoints/ckpt_19'"
            ]
          },
          "metadata": {
            "tags": []
          },
          "execution_count": 13
        }
      ]
    },
    {
      "cell_type": "code",
      "metadata": {
        "id": "tJ0KMVJo05cM",
        "colab_type": "code",
        "colab": {}
      },
      "source": [
        "model = build_model(vocab_size, embedding_dim, rnn_units, batch_size=1)\n",
        "\n",
        "model.load_weights(tf.train.latest_checkpoint(checkpoint_dir))\n",
        "\n",
        "model.build(tf.TensorShape([1, None]))"
      ],
      "execution_count": 0,
      "outputs": []
    },
    {
      "cell_type": "code",
      "metadata": {
        "id": "I2pmrJv_07w1",
        "colab_type": "code",
        "colab": {}
      },
      "source": [
        "def generate_text(model):\n",
        "  random_index = np.random.randint(0, len(X)-1)\n",
        "  new_string = x_data[random_index]\n",
        "  print ('random seed data: ', repr(''.join(idx2char[new_string])))\n",
        "\n",
        "  text_generated = []\n",
        "\n",
        "  model.reset_states()\n",
        "  for i in range(100):\n",
        "      x = np.reshape(new_string, (1, len(new_string), 1))\n",
        "      x = x/float(vocab_length)\n",
        "\n",
        "      index = np.argmax(model.predict(x))\n",
        "      result = idx2char[index]\n",
        "\n",
        "      new_string = np.append(new_string, index)\n",
        "      new_string = new_string[1:len(new_string)]\n",
        "      text_generated.append(result)\n",
        "\n",
        "  return ''.join(text_generated)"
      ],
      "execution_count": 0,
      "outputs": []
    },
    {
      "cell_type": "code",
      "metadata": {
        "id": "IGzq8hGkpgj9",
        "colab_type": "code",
        "colab": {
          "base_uri": "https://localhost:8080/",
          "height": 369
        },
        "outputId": "e903e6b5-f802-4252-b807-43f1cc60dea6"
      },
      "source": [
        "import matplotlib.pyplot as plt\n",
        "# Get training loss for the model to see if we converged correctly\n",
        "training_loss = history.history['loss']\n",
        "validation_loss = history.history['val_loss']\n",
        "training_acc = history.history['accuracy']\n",
        "validation_acc = history.history['val_accuracy']\n",
        "\n",
        "epoch_count = range(1, len(training_loss) + 1)\n",
        "\n",
        "f = plt.figure(figsize=(14,5))\n",
        "\n",
        "a0 = f.add_subplot(121)\n",
        "a0.plot(epoch_count, training_loss, 'r--', label=\"Training loss\")\n",
        "a0.plot(epoch_count, validation_loss, 'b-', label=\"Validation loss\")\n",
        "a0.legend()\n",
        "a0.set_title(\"Loss function\")\n",
        "a0.set_xlabel(\"Epoch\")\n",
        "a0.set_ylabel(\"Loss\")\n",
        "\n",
        "a1 = f.add_subplot(122)\n",
        "a1.plot(epoch_count, training_acc, 'r--', label=\"Training acc\")\n",
        "a1.plot(epoch_count, validation_acc, 'b-', label=\"Validation acc\")\n",
        "a1.legend()\n",
        "a1.set_title(\"Accuracy function\")\n",
        "a1.set_xlabel(\"Epoch\")\n",
        "a1.set_ylabel(\"Acc\")\n",
        "\n",
        "plt.tight_layout()\n",
        "\n",
        "plt.show()\n",
        "\n"
      ],
      "execution_count": 23,
      "outputs": [
        {
          "output_type": "display_data",
          "data": {
            "image/png": "[encoded data removed]",
            "text/plain": [
              "<Figure size 1008x360 with 2 Axes>"
            ]
          },
          "metadata": {
            "tags": []
          }
        }
      ]
    },
    {
      "cell_type": "code",
      "metadata": {
        "id": "hZcRkB_TprQP",
        "colab_type": "code",
        "outputId": "adce41ce-4c75-4046-a915-38bb6300fe47",
        "colab": {
          "base_uri": "https://localhost:8080/",
          "height": 50
        }
      },
      "source": [
        "print(generate_text(model))\n",
        "# margaret tried up the home that noone else way his head kep"
      ],
      "execution_count": 30,
      "outputs": [
        {
          "output_type": "stream",
          "text": [
            "random seed data:  'at although the flat was much '\n",
            "too bnd woure also well aware that it was not something that she would be sossted for the time being\n"
          ],
          "name": "stdout"
        }
      ]
    }
  ]
}