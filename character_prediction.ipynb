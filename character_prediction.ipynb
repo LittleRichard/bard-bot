{
  "nbformat": 4,
  "nbformat_minor": 0,
  "metadata": {
    "colab": {
      "name": "character_prediction.ipynb",
      "provenance": [],
      "collapsed_sections": []
    },
    "kernelspec": {
      "name": "python3",
      "display_name": "Python 3"
    },
    "accelerator": "GPU"
  },
  "cells": [
    {
      "cell_type": "code",
      "metadata": {
        "id": "Lmgy6GCVFf_j",
        "colab_type": "code",
        "outputId": "443e684d-6b3c-4276-8723-fe1b5045f89a",
        "colab": {
          "base_uri": "https://localhost:8080/",
          "height": 67
        }
      },
      "source": [
        "%tensorflow_version 2.x\n",
        "import tensorflow as tf\n",
        "print(\"Tensorflow version:\", tf.__version__)\n",
        "from tensorflow.keras.callbacks import EarlyStopping as EarlyStopping\n",
        "from tensorflow.python.client import device_lib\n",
        "from tensorflow.keras.layers import Activation\n",
        "from tensorflow.keras.models import Sequential\n",
        "from tensorflow.keras.layers import Dense, Dropout, LSTM\n",
        "from tensorflow.keras.callbacks import ModelCheckpoint\n",
        "from keras.utils import np_utils\n",
        "import numpy as np\n",
        "import os\n",
        "import re\n",
        "import time\n",
        "import string\n",
        "import glob"
      ],
      "execution_count": 4,
      "outputs": [
        {
          "output_type": "stream",
          "text": [
            "TensorFlow 2.x selected.\n",
            "Tensorflow version: 2.0.0\n"
          ],
          "name": "stdout"
        },
        {
          "output_type": "stream",
          "text": [
            "Using TensorFlow backend.\n"
          ],
          "name": "stderr"
        }
      ]
    },
    {
      "cell_type": "code",
      "metadata": {
        "id": "58JCHK2YiIbN",
        "colab_type": "code",
        "colab": {
          "base_uri": "https://localhost:8080/",
          "height": 571
        },
        "outputId": "15020578-1b00-49ef-cb7a-729921dbfe79"
      },
      "source": [
        "# Devices informations\n",
        "print(\"Devices:\\n\", device_lib.list_local_devices())\n",
        "print(\"GPU:\", tf.test.gpu_device_name())"
      ],
      "execution_count": 5,
      "outputs": [
        {
          "output_type": "stream",
          "text": [
            "Devices:\n",
            " [name: \"/device:CPU:0\"\n",
            "device_type: \"CPU\"\n",
            "memory_limit: 268435456\n",
            "locality {\n",
            "}\n",
            "incarnation: 12472054844300253970\n",
            ", name: \"/device:XLA_CPU:0\"\n",
            "device_type: \"XLA_CPU\"\n",
            "memory_limit: 17179869184\n",
            "locality {\n",
            "}\n",
            "incarnation: 4828310425430406359\n",
            "physical_device_desc: \"device: XLA_CPU device\"\n",
            ", name: \"/device:XLA_GPU:0\"\n",
            "device_type: \"XLA_GPU\"\n",
            "memory_limit: 17179869184\n",
            "locality {\n",
            "}\n",
            "incarnation: 4257862428345343190\n",
            "physical_device_desc: \"device: XLA_GPU device\"\n",
            ", name: \"/device:GPU:0\"\n",
            "device_type: \"GPU\"\n",
            "memory_limit: 11330053735\n",
            "locality {\n",
            "  bus_id: 1\n",
            "  links {\n",
            "  }\n",
            "}\n",
            "incarnation: 12212173027285556294\n",
            "physical_device_desc: \"device: 0, name: Tesla K80, pci bus id: 0000:00:04.0, compute capability: 3.7\"\n",
            "]\n",
            "GPU: /device:GPU:0\n"
          ],
          "name": "stdout"
        }
      ]
    },
    {
      "cell_type": "code",
      "metadata": {
        "id": "U_UGziQ1LuOv",
        "colab_type": "code",
        "colab": {}
      },
      "source": [
        "!git clone https://github.com/michalovsky/books_data.git"
      ],
      "execution_count": 0,
      "outputs": []
    },
    {
      "cell_type": "code",
      "metadata": {
        "id": "8yOZbDntMiSH",
        "colab_type": "code",
        "outputId": "d4d823a9-790d-476a-acf7-cecd080e4a60",
        "colab": {
          "base_uri": "https://localhost:8080/",
          "height": 34
        }
      },
      "source": [
        "# Read all file paths from directory\n",
        "directory = \"books_data/kafka/\"\n",
        "file_paths = glob.glob(directory +\"*.txt\")    \n",
        "print(\"Found\", len(file_paths), \"text files in directory:\", directory)"
      ],
      "execution_count": 83,
      "outputs": [
        {
          "output_type": "stream",
          "text": [
            "Found 1 text files in directory: books_data/kafka/\n"
          ],
          "name": "stdout"
        }
      ]
    },
    {
      "cell_type": "code",
      "metadata": {
        "id": "3NmsP_xHPnRe",
        "colab_type": "code",
        "outputId": "6a9f6876-93b2-4dbf-bc8c-6b988e4a7cac",
        "colab": {
          "base_uri": "https://localhost:8080/",
          "height": 34
        }
      },
      "source": [
        "# Extract text from all text files\n",
        "text = \"\"\n",
        "\n",
        "for file_path in file_paths:\n",
        "    with open(file_path, 'r') as file:\n",
        "        file_content = file.read()\n",
        "        #remove file beginning and ending from gutenberg books\n",
        "        file_content = file_content[file_content.find(\"*** START\"):file_content.rfind(\"*** END\")]\n",
        "        #remove file ending from wolnelektury books\n",
        "        file_content = file_content[:file_content.rfind(\"-----\")]\n",
        "        text+=file_content\n",
        "print ('Length of text: {} characters'.format(len(text)))"
      ],
      "execution_count": 84,
      "outputs": [
        {
          "output_type": "stream",
          "text": [
            "Length of text: 119433 characters\n"
          ],
          "name": "stdout"
        }
      ]
    },
    {
      "cell_type": "code",
      "metadata": {
        "id": "_FNF_i6cF1b7",
        "colab_type": "code",
        "outputId": "b1c39af7-4364-482f-a63e-673cc220772d",
        "colab": {
          "base_uri": "https://localhost:8080/",
          "height": 34
        }
      },
      "source": [
        "# Preprocess data\n",
        "\n",
        "punctuation_translator = str.maketrans('–—”„…«»‘’“', '          ', string.punctuation)\n",
        "digits_translator = str.maketrans('', '', string.digits)\n",
        "special_characters_translator = str.maketrans('ąćęłńóśźżäöüæèêéô', 'acelnoszzaoueeeeo', '')\n",
        "\n",
        "# remove redundant characters and translate special characters\n",
        "text = text.lower().translate(punctuation_translator).translate(digits_translator).translate(special_characters_translator)\n",
        "\n",
        "# remove \"tom <number>\" strings \n",
        "text = re.sub(r\"\\ntom\\s(.*)\\n\", \"\", text)\n",
        "\n",
        "# remove \"rozdzial <number>\" strings \n",
        "text = re.sub(r\"\\nrozdzial\\s(.*)\\n\", \"\", text)\n",
        "\n",
        "# remove \"chapter <number>\" strings \n",
        "text = re.sub(r\"\\nchapter\\s(.*)\\n\", \"\", text)\n",
        "\n",
        "# remove \"letter <number>\" strings \n",
        "text = re.sub(r\"\\nletter\\s(.*)\\n\", \"\", text)\n",
        "\n",
        "#remove extra spaces and new lines\n",
        "text = ' '.join(text.split())\n",
        "\n",
        "print ('Length of text after preprocessing: {} characters'.format(len(text)))"
      ],
      "execution_count": 85,
      "outputs": [
        {
          "output_type": "stream",
          "text": [
            "Length of text after preprocessing: 115574 characters\n"
          ],
          "name": "stdout"
        }
      ]
    },
    {
      "cell_type": "code",
      "metadata": {
        "id": "2HCZY-GZGQ14",
        "colab_type": "code",
        "outputId": "af1e8526-5ff7-4d6b-84ac-40375ca9374d",
        "colab": {
          "base_uri": "https://localhost:8080/",
          "height": 34
        }
      },
      "source": [
        "# split text into words\n",
        "words = text.split(\" \")\n",
        "print ('Amount of words: {}'.format(len(words)))"
      ],
      "execution_count": 86,
      "outputs": [
        {
          "output_type": "stream",
          "text": [
            "Amount of words: 22043\n"
          ],
          "name": "stdout"
        }
      ]
    },
    {
      "cell_type": "code",
      "metadata": {
        "id": "ppJ2hrDqGUtP",
        "colab_type": "code",
        "colab": {}
      },
      "source": [
        "# Creating a mapping from unique characters to indices\n",
        "\n",
        "vocab = sorted(set(text))\n",
        "vocab_length = len(vocab)\n",
        "\n",
        "char2idx = {u:i for i, u in enumerate(vocab)}\n",
        "idx2char = np.array(vocab)\n",
        "\n",
        "#encode text from characters to numbers  \n",
        "encoded = np.array([char2idx[ch] for ch in text])  "
      ],
      "execution_count": 0,
      "outputs": []
    },
    {
      "cell_type": "code",
      "metadata": {
        "id": "dGskc03TGZ--",
        "colab_type": "code",
        "colab": {
          "base_uri": "https://localhost:8080/",
          "height": 521
        },
        "outputId": "ef8da732-6d53-4d7f-8655-a976c1320cc6"
      },
      "source": [
        "# Print unique characters\n",
        "print ('{} unique characters:'.format(len(vocab)))\n",
        "\n",
        "print('{')\n",
        "for char in char2idx:\n",
        "    print('  {:4s}:{:3d},'.format(repr(char), char2idx[char]))\n",
        "print('}')"
      ],
      "execution_count": 88,
      "outputs": [
        {
          "output_type": "stream",
          "text": [
            "27 unique characters:\n",
            "{\n",
            "  ' ' :  0,\n",
            "  'a' :  1,\n",
            "  'b' :  2,\n",
            "  'c' :  3,\n",
            "  'd' :  4,\n",
            "  'e' :  5,\n",
            "  'f' :  6,\n",
            "  'g' :  7,\n",
            "  'h' :  8,\n",
            "  'i' :  9,\n",
            "  'j' : 10,\n",
            "  'k' : 11,\n",
            "  'l' : 12,\n",
            "  'm' : 13,\n",
            "  'n' : 14,\n",
            "  'o' : 15,\n",
            "  'p' : 16,\n",
            "  'q' : 17,\n",
            "  'r' : 18,\n",
            "  's' : 19,\n",
            "  't' : 20,\n",
            "  'u' : 21,\n",
            "  'v' : 22,\n",
            "  'w' : 23,\n",
            "  'x' : 24,\n",
            "  'y' : 25,\n",
            "  'z' : 26,\n",
            "}\n"
          ],
          "name": "stdout"
        }
      ]
    },
    {
      "cell_type": "code",
      "metadata": {
        "id": "D4T1FgjiGg8d",
        "colab_type": "code",
        "outputId": "6b4b6c1e-bb80-4e20-cc28-254f2d12a4fe",
        "colab": {
          "base_uri": "https://localhost:8080/",
          "height": 34
        }
      },
      "source": [
        "# The maximum length sentence we want for a single input in characters\n",
        "sequence_length = 30\n",
        "\n",
        "# Create trainging examples\n",
        "x_data = []\n",
        "y_data = []\n",
        "\n",
        "for i in range(0, len(text) - sequence_length, 1):\n",
        "    x_sequence = text[i:i + sequence_length]\n",
        "    y_label = text[i + sequence_length]\n",
        "\n",
        "    # We now convert list of characters to integers based on\n",
        "    # previously and add the values to our lists\n",
        "    x_data.append([char2idx[char] for char in x_sequence])\n",
        "    y_data.append(char2idx[y_label])\n",
        "\n",
        "data_length = len(x_data)\n",
        "print(\"Amount of data\", data_length)\n",
        "X = np.reshape(x_data, (data_length, sequence_length, 1))\n",
        "X = X/float(vocab_length)\n",
        "\n",
        "# one hot encoding\n",
        "y = np_utils.to_categorical(y_data)\n",
        "\n",
        "# char_dataset = tf.data.Dataset.from_tensor_slices(encoded)\n",
        "\n",
        "# # Create sequences from dataset\n",
        "# sequences = char_dataset.batch(sequence_length+1, drop_remainder=True)"
      ],
      "execution_count": 89,
      "outputs": [
        {
          "output_type": "stream",
          "text": [
            "Amount of data 115544\n"
          ],
          "name": "stdout"
        }
      ]
    },
    {
      "cell_type": "code",
      "metadata": {
        "id": "gjdTeUmqIkuH",
        "colab_type": "code",
        "colab": {}
      },
      "source": [
        "#first 10 sequence batches\n",
        "# for item in sequences.take(10):\n",
        "#   print(repr(''.join(idx2char[item.numpy()])))"
      ],
      "execution_count": 0,
      "outputs": []
    },
    {
      "cell_type": "code",
      "metadata": {
        "id": "7UkKhz-ZJNUq",
        "colab_type": "code",
        "colab": {}
      },
      "source": [
        "# Transform each sequence into two sequences: input(same as sequence), target (shifted by one index)\n",
        "\n",
        "# def split_input_target(chunk):\n",
        "#   input_text = chunk[:-1]\n",
        "#   target_text = chunk[1:]\n",
        "#   return input_text, target_text\n",
        "\n",
        "# dataset = sequences.map(split_input_target)"
      ],
      "execution_count": 0,
      "outputs": []
    },
    {
      "cell_type": "code",
      "metadata": {
        "id": "Pkz--QEZJY-P",
        "colab_type": "code",
        "outputId": "30c12473-2608-4501-ce55-ca11bc7a885b",
        "colab": {
          "base_uri": "https://localhost:8080/",
          "height": 50
        }
      },
      "source": [
        "# First input data and corresponding target data\n",
        "# for input_example, target_example in  dataset.take(1):\n",
        "#   print ('Input data: ', repr(''.join(idx2char[input_example.numpy()])))\n",
        "#   print ('Target data:', repr(''.join(idx2char[target_example.numpy()])))"
      ],
      "execution_count": 0,
      "outputs": [
        {
          "output_type": "stream",
          "text": [
            "Input data:  'start of this project gutenber'\n",
            "Target data: 'tart of this project gutenberg'\n"
          ],
          "name": "stdout"
        }
      ]
    },
    {
      "cell_type": "code",
      "metadata": {
        "id": "r0qPZGAFK5Lt",
        "colab_type": "code",
        "colab": {}
      },
      "source": [
        "# Shuffle dataset\n",
        "# batch_size = 64\n",
        "# steps_per_epoch = examples_per_epoch//batch_size\n",
        "# buffer_size = 10000\n",
        "# dataset = dataset.shuffle(buffer_size).batch(batch_size, drop_remainder=True)"
      ],
      "execution_count": 0,
      "outputs": []
    },
    {
      "cell_type": "code",
      "metadata": {
        "id": "kP5shCZiLf6g",
        "colab_type": "code",
        "colab": {}
      },
      "source": [
        "# Defining function building model with two GRU Rnn layers and output to dense layer \n",
        "# def build_model(vocab_size, embedding_dim, rnn_units, batch_size):\n",
        "#     model = tf.keras.Sequential([\n",
        "#         tf.keras.layers.Embedding(vocab_size, embedding_dim,\n",
        "#                                   batch_input_shape=[batch_size, None]),\n",
        "#         tf.keras.layers.LSTM(rnn_units,\n",
        "#             return_sequences=True,\n",
        "#             recurrent_initializer='glorot_uniform',\n",
        "#             stateful=True),\n",
        "#         tf.keras.layers.LSTM(rnn_units,\n",
        "#             return_sequences=True,\n",
        "#             recurrent_initializer='glorot_uniform',\n",
        "#             stateful=True),\n",
        "    \n",
        "#         tf.keras.layers.Dense(vocab_size)])\n",
        "#     return model"
      ],
      "execution_count": 0,
      "outputs": []
    },
    {
      "cell_type": "code",
      "metadata": {
        "id": "FzvlR2Z1M5-r",
        "colab_type": "code",
        "colab": {
          "base_uri": "https://localhost:8080/",
          "height": 319
        },
        "outputId": "36f21ac4-ef02-4348-e5eb-dc2c93293285"
      },
      "source": [
        "# # Length of the vocabulary (amount of unique characters)\n",
        "# vocab_size = len(vocab)\n",
        "\n",
        "# # The embedding dimension\n",
        "# embedding_dim = 256\n",
        "\n",
        "# # Number of RNN units\n",
        "# rnn_units = 1024\n",
        "\n",
        "# # Build model\n",
        "# model = build_model(vocab_size, embedding_dim, rnn_units, batch_size)\n",
        "\n",
        "model = Sequential()\n",
        "model.add(LSTM(256, input_shape=(X.shape[1], X.shape[2]), return_sequences=True))\n",
        "# model.add(Dropout(0.2))\n",
        "model.add(LSTM(1024, return_sequences=True))\n",
        "model.add(Dropout(0.2))\n",
        "model.add(LSTM(256))\n",
        "# model.add(Dropout(0.2))\n",
        "model.add(Dense(y.shape[1], activation='softmax'))\n",
        "\n",
        "# Model informations\n",
        "model.summary()"
      ],
      "execution_count": 134,
      "outputs": [
        {
          "output_type": "stream",
          "text": [
            "Model: \"sequential_3\"\n",
            "_________________________________________________________________\n",
            "Layer (type)                 Output Shape              Param #   \n",
            "=================================================================\n",
            "lstm_9 (LSTM)                (None, 30, 256)           264192    \n",
            "_________________________________________________________________\n",
            "lstm_10 (LSTM)               (None, 30, 1024)          5246976   \n",
            "_________________________________________________________________\n",
            "dropout_9 (Dropout)          (None, 30, 1024)          0         \n",
            "_________________________________________________________________\n",
            "lstm_11 (LSTM)               (None, 256)               1311744   \n",
            "_________________________________________________________________\n",
            "dense_3 (Dense)              (None, 27)                6939      \n",
            "=================================================================\n",
            "Total params: 6,829,851\n",
            "Trainable params: 6,829,851\n",
            "Non-trainable params: 0\n",
            "_________________________________________________________________\n"
          ],
          "name": "stdout"
        }
      ]
    },
    {
      "cell_type": "code",
      "metadata": {
        "id": "9iaRDzX8Pv4T",
        "colab_type": "code",
        "colab": {}
      },
      "source": [
        "# # Define loss function\n",
        "\n",
        "# def loss(labels, logits):\n",
        "#   return tf.keras.losses.sparse_categorical_crossentropy(labels, logits, from_logits=True)"
      ],
      "execution_count": 0,
      "outputs": []
    },
    {
      "cell_type": "code",
      "metadata": {
        "id": "S6h5D-t_WgG9",
        "colab_type": "code",
        "colab": {}
      },
      "source": [
        "# model.compile(\n",
        "#     optimizer = tf.optimizers.Adam(),\n",
        "#     loss = loss\n",
        "#     )\n",
        "\n",
        "model.compile(loss='categorical_crossentropy', optimizer='adam', metrics=['accuracy'])"
      ],
      "execution_count": 0,
      "outputs": []
    },
    {
      "cell_type": "code",
      "metadata": {
        "id": "-DN9MDmbWsRb",
        "colab_type": "code",
        "colab": {}
      },
      "source": [
        "# Directory where the checkpoints will be saved\n",
        "checkpoint_dir = './training_checkpoints'\n",
        "# Name of the checkpoint files\n",
        "checkpoint_prefix = os.path.join(checkpoint_dir, \"ckpt_{epoch}\")\n",
        "\n",
        "es = EarlyStopping(monitor='val_loss', mode='min', verbose=2, patience=10)\n",
        "\n",
        "checkpoint_callback = tf.keras.callbacks.ModelCheckpoint(\n",
        "    filepath=checkpoint_prefix,\n",
        "    save_weights_only=True,\n",
        "    save_best_only=True)\n",
        "\n",
        "callbacks = [checkpoint_callback, es]"
      ],
      "execution_count": 0,
      "outputs": []
    },
    {
      "cell_type": "code",
      "metadata": {
        "id": "ckKUs9m20mXz",
        "colab_type": "code",
        "outputId": "07e16025-f9d1-4085-d1df-ad54116ca555",
        "colab": {
          "base_uri": "https://localhost:8080/",
          "height": 50
        }
      },
      "source": [
        "# batch_size = 64\n",
        "# examples_per_epoch = len(encoded)//sequence_length\n",
        "# steps_per_epoch = examples_per_epoch//batch_size\n",
        "history = model.fit(X, y, epochs=20, validation_split=0.1, batch_size=256, verbose=2, callbacks=callbacks)"
      ],
      "execution_count": 0,
      "outputs": [
        {
          "output_type": "stream",
          "text": [
            "Train on 103989 samples, validate on 11555 samples\n",
            "Epoch 1/20\n"
          ],
          "name": "stdout"
        }
      ]
    },
    {
      "cell_type": "code",
      "metadata": {
        "id": "rktOFz_d0zAd",
        "colab_type": "code",
        "outputId": "4c944f1b-1126-4bbc-e975-d696c6c2e33c",
        "colab": {
          "base_uri": "https://localhost:8080/",
          "height": 34
        }
      },
      "source": [
        "tf.train.latest_checkpoint(checkpoint_dir) #second param direct file: \"ckpt_50\""
      ],
      "execution_count": 98,
      "outputs": [
        {
          "output_type": "execute_result",
          "data": {
            "text/plain": [
              "'./training_checkpoints/ckpt_20'"
            ]
          },
          "metadata": {
            "tags": []
          },
          "execution_count": 98
        }
      ]
    },
    {
      "cell_type": "code",
      "metadata": {
        "id": "tJ0KMVJo05cM",
        "colab_type": "code",
        "colab": {}
      },
      "source": [
        "model = build_model(vocab_size, embedding_dim, rnn_units, batch_size=1)\n",
        "\n",
        "model.load_weights(tf.train.latest_checkpoint(checkpoint_dir))\n",
        "\n",
        "model.build(tf.TensorShape([1, None]))"
      ],
      "execution_count": 0,
      "outputs": []
    },
    {
      "cell_type": "code",
      "metadata": {
        "id": "I2pmrJv_07w1",
        "colab_type": "code",
        "colab": {}
      },
      "source": [
        "def generate_text(model):\n",
        "  random_index = np.random.randint(0, len(X)-1)\n",
        "  new_string = x_data[random_index]\n",
        "  print(new_string)\n",
        "  print ('random seed data: ', repr(''.join(idx2char[new_string])))\n",
        "\n",
        "  text_generated = []\n",
        "\n",
        "  model.reset_states()\n",
        "  for i in range(100):\n",
        "      x = np.reshape(new_string, (1, len(new_string), 1))\n",
        "      x = x/float(vocab_length)\n",
        "\n",
        "      index = np.argmax(model.predict(x))\n",
        "      result = idx2char[index]\n",
        "\n",
        "      new_string = np.append(new_string, index)\n",
        "      new_string = new_string[1:len(new_string)]\n",
        "      print(new_string)\n",
        "      text_generated.append(result)\n",
        "\n",
        "  return ''.join(text_generated)"
      ],
      "execution_count": 0,
      "outputs": []
    },
    {
      "cell_type": "code",
      "metadata": {
        "id": "IGzq8hGkpgj9",
        "colab_type": "code",
        "colab": {
          "base_uri": "https://localhost:8080/",
          "height": 282
        },
        "outputId": "255f3aae-bae6-451b-d240-b23fd185c74f"
      },
      "source": [
        "import matplotlib.pyplot as plt\n",
        "# Get training loss for the model to see if we converged correctly\n",
        "training_loss = history.history['loss']\n",
        "validation_loss = history.history['val_loss']\n",
        "training_acc = history.history['accuracy']\n",
        "validation_acc = history.history['val_accuracy']\n",
        "\n",
        "epoch_count = range(1, len(training_loss) + 1)\n",
        "\n",
        "f, (a0, a1) = plt.subplots(1, 2, gridspec_kw={'width_ratios': [3, 3]})\n",
        "\n",
        "a0.plot(epoch_count, training_loss, 'r--')\n",
        "a0.plot(epoch_count, validation_loss, 'b-')\n",
        "a0.legend(['Loss'])\n",
        "# a0.xlabel('Epoch')\n",
        "# a0.ylabel('Loss')\n",
        "\n",
        "# f.tight_layout()\n",
        "# f.savefig('grid_figure.pdf')\n",
        "\n",
        "a1.plot(epoch_count, training_acc, 'r--')\n",
        "a1.plot(epoch_count, validation_acc, 'b-')\n",
        "a1.legend(['Accuracy'])\n",
        "# a1.xlabel('Epoch')\n",
        "# a1.ylabel('Loss')\n",
        "\n",
        "# # Visualize loss history\n",
        "# plt.figure(figsize=(16,9))\n",
        "# plt.plot(epoch_count, training_loss, 'r--')\n",
        "# plt.plot(epoch_count, validation_loss, 'b-')\n",
        "# plt.legend(['Training Loss'])\n",
        "# plt.xlabel('Epoch')\n",
        "# plt.ylabel('Loss')\n",
        "# plt.show()\n"
      ],
      "execution_count": 120,
      "outputs": [
        {
          "output_type": "execute_result",
          "data": {
            "text/plain": [
              "<matplotlib.legend.Legend at 0x7fae5e2430f0>"
            ]
          },
          "metadata": {
            "tags": []
          },
          "execution_count": 120
        },
        {
          "output_type": "display_data",
          "data": {
            "image/png": "[encoded data removed]",
            "text/plain": [
              "<Figure size 432x288 with 2 Axes>"
            ]
          },
          "metadata": {
            "tags": []
          }
        }
      ]
    },
    {
      "cell_type": "code",
      "metadata": {
        "id": "hZcRkB_TprQP",
        "colab_type": "code",
        "outputId": "769b93cb-db8f-4d59-c5aa-40ab91b1746c",
        "colab": {
          "base_uri": "https://localhost:8080/",
          "height": 1000
        }
      },
      "source": [
        "print(generate_text(model))\n",
        "# margaret tried up the home that noone else way his head kep"
      ],
      "execution_count": 133,
      "outputs": [
        {
          "output_type": "stream",
          "text": [
            "[5, 13, 2, 5, 18, 0, 23, 8, 1, 20, 19, 0, 2, 5, 5, 14, 0, 1, 3, 8, 9, 5, 22, 5, 4, 0, 9, 14, 0, 20]\n",
            "random seed data:  'ember whats been achieved in t'\n",
            "[13  2  5 18  0 23  8  1 20 19  0  2  5  5 14  0  1  3  8  9  5 22  5  4\n",
            "  0  9 14  0 20  8]\n",
            "[ 2  5 18  0 23  8  1 20 19  0  2  5  5 14  0  1  3  8  9  5 22  5  4  0\n",
            "  9 14  0 20  8  5]\n",
            "[ 5 18  0 23  8  1 20 19  0  2  5  5 14  0  1  3  8  9  5 22  5  4  0  9\n",
            " 14  0 20  8  5  0]\n",
            "[18  0 23  8  1 20 19  0  2  5  5 14  0  1  3  8  9  5 22  5  4  0  9 14\n",
            "  0 20  8  5  0  6]\n",
            "[ 0 23  8  1 20 19  0  2  5  5 14  0  1  3  8  9  5 22  5  4  0  9 14  0\n",
            " 20  8  5  0  6 12]\n",
            "[23  8  1 20 19  0  2  5  5 14  0  1  3  8  9  5 22  5  4  0  9 14  0 20\n",
            "  8  5  0  6 12 15]\n",
            "[ 8  1 20 19  0  2  5  5 14  0  1  3  8  9  5 22  5  4  0  9 14  0 20  8\n",
            "  5  0  6 12 15 15]\n",
            "[ 1 20 19  0  2  5  5 14  0  1  3  8  9  5 22  5  4  0  9 14  0 20  8  5\n",
            "  0  6 12 15 15 18]\n",
            "[20 19  0  2  5  5 14  0  1  3  8  9  5 22  5  4  0  9 14  0 20  8  5  0\n",
            "  6 12 15 15 18  0]\n",
            "[19  0  2  5  5 14  0  1  3  8  9  5 22  5  4  0  9 14  0 20  8  5  0  6\n",
            " 12 15 15 18  0 20]\n",
            "[ 0  2  5  5 14  0  1  3  8  9  5 22  5  4  0  9 14  0 20  8  5  0  6 12\n",
            " 15 15 18  0 20  8]\n",
            "[ 2  5  5 14  0  1  3  8  9  5 22  5  4  0  9 14  0 20  8  5  0  6 12 15\n",
            " 15 18  0 20  8  5]\n",
            "[ 5  5 14  0  1  3  8  9  5 22  5  4  0  9 14  0 20  8  5  0  6 12 15 15\n",
            " 18  0 20  8  5  0]\n",
            "[ 5 14  0  1  3  8  9  5 22  5  4  0  9 14  0 20  8  5  0  6 12 15 15 18\n",
            "  0 20  8  5  0  3]\n",
            "[14  0  1  3  8  9  5 22  5  4  0  9 14  0 20  8  5  0  6 12 15 15 18  0\n",
            " 20  8  5  0  3 15]\n",
            "[ 0  1  3  8  9  5 22  5  4  0  9 14  0 20  8  5  0  6 12 15 15 18  0 20\n",
            "  8  5  0  3 15 21]\n",
            "[ 1  3  8  9  5 22  5  4  0  9 14  0 20  8  5  0  6 12 15 15 18  0 20  8\n",
            "  5  0  3 15 21  3]\n",
            "[ 3  8  9  5 22  5  4  0  9 14  0 20  8  5  0  6 12 15 15 18  0 20  8  5\n",
            "  0  3 15 21  3  8]\n",
            "[ 8  9  5 22  5  4  0  9 14  0 20  8  5  0  6 12 15 15 18  0 20  8  5  0\n",
            "  3 15 21  3  8  0]\n",
            "[ 9  5 22  5  4  0  9 14  0 20  8  5  0  6 12 15 15 18  0 20  8  5  0  3\n",
            " 15 21  3  8  0  1]\n",
            "[ 5 22  5  4  0  9 14  0 20  8  5  0  6 12 15 15 18  0 20  8  5  0  3 15\n",
            " 21  3  8  0  1 14]\n",
            "[22  5  4  0  9 14  0 20  8  5  0  6 12 15 15 18  0 20  8  5  0  3 15 21\n",
            "  3  8  0  1 14  4]\n",
            "[ 5  4  0  9 14  0 20  8  5  0  6 12 15 15 18  0 20  8  5  0  3 15 21  3\n",
            "  8  0  1 14  4  0]\n",
            "[ 4  0  9 14  0 20  8  5  0  6 12 15 15 18  0 20  8  5  0  3 15 21  3  8\n",
            "  0  1 14  4  0 19]\n",
            "[ 0  9 14  0 20  8  5  0  6 12 15 15 18  0 20  8  5  0  3 15 21  3  8  0\n",
            "  1 14  4  0 19  8]\n",
            "[ 9 14  0 20  8  5  0  6 12 15 15 18  0 20  8  5  0  3 15 21  3  8  0  1\n",
            " 14  4  0 19  8  5]\n",
            "[14  0 20  8  5  0  6 12 15 15 18  0 20  8  5  0  3 15 21  3  8  0  1 14\n",
            "  4  0 19  8  5  0]\n",
            "[ 0 20  8  5  0  6 12 15 15 18  0 20  8  5  0  3 15 21  3  8  0  1 14  4\n",
            "  0 19  8  5  0 19]\n",
            "[20  8  5  0  6 12 15 15 18  0 20  8  5  0  3 15 21  3  8  0  1 14  4  0\n",
            " 19  8  5  0 19 15]\n",
            "[ 8  5  0  6 12 15 15 18  0 20  8  5  0  3 15 21  3  8  0  1 14  4  0 19\n",
            "  8  5  0 19 15 15]\n",
            "[ 5  0  6 12 15 15 18  0 20  8  5  0  3 15 21  3  8  0  1 14  4  0 19  8\n",
            "  5  0 19 15 15 13]\n",
            "[ 0  6 12 15 15 18  0 20  8  5  0  3 15 21  3  8  0  1 14  4  0 19  8  5\n",
            "  0 19 15 15 13  0]\n",
            "[ 6 12 15 15 18  0 20  8  5  0  3 15 21  3  8  0  1 14  4  0 19  8  5  0\n",
            " 19 15 15 13  0  8]\n",
            "[12 15 15 18  0 20  8  5  0  3 15 21  3  8  0  1 14  4  0 19  8  5  0 19\n",
            " 15 15 13  0  8  5]\n",
            "[15 15 18  0 20  8  5  0  3 15 21  3  8  0  1 14  4  0 19  8  5  0 19 15\n",
            " 15 13  0  8  5  0]\n",
            "[15 18  0 20  8  5  0  3 15 21  3  8  0  1 14  4  0 19  8  5  0 19 15 15\n",
            " 13  0  8  5  0  8]\n",
            "[18  0 20  8  5  0  3 15 21  3  8  0  1 14  4  0 19  8  5  0 19 15 15 13\n",
            "  0  8  5  0  8  1]\n",
            "[ 0 20  8  5  0  3 15 21  3  8  0  1 14  4  0 19  8  5  0 19 15 15 13  0\n",
            "  8  5  0  8  1  4]\n",
            "[20  8  5  0  3 15 21  3  8  0  1 14  4  0 19  8  5  0 19 15 15 13  0  8\n",
            "  5  0  8  1  4  0]\n",
            "[ 8  5  0  3 15 21  3  8  0  1 14  4  0 19  8  5  0 19 15 15 13  0  8  5\n",
            "  0  8  1  4  0  2]\n",
            "[ 5  0  3 15 21  3  8  0  1 14  4  0 19  8  5  0 19 15 15 13  0  8  5  0\n",
            "  8  1  4  0  2  5]\n",
            "[ 0  3 15 21  3  8  0  1 14  4  0 19  8  5  0 19 15 15 13  0  8  5  0  8\n",
            "  1  4  0  2  5  5]\n",
            "[ 3 15 21  3  8  0  1 14  4  0 19  8  5  0 19 15 15 13  0  8  5  0  8  1\n",
            "  4  0  2  5  5 14]\n",
            "[15 21  3  8  0  1 14  4  0 19  8  5  0 19 15 15 13  0  8  5  0  8  1  4\n",
            "  0  2  5  5 14  0]\n",
            "[21  3  8  0  1 14  4  0 19  8  5  0 19 15 15 13  0  8  5  0  8  1  4  0\n",
            "  2  5  5 14  0  1]\n",
            "[ 3  8  0  1 14  4  0 19  8  5  0 19 15 15 13  0  8  5  0  8  1  4  0  2\n",
            "  5  5 14  0  1 14]\n",
            "[ 8  0  1 14  4  0 19  8  5  0 19 15 15 13  0  8  5  0  8  1  4  0  2  5\n",
            "  5 14  0  1 14  4]\n",
            "[ 0  1 14  4  0 19  8  5  0 19 15 15 13  0  8  5  0  8  1  4  0  2  5  5\n",
            " 14  0  1 14  4  0]\n",
            "[ 1 14  4  0 19  8  5  0 19 15 15 13  0  8  5  0  8  1  4  0  2  5  5 14\n",
            "  0  1 14  4  0 19]\n",
            "[14  4  0 19  8  5  0 19 15 15 13  0  8  5  0  8  1  4  0  2  5  5 14  0\n",
            "  1 14  4  0 19  8]\n",
            "[ 4  0 19  8  5  0 19 15 15 13  0  8  5  0  8  1  4  0  2  5  5 14  0  1\n",
            " 14  4  0 19  8  5]\n",
            "[ 0 19  8  5  0 19 15 15 13  0  8  5  0  8  1  4  0  2  5  5 14  0  1 14\n",
            "  4  0 19  8  5  0]\n",
            "[19  8  5  0 19 15 15 13  0  8  5  0  8  1  4  0  2  5  5 14  0  1 14  4\n",
            "  0 19  8  5  0 19]\n",
            "[ 8  5  0 19 15 15 13  0  8  5  0  8  1  4  0  2  5  5 14  0  1 14  4  0\n",
            " 19  8  5  0 19  1]\n",
            "[ 5  0 19 15 15 13  0  8  5  0  8  1  4  0  2  5  5 14  0  1 14  4  0 19\n",
            "  8  5  0 19  1 13]\n",
            "[ 0 19 15 15 13  0  8  5  0  8  1  4  0  2  5  5 14  0  1 14  4  0 19  8\n",
            "  5  0 19  1 13  5]\n",
            "[19 15 15 13  0  8  5  0  8  1  4  0  2  5  5 14  0  1 14  4  0 19  8  5\n",
            "  0 19  1 13  5  0]\n",
            "[15 15 13  0  8  5  0  8  1  4  0  2  5  5 14  0  1 14  4  0 19  8  5  0\n",
            " 19  1 13  5  0 20]\n",
            "[15 13  0  8  5  0  8  1  4  0  2  5  5 14  0  1 14  4  0 19  8  5  0 19\n",
            "  1 13  5  0 20  9]\n",
            "[13  0  8  5  0  8  1  4  0  2  5  5 14  0  1 14  4  0 19  8  5  0 19  1\n",
            " 13  5  0 20  9 13]\n",
            "[ 0  8  5  0  8  1  4  0  2  5  5 14  0  1 14  4  0 19  8  5  0 19  1 13\n",
            "  5  0 20  9 13  5]\n",
            "[ 8  5  0  8  1  4  0  2  5  5 14  0  1 14  4  0 19  8  5  0 19  1 13  5\n",
            "  0 20  9 13  5  0]\n",
            "[ 5  0  8  1  4  0  2  5  5 14  0  1 14  4  0 19  8  5  0 19  1 13  5  0\n",
            " 20  9 13  5  0 20]\n",
            "[ 0  8  1  4  0  2  5  5 14  0  1 14  4  0 19  8  5  0 19  1 13  5  0 20\n",
            "  9 13  5  0 20  8]\n",
            "[ 8  1  4  0  2  5  5 14  0  1 14  4  0 19  8  5  0 19  1 13  5  0 20  9\n",
            " 13  5  0 20  8  5]\n",
            "[ 1  4  0  2  5  5 14  0  1 14  4  0 19  8  5  0 19  1 13  5  0 20  9 13\n",
            "  5  0 20  8  5  0]\n",
            "[ 4  0  2  5  5 14  0  1 14  4  0 19  8  5  0 19  1 13  5  0 20  9 13  5\n",
            "  0 20  8  5  0  3]\n",
            "[ 0  2  5  5 14  0  1 14  4  0 19  8  5  0 19  1 13  5  0 20  9 13  5  0\n",
            " 20  8  5  0  3 15]\n",
            "[ 2  5  5 14  0  1 14  4  0 19  8  5  0 19  1 13  5  0 20  9 13  5  0 20\n",
            "  8  5  0  3 15 21]\n",
            "[ 5  5 14  0  1 14  4  0 19  8  5  0 19  1 13  5  0 20  9 13  5  0 20  8\n",
            "  5  0  3 15 21  3]\n",
            "[ 5 14  0  1 14  4  0 19  8  5  0 19  1 13  5  0 20  9 13  5  0 20  8  5\n",
            "  0  3 15 21  3  8]\n",
            "[14  0  1 14  4  0 19  8  5  0 19  1 13  5  0 20  9 13  5  0 20  8  5  0\n",
            "  3 15 21  3  8  0]\n",
            "[ 0  1 14  4  0 19  8  5  0 19  1 13  5  0 20  9 13  5  0 20  8  5  0  3\n",
            " 15 21  3  8  0  1]\n",
            "[ 1 14  4  0 19  8  5  0 19  1 13  5  0 20  9 13  5  0 20  8  5  0  3 15\n",
            " 21  3  8  0  1 14]\n",
            "[14  4  0 19  8  5  0 19  1 13  5  0 20  9 13  5  0 20  8  5  0  3 15 21\n",
            "  3  8  0  1 14  4]\n",
            "[ 4  0 19  8  5  0 19  1 13  5  0 20  9 13  5  0 20  8  5  0  3 15 21  3\n",
            "  8  0  1 14  4  0]\n",
            "[ 0 19  8  5  0 19  1 13  5  0 20  9 13  5  0 20  8  5  0  3 15 21  3  8\n",
            "  0  1 14  4  0 19]\n",
            "[19  8  5  0 19  1 13  5  0 20  9 13  5  0 20  8  5  0  3 15 21  3  8  0\n",
            "  1 14  4  0 19  8]\n",
            "[ 8  5  0 19  1 13  5  0 20  9 13  5  0 20  8  5  0  3 15 21  3  8  0  1\n",
            " 14  4  0 19  8  5]\n",
            "[ 5  0 19  1 13  5  0 20  9 13  5  0 20  8  5  0  3 15 21  3  8  0  1 14\n",
            "  4  0 19  8  5  0]\n",
            "[ 0 19  1 13  5  0 20  9 13  5  0 20  8  5  0  3 15 21  3  8  0  1 14  4\n",
            "  0 19  8  5  0 19]\n",
            "[19  1 13  5  0 20  9 13  5  0 20  8  5  0  3 15 21  3  8  0  1 14  4  0\n",
            " 19  8  5  0 19 15]\n",
            "[ 1 13  5  0 20  9 13  5  0 20  8  5  0  3 15 21  3  8  0  1 14  4  0 19\n",
            "  8  5  0 19 15 15]\n",
            "[13  5  0 20  9 13  5  0 20  8  5  0  3 15 21  3  8  0  1 14  4  0 19  8\n",
            "  5  0 19 15 15 13]\n",
            "[ 5  0 20  9 13  5  0 20  8  5  0  3 15 21  3  8  0  1 14  4  0 19  8  5\n",
            "  0 19 15 15 13  0]\n",
            "[ 0 20  9 13  5  0 20  8  5  0  3 15 21  3  8  0  1 14  4  0 19  8  5  0\n",
            " 19 15 15 13  0  8]\n",
            "[20  9 13  5  0 20  8  5  0  3 15 21  3  8  0  1 14  4  0 19  8  5  0 19\n",
            " 15 15 13  0  8  5]\n",
            "[ 9 13  5  0 20  8  5  0  3 15 21  3  8  0  1 14  4  0 19  8  5  0 19 15\n",
            " 15 13  0  8  5  0]\n",
            "[13  5  0 20  8  5  0  3 15 21  3  8  0  1 14  4  0 19  8  5  0 19 15 15\n",
            " 13  0  8  5  0  8]\n",
            "[ 5  0 20  8  5  0  3 15 21  3  8  0  1 14  4  0 19  8  5  0 19 15 15 13\n",
            "  0  8  5  0  8  1]\n",
            "[ 0 20  8  5  0  3 15 21  3  8  0  1 14  4  0 19  8  5  0 19 15 15 13  0\n",
            "  8  5  0  8  1  4]\n",
            "[20  8  5  0  3 15 21  3  8  0  1 14  4  0 19  8  5  0 19 15 15 13  0  8\n",
            "  5  0  8  1  4  0]\n",
            "[ 8  5  0  3 15 21  3  8  0  1 14  4  0 19  8  5  0 19 15 15 13  0  8  5\n",
            "  0  8  1  4  0  2]\n",
            "[ 5  0  3 15 21  3  8  0  1 14  4  0 19  8  5  0 19 15 15 13  0  8  5  0\n",
            "  8  1  4  0  2  5]\n",
            "[ 0  3 15 21  3  8  0  1 14  4  0 19  8  5  0 19 15 15 13  0  8  5  0  8\n",
            "  1  4  0  2  5  5]\n",
            "[ 3 15 21  3  8  0  1 14  4  0 19  8  5  0 19 15 15 13  0  8  5  0  8  1\n",
            "  4  0  2  5  5 14]\n",
            "[15 21  3  8  0  1 14  4  0 19  8  5  0 19 15 15 13  0  8  5  0  8  1  4\n",
            "  0  2  5  5 14  0]\n",
            "[21  3  8  0  1 14  4  0 19  8  5  0 19 15 15 13  0  8  5  0  8  1  4  0\n",
            "  2  5  5 14  0  1]\n",
            "[ 3  8  0  1 14  4  0 19  8  5  0 19 15 15 13  0  8  5  0  8  1  4  0  2\n",
            "  5  5 14  0  1 14]\n",
            "[ 8  0  1 14  4  0 19  8  5  0 19 15 15 13  0  8  5  0  8  1  4  0  2  5\n",
            "  5 14  0  1 14  4]\n",
            "he floor the couch and she soom he had been and she same time the couch and she soom he had been and\n"
          ],
          "name": "stdout"
        }
      ]
    }
  ]
}