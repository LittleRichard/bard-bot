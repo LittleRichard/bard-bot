{
  "nbformat": 4,
  "nbformat_minor": 0,
  "metadata": {
    "colab": {
      "name": "character_prediction.ipynb",
      "provenance": [],
      "collapsed_sections": [],
      "include_colab_link": true
    },
    "kernelspec": {
      "name": "python3",
      "display_name": "Python 3"
    }
  },
  "cells": [
    {
      "cell_type": "markdown",
      "metadata": {
        "id": "view-in-github",
        "colab_type": "text"
      },
      "source": [
        "<a href=\"https://colab.research.google.com/github/michalovsky/character_prediction/blob/master/character_prediction.ipynb\" target=\"_parent\"><img src=\"https://colab.research.google.com/assets/colab-badge.svg\" alt=\"Open In Colab\"/></a>"
      ]
    },
    {
      "cell_type": "code",
      "metadata": {
        "id": "3RoKNH7o0bTR",
        "colab_type": "code",
        "outputId": "379f30c2-fdc3-4268-8790-90c4a4a8bc7e",
        "colab": {
          "base_uri": "https://localhost:8080/",
          "height": 87
        }
      },
      "source": [
        "from __future__ import absolute_import, division, print_function, unicode_literals\n",
        "\n",
        "import tensorflow as tf\n",
        "tf.enable_eager_execution()\n",
        "from tensorflow.keras.callbacks import EarlyStopping as EarlyStopping\n",
        "from tensorflow.python.client import device_lib\n",
        "from tensorflow.keras.layers import Activation\n",
        "import numpy as np\n",
        "import os\n",
        "import re\n",
        "import time\n",
        "import string\n",
        "\n",
        "path_to_file = tf.keras.utils.get_file('lotr.txt', 'https://raw.githubusercontent.com/michalovsky/character_prediction/master/lotr.txt')\n",
        "file = open(path_to_file,'rt')\n",
        "text = file.read()\n",
        "file.close()\n",
        "\n",
        "chars_to_remove = ['…', '‚', '’', '‘', 'ó', '»', 'µ', '®', '«', '¥', '¤', '¢', '}', '{', '—', '_', '=', ';', '~', '`',\n",
        "                   '#', '!', '\\\"', '#', '&', \"\\'\", '(', ')', ',', '-', '.', '/', ':', '*', '[', ']', '\\\\', '|', '?', '–']\n",
        "\n",
        "for char_to_remove in chars_to_remove:\n",
        "  text = text.replace(char_to_remove, \"\")\n",
        "\n",
        "text = ' '.join(text.split())\n",
        "text = text.lower()\n",
        "\n",
        "# split text into words\n",
        "words = text.split(\" \")\n",
        "print(words[:100])\n",
        "print ('Length of text: {} characters'.format(len(text)))\n",
        "vocab = sorted(set(text))\n",
        "print ('{} unique characters'.format(len(vocab)))\n",
        "\n",
        "# Creating a mapping from unique characters to indices\n",
        "char2idx = {u:i for i, u in enumerate(vocab)}\n",
        "idx2char = np.array(vocab)\n",
        "    \n",
        "# print('{')\n",
        "# for char in char2idx:\n",
        "#     print('  {:4s}: {:3d},'.format(repr(char), char2idx[char]))\n",
        "# print('}')\n",
        "  \n",
        "  \n",
        "encoded = np.array([char2idx[ch] for ch in text])  \n",
        "# text[:10000]\n",
        "# encoded[:100]\n",
        "  \n",
        "  \n",
        "# def one_with_zeros_encode(arr, n_labels):\n",
        "#   one_zeros = np.zeros((np.multiply(*arr.shape)))\n",
        "#   one_zeros[np.arrange(one_zeros.shape[0]), arr.flatten()] = 1.\n",
        "#   one_zeros = one_zeros.reshape((*arr.shape, n_labels))\n",
        "\n",
        " \n",
        "\n",
        "\n",
        "\n",
        "\n",
        "\n"
      ],
      "execution_count": 4,
      "outputs": [
        {
          "output_type": "stream",
          "text": [
            "['<doctype', 'html>', '<html', 'langen>', '<head>', '<meta', 'charsetutf8>', '<link', 'reldnsprefetch', 'hrefhttpsgithubgithubassetscom>', '<link', 'reldnsprefetch', 'hrefhttpsavatars0githubusercontentcom>', '<link', 'reldnsprefetch', 'hrefhttpsavatars1githubusercontentcom>', '<link', 'reldnsprefetch', 'hrefhttpsavatars2githubusercontentcom>', '<link', 'reldnsprefetch', 'hrefhttpsavatars3githubusercontentcom>', '<link', 'reldnsprefetch', 'hrefhttpsgithubclouds3amazonawscom>', '<link', 'reldnsprefetch', 'hrefhttpsuserimagesgithubusercontentcom>', '<link', 'crossoriginanonymous', 'mediaall', 'integritysha512td1gdstko77iu1a+wnb+2yorjv7l1hzvo00h+ej5wygxitviblrko1dq1jea9w5bk3poi18st9opel71zk8a', 'relstylesheet', 'hrefhttpsgithubgithubassetscomassetsframeworks94d2de65a56b07e193e50e91873678b6css', '>', '<link', 'crossoriginanonymous', 'mediaall', 'integritysha5121n4+qlbmrp6tyqxbm0kgsaq2cenam9g3by5xusd38o+iudydho7ltbrnpr2vn4g5sxipgwiiwqo1huyldv136q', 'relstylesheet', 'hrefhttpsgithubgithubassetscomassetssite09367dd1ae1784b858e71c8471ca0949css', '>', '<link', 'crossoriginanonymous', 'mediaall', 'integritysha512sfszkz5jv9+tahibuwhvymgy78cb49lbu1le40xqzne6sbv07dsocez7i1n45od2xxg8muci2ub+pr6aegma', 'relstylesheet', 'hrefhttpsgithubgithubassetscomassetsgithub3c4881237e97cb689271ee2f91e36269css', '>', '<meta', 'nameviewport', 'contentwidthdevicewidth>', '<title>characterpredictionlotrtxt', 'at', 'master', '·', 'michalovskycharacterprediction', '·', 'github<title>', '<meta', 'namedescription', 'contentengineering', 'thesis', 'contribute', 'to', 'michalovskycharacterprediction', 'development', 'by', 'creating', 'an', 'account', 'on', 'github>', '<link', 'relsearch', 'typeapplicationopensearchdescription+xml', 'hrefopensearchxml', 'titlegithub>', '<link', 'relfluidicon', 'hrefhttpsgithubcomfluidiconpng', 'titlegithub>', '<meta', 'propertyfbappid', 'content1401488693436528>', '<meta', 'nametwitterimagesrc', 'contenthttpsavatars3githubusercontentcomu44656126s400ampv4', '><meta', 'nametwittersite', 'content@github', '><meta', 'nametwittercard', 'contentsummary', '><meta', 'nametwittertitle', 'contentmichalovskycharacterprediction', '><meta', 'nametwitterdescription', 'contentengineering']\n",
            "Length of text: 51084 characters\n",
            "44 unique characters\n"
          ],
          "name": "stdout"
        }
      ]
    },
    {
      "cell_type": "code",
      "metadata": {
        "id": "L_kwSJ_GHQhr",
        "colab_type": "code",
        "colab": {
          "base_uri": "https://localhost:8080/",
          "height": 118
        },
        "outputId": "c2be333e-d36c-4b12-ad74-39101f724a5f"
      },
      "source": [
        "!git clone https://github.com/michalovsky/character_prediction.git"
      ],
      "execution_count": 5,
      "outputs": [
        {
          "output_type": "stream",
          "text": [
            "Cloning into 'character_prediction'...\n",
            "remote: Enumerating objects: 13, done.\u001b[K\n",
            "remote: Counting objects:   7% (1/13)\u001b[K\rremote: Counting objects:  15% (2/13)\u001b[K\rremote: Counting objects:  23% (3/13)\u001b[K\rremote: Counting objects:  30% (4/13)\u001b[K\rremote: Counting objects:  38% (5/13)\u001b[K\rremote: Counting objects:  46% (6/13)\u001b[K\rremote: Counting objects:  53% (7/13)\u001b[K\rremote: Counting objects:  61% (8/13)\u001b[K\rremote: Counting objects:  69% (9/13)\u001b[K\rremote: Counting objects:  76% (10/13)\u001b[K\rremote: Counting objects:  84% (11/13)\u001b[K\rremote: Counting objects:  92% (12/13)\u001b[K\rremote: Counting objects: 100% (13/13)\u001b[K\rremote: Counting objects: 100% (13/13), done.\u001b[K\n",
            "remote: Compressing objects:   8% (1/12)\u001b[K\rremote: Compressing objects:  16% (2/12)\u001b[K\rremote: Compressing objects:  25% (3/12)\u001b[K\rremote: Compressing objects:  33% (4/12)\u001b[K\rremote: Compressing objects:  41% (5/12)\u001b[K\rremote: Compressing objects:  50% (6/12)\u001b[K\rremote: Compressing objects:  58% (7/12)\u001b[K\rremote: Compressing objects:  66% (8/12)\u001b[K\rremote: Compressing objects:  75% (9/12)\u001b[K\rremote: Compressing objects:  83% (10/12)\u001b[K\rremote: Compressing objects:  91% (11/12)\u001b[K\rremote: Compressing objects: 100% (12/12)\u001b[K\rremote: Compressing objects: 100% (12/12), done.\u001b[K\n",
            "Unpacking objects:   7% (1/13)   \rUnpacking objects:  15% (2/13)   \rUnpacking objects:  23% (3/13)   \rUnpacking objects:  30% (4/13)   \rUnpacking objects:  38% (5/13)   \rUnpacking objects:  46% (6/13)   \rUnpacking objects:  53% (7/13)   \rUnpacking objects:  61% (8/13)   \rUnpacking objects:  69% (9/13)   \rremote: Total 13 (delta 4), reused 0 (delta 0), pack-reused 0\u001b[K\n",
            "Unpacking objects:  76% (10/13)   \rUnpacking objects:  84% (11/13)   \rUnpacking objects:  92% (12/13)   \rUnpacking objects: 100% (13/13)   \rUnpacking objects: 100% (13/13), done.\n"
          ],
          "name": "stdout"
        }
      ]
    }
  ]
}