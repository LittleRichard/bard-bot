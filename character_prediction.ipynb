{
  "nbformat": 4,
  "nbformat_minor": 0,
  "metadata": {
    "colab": {
      "name": "character_prediction.ipynb",
      "provenance": [],
      "collapsed_sections": [],
      "include_colab_link": true
    },
    "kernelspec": {
      "name": "python3",
      "display_name": "Python 3"
    },
    "accelerator": "GPU"
  },
  "cells": [
    {
      "cell_type": "markdown",
      "metadata": {
        "id": "view-in-github",
        "colab_type": "text"
      },
      "source": [
        "<a href=\"https://colab.research.google.com/github/michalovsky/character_prediction/blob/master/character_prediction.ipynb\" target=\"_parent\"><img src=\"https://colab.research.google.com/assets/colab-badge.svg\" alt=\"Open In Colab\"/></a>"
      ]
    },
    {
      "cell_type": "code",
      "metadata": {
        "id": "Lmgy6GCVFf_j",
        "colab_type": "code",
        "outputId": "4c60a0ec-bd03-4f59-a265-8a4d3d67c05b",
        "colab": {
          "base_uri": "https://localhost:8080/",
          "height": 84
        }
      },
      "source": [
        "%tensorflow_version 2.x\n",
        "import tensorflow as tf\n",
        "print(\"Tensorflow version:\", tf.__version__)\n",
        "from tensorflow.keras.callbacks import EarlyStopping as EarlyStopping\n",
        "from tensorflow.keras.models import Sequential\n",
        "from tensorflow.keras.layers import Dense, Dropout, LSTM, BatchNormalization\n",
        "from tensorflow.keras.callbacks import ModelCheckpoint, LambdaCallback\n",
        "from tensorflow.keras.constraints import max_norm\n",
        "from keras.utils import np_utils\n",
        "import numpy as np\n",
        "import random\n",
        "import os\n",
        "import re\n",
        "import string\n",
        "import glob\n",
        "import sys\n",
        "import io\n",
        "# GPU informations\n",
        "print(\"GPU:\", tf.test.gpu_device_name())"
      ],
      "execution_count": 3,
      "outputs": [
        {
          "output_type": "stream",
          "text": [
            "TensorFlow 2.x selected.\n",
            "Tensorflow version: 2.0.0\n"
          ],
          "name": "stdout"
        },
        {
          "output_type": "stream",
          "text": [
            "Using TensorFlow backend.\n"
          ],
          "name": "stderr"
        },
        {
          "output_type": "stream",
          "text": [
            "GPU: /device:GPU:0\n"
          ],
          "name": "stdout"
        }
      ]
    },
    {
      "cell_type": "code",
      "metadata": {
        "id": "U_UGziQ1LuOv",
        "colab_type": "code",
        "colab": {}
      },
      "source": [
        "!git clone https://github.com/michalovsky/books_data.git"
      ],
      "execution_count": 0,
      "outputs": []
    },
    {
      "cell_type": "code",
      "metadata": {
        "id": "8yOZbDntMiSH",
        "colab_type": "code",
        "outputId": "ff002432-b872-4cf3-bad6-7ad055161db9",
        "colab": {
          "base_uri": "https://localhost:8080/",
          "height": 34
        }
      },
      "source": [
        "# Read all file paths from directory\n",
        "directory1 = \"books_data/kafka/\"\n",
        "directory2 = \"books_data/shelley/\"\n",
        "directory3 = \"books_data/defoe/\"\n",
        "directory4 = \"books_data/nietzsche/\"\n",
        "directory5 = \"books_data/dickens/\"\n",
        "directory6 = \"books_data/joyce/\"\n",
        "directory7 = \"books_data/sienkiewicz/\"\n",
        "\n",
        "directory = directory4\n",
        "file_paths = glob.glob(directory +\"*.txt\")    \n",
        "print(\"Found\", len(file_paths), \"text files in directory:\", directory)"
      ],
      "execution_count": 4,
      "outputs": [
        {
          "output_type": "stream",
          "text": [
            "Found 1 text files in directory: books_data/nietzsche/\n"
          ],
          "name": "stdout"
        }
      ]
    },
    {
      "cell_type": "code",
      "metadata": {
        "id": "3NmsP_xHPnRe",
        "colab_type": "code",
        "outputId": "efea7501-1ac6-4b24-fa3b-4ed1c5f81b7f",
        "colab": {
          "base_uri": "https://localhost:8080/",
          "height": 34
        }
      },
      "source": [
        "# Extract text from all text files\n",
        "text = \"\"\n",
        "\n",
        "for file_path in file_paths:\n",
        "    with open(file_path, 'r') as file:\n",
        "        file_content = file.read()\n",
        "        #remove file beginning and ending from gutenberg books\n",
        "        # file_content = file_content.replace(\"***START\", \"*** START\") #temp\n",
        "        # file_content = file_content.replace(\"***END\", \"*** END\") #temp\n",
        "        # file_content = file_content[file_content.find(\"*** START\"):file_content.rfind(\"*** END\")]\n",
        "        # #remove file ending from wolnelektury books\n",
        "        # file_content = file_content[:file_content.rfind(\"-----\")]\n",
        "        text+=file_content\n",
        "print ('Length of text: {} characters'.format(len(text)))"
      ],
      "execution_count": 5,
      "outputs": [
        {
          "output_type": "stream",
          "text": [
            "Length of text: 600893 characters\n"
          ],
          "name": "stdout"
        }
      ]
    },
    {
      "cell_type": "code",
      "metadata": {
        "colab_type": "code",
        "outputId": "08d185ce-3a5e-4a1f-a92a-a7f20ec88037",
        "id": "B8MPgnOfsAjx",
        "colab": {
          "base_uri": "https://localhost:8080/",
          "height": 34
        }
      },
      "source": [
        "# Preprocess data\n",
        "\n",
        "punctuation_translator = str.maketrans('–—”„…«»‘’“°ſ†•✠', '               ', string.punctuation)\n",
        "digits_translator = str.maketrans('', '', string.digits)\n",
        "special_characters_translator = str.maketrans('ąćęłńóśźżäöüæèêéôâáà£çëîñòùúûāœ', 'acelnoszzaoueeeeoaaaeceinouuuae', '')\n",
        "\n",
        "# remove redundant characters and translate special characters\n",
        "text = text.lower().translate(punctuation_translator).translate(digits_translator).translate(special_characters_translator)\n",
        "\n",
        "# remove \"rozdzial <number>\" and \"chapter <number>\" strings \n",
        "text = re.sub(r\"\\nrozdzial\\s(.*)\\n\", \"\", text)\n",
        "text = re.sub(r\"\\nchapter\\s(.*)\\n\", \"\", text)\n",
        "\n",
        "#remove extra spaces and new lines\n",
        "text = ' '.join(text.split())\n",
        "\n",
        "print ('Length of text after preprocessing: {} characters'.format(len(text)))"
      ],
      "execution_count": 6,
      "outputs": [
        {
          "output_type": "stream",
          "text": [
            "Length of text after preprocessing: 576560 characters\n"
          ],
          "name": "stdout"
        }
      ]
    },
    {
      "cell_type": "code",
      "metadata": {
        "id": "ppJ2hrDqGUtP",
        "colab_type": "code",
        "colab": {
          "base_uri": "https://localhost:8080/",
          "height": 50
        },
        "outputId": "3cb8fb3e-9a13-42fb-e825-e96ef70ec32b"
      },
      "source": [
        "# Creating a mapping from unique characters to indices\n",
        "vocab = sorted(list(set(text)))\n",
        "vocab_size = len(vocab)\n",
        "char2idx = dict((c, i) for i, c in enumerate(vocab))\n",
        "idx2char = dict((i, c) for i, c in enumerate(vocab))\n",
        "print ('{} unique characters:'.format(len(vocab)))\n",
        "print(vocab)"
      ],
      "execution_count": 7,
      "outputs": [
        {
          "output_type": "stream",
          "text": [
            "27 unique characters:\n",
            "[' ', 'a', 'b', 'c', 'd', 'e', 'f', 'g', 'h', 'i', 'j', 'k', 'l', 'm', 'n', 'o', 'p', 'q', 'r', 's', 't', 'u', 'v', 'w', 'x', 'y', 'z']\n"
          ],
          "name": "stdout"
        }
      ]
    },
    {
      "cell_type": "code",
      "metadata": {
        "id": "D4T1FgjiGg8d",
        "colab_type": "code",
        "outputId": "92b39065-eec6-4e30-def2-0b773d645d92",
        "colab": {
          "base_uri": "https://localhost:8080/",
          "height": 34
        }
      },
      "source": [
        "from sklearn.model_selection import train_test_split\n",
        "from sklearn.utils import shuffle\n",
        "\n",
        "sequence_length = 40\n",
        "step = 3\n",
        "sentences = []\n",
        "labels = []\n",
        "encoded = np.array([char2idx[ch] for ch in text]) \n",
        "\n",
        "for i in range(0, len(encoded) - sequence_length, step):\n",
        "    sentences.append(encoded[i:i + sequence_length])\n",
        "    labels.append(encoded[i + sequence_length])\n",
        "\n",
        "data_size = len(sentences)\n",
        "print(\"Data size:\", data_size)\n",
        "\n",
        "X = np.reshape(sentences, (data_size, sequence_length, 1))\n",
        "X = np_utils.to_categorical(X)\n",
        "y = np_utils.to_categorical(labels)\n",
        "\n",
        "# Split into training and testing set\n",
        "X_train, X_test, y_train, y_test = train_test_split(X,y, test_size=0.2, shuffle=False)\n",
        "# Shuffle training set\n",
        "X_train, y_train = shuffle(X_train, y_train, random_state=0)"
      ],
      "execution_count": 46,
      "outputs": [
        {
          "output_type": "stream",
          "text": [
            "Data size: 192174\n"
          ],
          "name": "stdout"
        }
      ]
    },
    {
      "cell_type": "code",
      "metadata": {
        "colab_type": "code",
        "outputId": "48e682d1-b5ae-4a54-d2e3-47a31d35873f",
        "id": "Ab_oxOg99PBt",
        "colab": {
          "base_uri": "https://localhost:8080/",
          "height": 252
        }
      },
      "source": [
        "model = Sequential()\n",
        "model.add(LSTM(128, input_shape=(sequence_length, vocab_size)))\n",
        "model.add(BatchNormalization())\n",
        "model.add(Dense(vocab_size, activation='softmax'))\n",
        "\n",
        "model.compile(loss='categorical_crossentropy', optimizer='adam', metrics=['accuracy'])\n",
        "\n",
        "# model = Sequential()\n",
        "# model.add(LSTM(256, input_shape=(X.shape[1], X.shape[2]), return_sequences=True, recurrent_initializer='glorot_uniform', kernel_constraint=max_norm(3)))\n",
        "# # recurrent_constraint=max_norm(3), bias_constraint=max_norm(3)))\n",
        "# model.add(BatchNormalization())\n",
        "# model.add(LSTM(256, recurrent_initializer='glorot_uniform', kernel_constraint=max_norm(3)))\n",
        "# model.add(BatchNormalization())\n",
        "# # model.add(LSTM(256, recurrent_initializer='glorot_uniform', kernel_constraint=max_norm(3)))\n",
        "# # model.add(BatchNormalization())\n",
        "# model.add(Dense(y.shape[1], activation='softmax'))\n",
        "\n",
        "model.summary()"
      ],
      "execution_count": 47,
      "outputs": [
        {
          "output_type": "stream",
          "text": [
            "Model: \"sequential_10\"\n",
            "_________________________________________________________________\n",
            "Layer (type)                 Output Shape              Param #   \n",
            "=================================================================\n",
            "lstm_10 (LSTM)               (None, 128)               79872     \n",
            "_________________________________________________________________\n",
            "batch_normalization_6 (Batch (None, 128)               512       \n",
            "_________________________________________________________________\n",
            "dense_10 (Dense)             (None, 27)                3483      \n",
            "=================================================================\n",
            "Total params: 83,867\n",
            "Trainable params: 83,611\n",
            "Non-trainable params: 256\n",
            "_________________________________________________________________\n"
          ],
          "name": "stdout"
        }
      ]
    },
    {
      "cell_type": "code",
      "metadata": {
        "id": "-DN9MDmbWsRb",
        "colab_type": "code",
        "colab": {}
      },
      "source": [
        "# Setting callbacks\n",
        "\n",
        "def sample(preds, temperature=1.0):\n",
        "    # helper function to sample an index from a probability array\n",
        "    preds = np.asarray(preds).astype('float64')\n",
        "    preds = np.log(preds) / temperature\n",
        "    exp_preds = np.exp(preds)\n",
        "    preds = exp_preds / np.sum(exp_preds)\n",
        "    probas = np.random.multinomial(1, preds, 1)\n",
        "    return np.argmax(probas)\n",
        "\n",
        "def generate_text(amount=100):\n",
        "    start_index = random.randint(0, len(text) - sequence_length - 1)\n",
        "    for diversity in [0.2, 0.5, 1.0, 1.2]:\n",
        "        print('----- diversity:', diversity)\n",
        "\n",
        "        generated = ''\n",
        "        sentence = text[start_index: start_index + sequence_length]\n",
        "        generated += sentence\n",
        "        print('----- Generating with seed: \"' + sentence + '\"')\n",
        "        sys.stdout.write(generated)\n",
        "\n",
        "        for i in range(amount):\n",
        "            x_pred = np.zeros((1, sequence_length, vocab_size))\n",
        "            for t, char in enumerate(sentence):\n",
        "                x_pred[0, t, char2idx[char]] = 1.\n",
        "\n",
        "            preds = model.predict(x_pred, verbose=0)[0]\n",
        "            next_index = sample(preds, diversity)\n",
        "            next_char = idx2char[next_index]\n",
        "\n",
        "            sentence = sentence[1:] + next_char\n",
        "\n",
        "            sys.stdout.write(next_char)\n",
        "            sys.stdout.flush()\n",
        "        print()\n",
        "\n",
        "def on_epoch_end(epoch, _):\n",
        "    # Function invoked at end of each epoch. Prints generated text.\n",
        "    print()\n",
        "    print('----- Generating text after Epoch: %d' % epoch)\n",
        "    generate_text()\n",
        "\n",
        "print_callback = LambdaCallback(on_epoch_end=on_epoch_end)\n",
        "\n",
        "es = EarlyStopping(monitor='val_loss', mode='min', verbose=2, patience=20)\n",
        "\n",
        "# checkpoint_dir = './training_checkpoints'\n",
        "# checkpoint_prefix = os.path.join(checkpoint_dir, \"ckpt_{epoch}\")\n",
        "# checkpoint = ModelCheckpoint(filepath=checkpoint_prefix, monitor='loss', save_best_only=True, mode='min')\n",
        "\n",
        "callbacks = [ es]"
      ],
      "execution_count": 0,
      "outputs": []
    },
    {
      "cell_type": "code",
      "metadata": {
        "id": "ckKUs9m20mXz",
        "colab_type": "code",
        "outputId": "4bf08285-217a-4c50-a01f-7f00b8b40cff",
        "colab": {
          "base_uri": "https://localhost:8080/",
          "height": 1000
        }
      },
      "source": [
        "batch_size = 16 \n",
        "epochs = 60\n",
        "#0.6 beaten for seq_len=60, data=shelley, 3x256, dropouts 0.2, batch_size=64, epochs=40, \n",
        "history = model.fit(X_train, y_train, validation_data=(X_test, y_test), epochs=epochs, batch_size=batch_size, verbose=2, callbacks=callbacks)"
      ],
      "execution_count": 48,
      "outputs": [
        {
          "output_type": "stream",
          "text": [
            "Train on 153739 samples, validate on 38435 samples\n",
            "Epoch 1/60\n",
            "153739/153739 - 66s - loss: 2.1868 - accuracy: 0.3440 - val_loss: 2.0180 - val_accuracy: 0.3865\n",
            "Epoch 2/60\n",
            "153739/153739 - 64s - loss: 1.9492 - accuracy: 0.4094 - val_loss: 1.8102 - val_accuracy: 0.4416\n",
            "Epoch 3/60\n",
            "153739/153739 - 63s - loss: 1.7832 - accuracy: 0.4583 - val_loss: 1.6993 - val_accuracy: 0.4836\n",
            "Epoch 4/60\n",
            "153739/153739 - 63s - loss: 1.6762 - accuracy: 0.4906 - val_loss: 1.6213 - val_accuracy: 0.5032\n",
            "Epoch 5/60\n",
            "153739/153739 - 64s - loss: 1.6001 - accuracy: 0.5138 - val_loss: 1.5720 - val_accuracy: 0.5230\n",
            "Epoch 6/60\n",
            "153739/153739 - 64s - loss: 1.5445 - accuracy: 0.5306 - val_loss: 1.5455 - val_accuracy: 0.5328\n",
            "Epoch 7/60\n",
            "153739/153739 - 65s - loss: 1.5015 - accuracy: 0.5437 - val_loss: 1.5169 - val_accuracy: 0.5421\n",
            "Epoch 8/60\n",
            "153739/153739 - 65s - loss: 1.4663 - accuracy: 0.5535 - val_loss: 1.5004 - val_accuracy: 0.5480\n",
            "Epoch 9/60\n",
            "153739/153739 - 65s - loss: 1.4363 - accuracy: 0.5605 - val_loss: 1.4908 - val_accuracy: 0.5480\n",
            "Epoch 10/60\n",
            "153739/153739 - 65s - loss: 1.4104 - accuracy: 0.5692 - val_loss: 1.4796 - val_accuracy: 0.5532\n",
            "Epoch 11/60\n",
            "153739/153739 - 64s - loss: 1.3880 - accuracy: 0.5752 - val_loss: 1.4675 - val_accuracy: 0.5595\n",
            "Epoch 12/60\n",
            "153739/153739 - 63s - loss: 1.3697 - accuracy: 0.5805 - val_loss: 1.4630 - val_accuracy: 0.5607\n",
            "Epoch 13/60\n",
            "153739/153739 - 63s - loss: 1.3533 - accuracy: 0.5840 - val_loss: 1.4653 - val_accuracy: 0.5608\n",
            "Epoch 14/60\n",
            "153739/153739 - 62s - loss: 1.3393 - accuracy: 0.5885 - val_loss: 1.4669 - val_accuracy: 0.5595\n",
            "Epoch 15/60\n",
            "153739/153739 - 63s - loss: 1.3226 - accuracy: 0.5924 - val_loss: 1.4653 - val_accuracy: 0.5601\n",
            "Epoch 16/60\n",
            "153739/153739 - 62s - loss: 1.3105 - accuracy: 0.5959 - val_loss: 1.4682 - val_accuracy: 0.5614\n",
            "Epoch 17/60\n",
            "153739/153739 - 62s - loss: 1.2958 - accuracy: 0.6012 - val_loss: 1.4714 - val_accuracy: 0.5636\n",
            "Epoch 18/60\n",
            "153739/153739 - 63s - loss: 1.2868 - accuracy: 0.6035 - val_loss: 1.4720 - val_accuracy: 0.5639\n",
            "Epoch 19/60\n",
            "153739/153739 - 62s - loss: 1.2742 - accuracy: 0.6066 - val_loss: 1.4738 - val_accuracy: 0.5674\n",
            "Epoch 20/60\n",
            "153739/153739 - 62s - loss: 1.2661 - accuracy: 0.6094 - val_loss: 1.4787 - val_accuracy: 0.5651\n",
            "Epoch 21/60\n",
            "153739/153739 - 61s - loss: 1.2571 - accuracy: 0.6136 - val_loss: 1.4852 - val_accuracy: 0.5608\n",
            "Epoch 22/60\n",
            "153739/153739 - 62s - loss: 1.2471 - accuracy: 0.6132 - val_loss: 1.4868 - val_accuracy: 0.5603\n",
            "Epoch 23/60\n",
            "153739/153739 - 61s - loss: 1.2422 - accuracy: 0.6165 - val_loss: 1.5035 - val_accuracy: 0.5606\n",
            "Epoch 24/60\n",
            "153739/153739 - 62s - loss: 1.2286 - accuracy: 0.6200 - val_loss: 1.4982 - val_accuracy: 0.5599\n",
            "Epoch 25/60\n",
            "153739/153739 - 62s - loss: 1.2256 - accuracy: 0.6204 - val_loss: 1.5088 - val_accuracy: 0.5606\n",
            "Epoch 26/60\n",
            "153739/153739 - 62s - loss: 1.2181 - accuracy: 0.6221 - val_loss: 1.4993 - val_accuracy: 0.5636\n",
            "Epoch 27/60\n",
            "153739/153739 - 61s - loss: 1.2112 - accuracy: 0.6234 - val_loss: 1.4977 - val_accuracy: 0.5628\n",
            "Epoch 28/60\n",
            "153739/153739 - 62s - loss: 1.2057 - accuracy: 0.6264 - val_loss: 1.5073 - val_accuracy: 0.5582\n",
            "Epoch 29/60\n",
            "153739/153739 - 61s - loss: 1.1978 - accuracy: 0.6283 - val_loss: 1.5241 - val_accuracy: 0.5616\n",
            "Epoch 30/60\n",
            "153739/153739 - 62s - loss: 1.1937 - accuracy: 0.6290 - val_loss: 1.5225 - val_accuracy: 0.5572\n",
            "Epoch 31/60\n",
            "153739/153739 - 62s - loss: 1.1868 - accuracy: 0.6316 - val_loss: 1.5264 - val_accuracy: 0.5603\n",
            "Epoch 32/60\n",
            "153739/153739 - 62s - loss: 1.1824 - accuracy: 0.6322 - val_loss: 1.5274 - val_accuracy: 0.5604\n",
            "Epoch 00032: early stopping\n"
          ],
          "name": "stdout"
        }
      ]
    },
    {
      "cell_type": "code",
      "metadata": {
        "id": "rktOFz_d0zAd",
        "colab_type": "code",
        "colab": {}
      },
      "source": [
        "tf.train.latest_checkpoint(checkpoint_dir) #second param direct file: \"ckpt_50\""
      ],
      "execution_count": 0,
      "outputs": []
    },
    {
      "cell_type": "code",
      "metadata": {
        "id": "IGzq8hGkpgj9",
        "colab_type": "code",
        "outputId": "19c9400a-bbf2-4fd4-bc4d-90362f6873a6",
        "colab": {
          "base_uri": "https://localhost:8080/",
          "height": 441
        }
      },
      "source": [
        "import matplotlib.pyplot as plt\n",
        "\n",
        "# Make characteristics\n",
        "training_loss = history.history['loss']\n",
        "validation_loss = history.history['val_loss']\n",
        "training_acc = history.history['accuracy']\n",
        "validation_acc = history.history['val_accuracy']\n",
        "\n",
        "epoch_count = range(1, len(training_loss) + 1)\n",
        "\n",
        "f = plt.figure(figsize=(14,6))\n",
        "\n",
        "a0 = f.add_subplot(121)\n",
        "a0.plot(epoch_count, training_loss, 'r--', label=\"Training loss\")\n",
        "a0.plot(epoch_count, validation_loss, 'b-', label=\"Validation loss\")\n",
        "a0.legend()\n",
        "a0.set_title(\"Loss function\")\n",
        "a0.set_xlabel(\"Epoch\")\n",
        "plt.xlim(0, epochs)\n",
        "a0.set_ylabel(\"Loss\")\n",
        "plt.ylim(0, np.ceil(max(training_loss)))\n",
        "\n",
        "a1 = f.add_subplot(122)\n",
        "a1.plot(epoch_count, training_acc, 'r--', label=\"Training acc\")\n",
        "a1.plot(epoch_count, validation_acc, 'b-', label=\"Validation acc\")\n",
        "a1.set_title(\"Accuracy function\")\n",
        "a1.set_xlabel(\"Epoch\")\n",
        "plt.xlim(0, epochs)\n",
        "a1.set_ylabel(\"Acc\")\n",
        "plt.ylim(0, 1)\n",
        "# plt.savefig(save_directory+\"/characteristics.png\")  \n",
        "\n",
        "plt.tight_layout()\n",
        "plt.show()"
      ],
      "execution_count": 49,
      "outputs": [
        {
          "output_type": "display_data",
          "data": {
            "image/png": "[encoded data removed]",
            "text/plain": [
              "<Figure size 1008x432 with 2 Axes>"
            ]
          },
          "metadata": {
            "tags": []
          }
        }
      ]
    },
    {
      "cell_type": "code",
      "metadata": {
        "id": "hZcRkB_TprQP",
        "colab_type": "code",
        "outputId": "8e1c7f5a-0123-42ec-fcf1-e6c08d116d45",
        "colab": {
          "base_uri": "https://localhost:8080/",
          "height": 238
        }
      },
      "source": [
        "generate_text()"
      ],
      "execution_count": 50,
      "outputs": [
        {
          "output_type": "stream",
          "text": [
            "----- diversity: 0.2\n",
            "----- Generating with seed: \"d frightfully with this very folly the d\"\n",
            "d frightfully with this very folly the destiny and conscience and as it is a present may be such a surplus of the fact that it is a propers \n",
            "----- diversity: 0.5\n",
            "----- Generating with seed: \"d frightfully with this very folly the d\"\n",
            "d frightfully with this very folly the destiny and as the pressite and have to be the form of the comparison in the spirit of great order of\n",
            "----- diversity: 1.0\n",
            "----- Generating with seed: \"d frightfully with this very folly the d\"\n",
            "d frightfully with this very folly the deear among itsiltianic show this livet here is his idea vir more perseitence it destruction of a ts \n",
            "----- diversity: 1.2\n",
            "----- Generating with seed: \"d frightfully with this very folly the d\"\n",
            "d frightfully with this very folly the do happy primenrsthat orce bringer german with heet ensuors also ephintart soul arp what it myself lo\n"
          ],
          "name": "stdout"
        }
      ]
    }
  ]
}