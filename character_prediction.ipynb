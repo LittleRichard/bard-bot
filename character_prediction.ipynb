{
  "nbformat": 4,
  "nbformat_minor": 0,
  "metadata": {
    "colab": {
      "name": "character_prediction.ipynb",
      "provenance": [],
      "collapsed_sections": [],
      "machine_shape": "hm"
    },
    "kernelspec": {
      "name": "python3",
      "display_name": "Python 3"
    },
    "accelerator": "GPU"
  },
  "cells": [
    {
      "cell_type": "code",
      "metadata": {
        "id": "Lmgy6GCVFf_j",
        "colab_type": "code",
        "outputId": "680d7de7-d9e1-494b-b1b1-667b09a82bb8",
        "colab": {
          "base_uri": "https://localhost:8080/",
          "height": 67
        }
      },
      "source": [
        "%tensorflow_version 2.x\n",
        "import tensorflow as tf\n",
        "print(\"Tensorflow version:\", tf.__version__)\n",
        "print(\"GPU:\", tf.test.gpu_device_name())\n",
        "import numpy as np"
      ],
      "execution_count": 0,
      "outputs": [
        {
          "output_type": "stream",
          "text": [
            "TensorFlow 2.x selected.\n",
            "Tensorflow version: 2.0.0\n",
            "GPU: /device:GPU:0\n"
          ],
          "name": "stdout"
        }
      ]
    },
    {
      "cell_type": "code",
      "metadata": {
        "id": "U_UGziQ1LuOv",
        "colab_type": "code",
        "outputId": "d4f58aae-25b1-4cae-b8a1-9e9843e421a5",
        "colab": {
          "base_uri": "https://localhost:8080/",
          "height": 118
        }
      },
      "source": [
        "!git clone https://github.com/michalovsky/books-data.git"
      ],
      "execution_count": 0,
      "outputs": [
        {
          "output_type": "stream",
          "text": [
            "Cloning into 'books-data'...\n",
            "remote: Enumerating objects: 79, done.\u001b[K\n",
            "remote: Counting objects: 100% (79/79), done.\u001b[K\n",
            "remote: Compressing objects: 100% (53/53), done.\u001b[K\n",
            "remote: Total 79 (delta 20), reused 57 (delta 13), pack-reused 0\u001b[K\n",
            "Unpacking objects: 100% (79/79), done.\n"
          ],
          "name": "stdout"
        }
      ]
    },
    {
      "cell_type": "code",
      "metadata": {
        "id": "8yOZbDntMiSH",
        "colab_type": "code",
        "outputId": "47917d9d-6ad0-4d8c-e3a8-f6b0c5b0ba84",
        "colab": {
          "base_uri": "https://localhost:8080/",
          "height": 34
        }
      },
      "source": [
        "import glob\n",
        "\n",
        "def read_data(directory):\n",
        "  file_paths = glob.glob(directory +\"*.txt\")    \n",
        "  text = \"\"\n",
        "  for file_path in file_paths:\n",
        "    with open(file_path, 'r', encoding=\"utf-8-sig\") as file:\n",
        "      file_content = file.read()\n",
        "      text+=file_content\n",
        "  return text\n",
        "\n",
        "directory1 = \"books-data/kafka/\"\n",
        "directory2 = \"books-data/shelley/\"\n",
        "directory3 = \"books-data/defoe/\"\n",
        "directory4 = \"books-data/plato/\"\n",
        "\n",
        "text = read_data(directory1)\n",
        "print ('Length of text: {} characters'.format(len(text)))"
      ],
      "execution_count": 0,
      "outputs": [
        {
          "output_type": "stream",
          "text": [
            "Length of text: 571642 characters\n"
          ],
          "name": "stdout"
        }
      ]
    },
    {
      "cell_type": "code",
      "metadata": {
        "colab_type": "code",
        "outputId": "89e18a29-dc7f-4d7b-85ab-c0adaea558f8",
        "id": "B8MPgnOfsAjx",
        "colab": {
          "base_uri": "https://localhost:8080/",
          "height": 50
        }
      },
      "source": [
        "import string\n",
        "\n",
        "class DataProcessor:\n",
        "\tdef __init__(self, chars_to_remove, chars_to_translate, replacement_chars):\n",
        "\t\tself.chars_to_remove = chars_to_remove\n",
        "\t\tself.chars_to_translate = chars_to_translate\n",
        "\t\tself.replacement_chars = replacement_chars\n",
        "\n",
        "\tdef preprocess_data(self, text):\n",
        "\t\tremoval_translator = str.maketrans(\"\", \"\", self.chars_to_remove)\n",
        "\t\tspecial_characters_translator = str.maketrans(self.chars_to_translate, self.replacement_chars , '')\n",
        "\t\ttext = text.lower().translate(removal_translator).translate(special_characters_translator)\n",
        "\t\ttext = \" \".join(text.split())\n",
        "\t\treturn text\n",
        "\n",
        "characters_to_remove = '–—”„…«»‘’“°ſ†•✠' + '!\\\"#$%&\\'()*+-/:;<=>?@[\\]^_`{|}~' + string.digits  \n",
        "characters_to_translate = 'ąćęłńóśźżäöüæèêéôâáà£çëîñòùúûāœï'\n",
        "replacement_characters = 'acelnoszzaoueeeeoaaaeceinouuuaei'\n",
        "\n",
        "dataprocessor = DataProcessor(characters_to_remove, characters_to_translate, replacement_characters)\n",
        "text = dataprocessor.preprocess_data(text)\n",
        "\n",
        "vocab = sorted(list(set(text)))\n",
        "print ('{} unique characters:'.format(len(vocab)))\n",
        "print(vocab)\n",
        "vocab_size = len(vocab)"
      ],
      "execution_count": 0,
      "outputs": [
        {
          "output_type": "stream",
          "text": [
            "29 unique characters:\n",
            "[' ', ',', '.', 'a', 'b', 'c', 'd', 'e', 'f', 'g', 'h', 'i', 'j', 'k', 'l', 'm', 'n', 'o', 'p', 'q', 'r', 's', 't', 'u', 'v', 'w', 'x', 'y', 'z']\n"
          ],
          "name": "stdout"
        }
      ]
    },
    {
      "cell_type": "code",
      "metadata": {
        "id": "ppJ2hrDqGUtP",
        "colab_type": "code",
        "outputId": "b3c123df-5f4c-4e47-f696-8c6edee065c5",
        "colab": {
          "base_uri": "https://localhost:8080/",
          "height": 34
        }
      },
      "source": [
        "from sklearn.model_selection import train_test_split\n",
        "from keras.utils import np_utils\n",
        "from random import randint\n",
        "\n",
        "char_to_indices = dict((c, i) for i, c in enumerate(vocab))\n",
        "indices_to_char = dict((i, c) for i, c in enumerate(vocab))\n",
        "\n",
        "class Dataset:\n",
        "  def __init__(self):\n",
        "    self.text_sequences = list()\n",
        "    self.X_train = list()\n",
        "    self.y_train = list()\n",
        "    self.X_val = list()\n",
        "    self.y_val = list()\n",
        "\n",
        "  def make_dataset(self, text, sequence_length=40):\n",
        "    sequences = list()\n",
        "    labels = list()\n",
        "    encoded_chars = np.array([char_to_indices[ch] for ch in text]) \n",
        "    for i in range(0, len(encoded_chars) - sequence_length, 1):\n",
        "        sequences.append(encoded_chars[i:i + sequence_length])\n",
        "        self.text_sequences.append(text[i:i + sequence_length])\n",
        "        labels.append(encoded_chars[i + sequence_length])\n",
        "    X = np.reshape(sequences, (len(sequences), sequence_length, 1))\n",
        "    X = np_utils.to_categorical(X)\n",
        "    y = np_utils.to_categorical(labels)\n",
        "    self.X_train, self.X_val, self.y_train, self.y_val = train_test_split(X, y, test_size=0.2, shuffle=True)\n",
        "    return self\n",
        "\n",
        "  def get_random_sequence(self):\n",
        "\t  return self.text_sequences[randint(0, len(self.text_sequences))]\n",
        "\n",
        "input_sequence_length = 40\n",
        "dataset = Dataset().make_dataset(text, input_sequence_length)"
      ],
      "execution_count": 0,
      "outputs": [
        {
          "output_type": "stream",
          "text": [
            "Using TensorFlow backend.\n"
          ],
          "name": "stderr"
        }
      ]
    },
    {
      "cell_type": "code",
      "metadata": {
        "colab_type": "code",
        "outputId": "24b43905-a07d-4499-97b2-8004c203c4e5",
        "id": "Ab_oxOg99PBt",
        "colab": {
          "base_uri": "https://localhost:8080/",
          "height": 252
        }
      },
      "source": [
        "from tensorflow.keras.models import Sequential\n",
        "from tensorflow.keras.layers import Dense, Dropout, LSTM, BatchNormalization, Embedding\n",
        "from tensorflow.keras.constraints import max_norm\n",
        "\n",
        "class Model:\n",
        "  def __init__(self):\n",
        "    self.model = Sequential()\n",
        "    self.__build_model()\n",
        "    self.__compile_model()\n",
        "    self.model.summary()\n",
        "\n",
        "  def __build_model(self):\n",
        "    self.model.add(LSTM(90, input_shape=(input_sequence_length, vocab_size),return_sequences=True, recurrent_initializer='glorot_uniform'))\n",
        "    self.model.add(LSTM(90, recurrent_initializer='glorot_uniform'))\n",
        "    self.model.add(Dense(vocab_size, activation='softmax'))\n",
        "\n",
        "  def __compile_model(self):\n",
        "    self.model.compile(loss='categorical_crossentropy', optimizer='adam', metrics=['accuracy'])\n",
        "\n",
        "  def fit_model(self, X_train, y_train, validation_data, epochs, batch_size, callbacks):\n",
        "    return self.model.fit(\n",
        "        X_train,\n",
        "        y_train,\n",
        "        validation_data=validation_data,\n",
        "        epochs=epochs,\n",
        "        batch_size=batch_size,\n",
        "        verbose=2,\n",
        "        callbacks=callbacks\n",
        "    )\n",
        "\n",
        "model = Model()"
      ],
      "execution_count": 0,
      "outputs": [
        {
          "output_type": "stream",
          "text": [
            "Model: \"sequential\"\n",
            "_________________________________________________________________\n",
            "Layer (type)                 Output Shape              Param #   \n",
            "=================================================================\n",
            "lstm (LSTM)                  (None, 40, 90)            43200     \n",
            "_________________________________________________________________\n",
            "lstm_1 (LSTM)                (None, 90)                65160     \n",
            "_________________________________________________________________\n",
            "dense (Dense)                (None, 29)                2639      \n",
            "=================================================================\n",
            "Total params: 110,999\n",
            "Trainable params: 110,999\n",
            "Non-trainable params: 0\n",
            "_________________________________________________________________\n"
          ],
          "name": "stdout"
        }
      ]
    },
    {
      "cell_type": "code",
      "metadata": {
        "id": "-DN9MDmbWsRb",
        "colab_type": "code",
        "colab": {}
      },
      "source": [
        "import sys\n",
        "\n",
        "def sample(preds, temperature=1.0):\n",
        "    preds = np.asarray(preds).astype('float64')\n",
        "    preds = np.log(preds) / temperature\n",
        "    exp_preds = np.exp(preds)\n",
        "    preds = exp_preds / np.sum(exp_preds)\n",
        "    probas = np.random.multinomial(1, preds, 1)\n",
        "    return np.argmax(probas)\n",
        "\n",
        "def generate_text(model, seed, characters_amount=100):\n",
        "    print('Generating with seed: \"' + seed + '\"')\n",
        "    \n",
        "    for diversity in [0.2, 0.5, 1.0, 1.2]:\n",
        "        print('Diversity:', diversity)\n",
        "        sentence = seed\n",
        "        generated = ''\n",
        "        generated += sentence\n",
        "        sys.stdout.write(generated)\n",
        "\n",
        "        for i in range(characters_amount):\n",
        "            x_pred = np.zeros((1, input_sequence_length, vocab_size))\n",
        "            for t, char in enumerate(sentence):\n",
        "                x_pred[0, t, char_to_indices[char]] = 1.\n",
        "            preds = model.predict(x_pred, verbose=0)[0]\n",
        "            next_index = sample(preds, diversity)\n",
        "            next_char = indices_to_char[next_index]\n",
        "            sentence = sentence[1:] + next_char\n",
        "            sys.stdout.write(next_char)\n",
        "            if next_char=='.':\n",
        "              sys.stdout.write(\"\\n\")\n",
        "            sys.stdout.flush()\n",
        "        print()\n"
      ],
      "execution_count": 0,
      "outputs": []
    },
    {
      "cell_type": "code",
      "metadata": {
        "id": "D0unP87ZQi6T",
        "colab_type": "code",
        "outputId": "5818925d-a768-4e7e-a414-687d4970967c",
        "colab": {
          "base_uri": "https://localhost:8080/",
          "height": 34
        }
      },
      "source": [
        "from tensorflow.keras.callbacks import EarlyStopping as EarlyStopping\n",
        "from tensorflow.keras.callbacks import ModelCheckpoint, LambdaCallback, Callback\n",
        "\n",
        "seed_for_epochs = dataset.get_random_sequence()\n",
        "print(\"Checking with seed:\", seed_for_epochs)\n",
        "\n",
        "def on_epoch_end(epoch, _):\n",
        "    print()\n",
        "    generate_text(model.model, seed=seed_for_epochs, characters_amount=100)\n",
        "    print()\n",
        "\n",
        "text_generation = LambdaCallback(on_epoch_end=on_epoch_end)\n",
        "\n",
        "early_stopping = EarlyStopping(monitor='val_loss', mode='min', verbose=2, patience=20)"
      ],
      "execution_count": 0,
      "outputs": [
        {
          "output_type": "stream",
          "text": [
            "Checking with seed: ed permission again from mr. samsa for h\n"
          ],
          "name": "stdout"
        }
      ]
    },
    {
      "cell_type": "code",
      "metadata": {
        "id": "ckKUs9m20mXz",
        "colab_type": "code",
        "outputId": "ff3cff36-6241-4790-cc7a-fc7feeb1c2c2",
        "colab": {
          "base_uri": "https://localhost:8080/",
          "height": 336
        }
      },
      "source": [
        "batch_size = 100\n",
        "epochs = 100\n",
        "callbacks = [early_stopping, text_generation]\n",
        "history = model.fit_model(dataset.X_train, dataset.y_train, validation_data=(dataset.X_val, dataset.y_val), epochs=epochs, batch_size=batch_size, callbacks=callbacks)"
      ],
      "execution_count": 0,
      "outputs": [
        {
          "output_type": "stream",
          "text": [
            "Train on 447012 samples, validate on 111754 samples\n",
            "\n",
            "Generating with seed: \"ed permission again from mr. samsa for h\"\n",
            "Diversity: 0.2\n",
            "ed permission again from mr. samsa for his said the canter to the can the storged to his had the still the painter the stort the stort the s\n",
            "Diversity: 0.5\n",
            "ed permission again from mr. samsa for he ont and the storg be, was inte and the made to sile the sald as in the stert to canted of hand pro\n",
            "Diversity: 1.0\n",
            "ed permission again from mr. samsa for hispeffrad to fir hand.\n",
            " all to some on the wime on.\n",
            " the expriacts not saicht.\n",
            " weytnes som fires befwi\n",
            "Diversity: 1.2\n",
            "ed permission again from mr. samsa for had illardy hirs.\n",
            " on.\n",
            " i aswe fill of peut of you no tillet to gent my.\n",
            " agfosedssed as beconigingly mi\n",
            "\n",
            "447012/447012 - 69s - loss: 2.0066 - accuracy: 0.4114 - val_loss: 1.7154 - val_accuracy: 0.4888\n"
          ],
          "name": "stdout"
        }
      ]
    },
    {
      "cell_type": "code",
      "metadata": {
        "id": "IGzq8hGkpgj9",
        "colab_type": "code",
        "outputId": "b63e7b09-9121-4da6-e724-735fefb2b970",
        "colab": {
          "base_uri": "https://localhost:8080/",
          "height": 441
        }
      },
      "source": [
        "import matplotlib.pyplot as plt\n",
        "\n",
        "training_loss = history.history['loss']\n",
        "validation_loss = history.history['val_loss']\n",
        "training_acc = history.history['accuracy']\n",
        "validation_acc = history.history['val_accuracy']\n",
        "\n",
        "epoch_count = range(1, len(training_loss) + 1)\n",
        "\n",
        "f = plt.figure(figsize=(14,6))\n",
        "\n",
        "a0 = f.add_subplot(121)\n",
        "a0.plot(epoch_count, training_loss, 'r--', label=\"Training loss\")\n",
        "a0.plot(epoch_count, validation_loss, 'b-', label=\"Validation loss\")\n",
        "a0.legend()\n",
        "a0.set_title(\"Loss function\")\n",
        "a0.set_xlabel(\"Epoch\")\n",
        "plt.xlim(0, epochs)\n",
        "a0.set_ylabel(\"Loss\")\n",
        "plt.ylim(0, np.ceil(max(training_loss)))\n",
        "\n",
        "a1 = f.add_subplot(122)\n",
        "a1.plot(epoch_count, training_acc, 'r--', label=\"Training acc\")\n",
        "a1.plot(epoch_count, validation_acc, 'b-', label=\"Validation acc\")\n",
        "a1.set_title(\"Accuracy function\")\n",
        "a1.set_xlabel(\"Epoch\")\n",
        "plt.xlim(0, epochs)\n",
        "a1.set_ylabel(\"Acc\")\n",
        "plt.ylim(0, 1)\n",
        "# plt.savefig(save_directory+\"/characteristics.png\")  \n",
        "\n",
        "plt.tight_layout()\n",
        "plt.show()"
      ],
      "execution_count": 0,
      "outputs": [
        {
          "output_type": "display_data",
          "data": {
            "image/png": "[encoded data removed]",
            "text/plain": [
              "<Figure size 1008x432 with 2 Axes>"
            ]
          },
          "metadata": {
            "tags": []
          }
        }
      ]
    },
    {
      "cell_type": "code",
      "metadata": {
        "id": "hZcRkB_TprQP",
        "colab_type": "code",
        "outputId": "73e9045a-79ec-4d7c-f6df-ee01d3f8821e",
        "colab": {
          "base_uri": "https://localhost:8080/",
          "height": 406
        }
      },
      "source": [
        "seed = dataset.get_random_sequence()\n",
        "print(\"Generating with seed:\", seed, \"\\n\")\n",
        "generate_text(model.model, seed, characters_amount=200)"
      ],
      "execution_count": 0,
      "outputs": [
        {
          "output_type": "stream",
          "text": [
            "Generating with seed: d there was also, somewhere in front of  \n",
            "\n",
            "Generating with seed: \"d there was also, somewhere in front of \"\n",
            "Diversity: 0.2\n",
            "d there was also, somewhere in front of the could the stind of the still the still the staint and the stort and the stort the stort the cantion the stort the can the stort the stort the said the can the stort the stort the cant to him the s\n",
            "Diversity: 0.5\n",
            "d there was also, somewhere in front of not his and his was me have suppreation and of his still beant he said the cant her stort that be some proaally in the storn sto live becint that standed and some in the dident he said was all and and\n",
            "Diversity: 1.0\n",
            "d there was also, somewhere in front of himpany with in allmipe and sulrood.\n",
            " me tho his lakitusion non they mevers of.\n",
            " the liprereffend fan lepomy.\n",
            " ble one say here higher as he handaly buss.\n",
            " he seworgsred untiid him hid houd you might prie\n",
            "Diversity: 1.2\n",
            "d there was also, somewhere in front of a sat, streprby daly of herse.\n",
            " soppredsps, nirstair, notm hers.\n",
            " ress to peint burs.\n",
            " of elapn lanked, mid there ttt indor gingention.\n",
            " id eepcement tone thas.\n",
            " he seoce, he.\n",
            " lifmed tlapes.\n",
            " the liskited s\n"
          ],
          "name": "stdout"
        }
      ]
    }
  ]
}