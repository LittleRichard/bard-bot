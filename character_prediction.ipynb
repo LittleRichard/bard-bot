{
  "nbformat": 4,
  "nbformat_minor": 0,
  "metadata": {
    "colab": {
      "name": "character_prediction.ipynb",
      "provenance": [],
      "collapsed_sections": []
    },
    "kernelspec": {
      "name": "python3",
      "display_name": "Python 3"
    }
  },
  "cells": [
    {
      "cell_type": "code",
      "metadata": {
        "id": "3RoKNH7o0bTR",
        "colab_type": "code",
        "outputId": "631b5621-3bca-41e3-b72b-1bb9fa0543f5",
        "colab": {
          "base_uri": "https://localhost:8080/",
          "height": 133
        }
      },
      "source": [
        "from __future__ import absolute_import, division, print_function, unicode_literals\n",
        "\n",
        "import tensorflow as tf\n",
        "tf.enable_eager_execution()\n",
        "from tensorflow.keras.callbacks import EarlyStopping as EarlyStopping\n",
        "from tensorflow.python.client import device_lib\n",
        "from tensorflow.keras.layers import Activation\n",
        "import numpy as np\n",
        "import os\n",
        "import re\n",
        "import time\n",
        "import string\n",
        "\n",
        "file = open('lotr_data/lotr.txt','rt')\n",
        "text = file.read()\n",
        "file.close()\n",
        "\n",
        "chars_to_remove = ['…', '‚', '’', '‘', 'ó', '»', 'µ', '®', '«', '¥', '¤', '¢', '}', '{', '—', '_', '=', ';', '~', '`',\n",
        "                   '#', '!', '\\\"', '#', '&', \"\\'\", '(', ')', ',', '-', '.', '/', ':', '*', '[', ']', '\\\\', '|', '?', '–']\n",
        "\n",
        "for char_to_remove in chars_to_remove:\n",
        "  text = text.replace(char_to_remove, \"\")\n",
        "\n",
        "text = ' '.join(text.split())\n",
        "text = text.lower()\n",
        "\n",
        "# split text into words\n",
        "words = text.split(\" \")\n",
        "print(words[:100])\n",
        "print ('Length of text: {} characters'.format(len(text)))\n",
        "vocab = sorted(set(text))\n",
        "print ('{} unique characters'.format(len(vocab)))\n",
        "\n",
        "# Creating a mapping from unique characters to indices\n",
        "char2idx = {u:i for i, u in enumerate(vocab)}\n",
        "idx2char = np.array(vocab)\n",
        "    \n",
        "# print('{')\n",
        "# for char in char2idx:\n",
        "#     print('  {:4s}: {:3d},'.format(repr(char), char2idx[char]))\n",
        "# print('}')\n",
        "  \n",
        "  \n",
        "encoded = np.array([char2idx[ch] for ch in text])  \n",
        "\n",
        "\n",
        " \n",
        "\n",
        "\n",
        "\n",
        "\n",
        "\n"
      ],
      "execution_count": 2,
      "outputs": [
        {
          "output_type": "display_data",
          "data": {
            "text/html": [
              "<p style=\"color: red;\">\n",
              "The default version of TensorFlow in Colab will soon switch to TensorFlow 2.x.<br>\n",
              "We recommend you <a href=\"https://www.tensorflow.org/guide/migrate\" target=\"_blank\">upgrade</a> now \n",
              "or ensure your notebook will continue to use TensorFlow 1.x via the <code>%tensorflow_version 1.x</code> magic:\n",
              "<a href=\"https://colab.research.google.com/notebooks/tensorflow_version.ipynb\" target=\"_blank\">more info</a>.</p>\n"
            ],
            "text/plain": [
              "<IPython.core.display.HTML object>"
            ]
          },
          "metadata": {
            "tags": []
          }
        },
        {
          "output_type": "stream",
          "text": [
            "['in', 'a', 'hole', 'in', 'the', 'ground', 'there', 'lived', 'a', 'hobbit', 'not', 'a', 'nasty', 'dirty', 'wet', 'hole', 'filled', 'with', 'the', 'ends', 'of', 'worms', 'and', 'an', 'oozy', 'smell', 'nor', 'yet', 'a', 'dry', 'bare', 'sandy', 'hole', 'with', 'nothing', 'in', 'it', 'to', 'sit', 'down', 'on', 'or', 'to', 'eat', 'it', 'was', 'a', 'hobbithole', 'and', 'that', 'means', 'comfort', 'it', 'had', 'a', 'perfectly', 'round', 'door', 'like', 'a', 'porthole', 'painted', 'green', 'with', 'a', 'shiny', 'yellow', 'brass', 'knob', 'in', 'the', 'exact', 'middle', 'the', 'door', 'opened', 'on', 'to', 'a', 'tubeshaped', 'hall', 'like', 'a', 'tunnel', 'a', 'very', 'comfortable', 'tunnel', 'without', 'smoke', 'with', 'panelled', 'walls', 'and', 'floors', 'tiled', 'and', 'carpeted', 'provided', 'with']\n",
            "Length of text: 2897578 characters\n",
            "37 unique characters\n"
          ],
          "name": "stdout"
        }
      ]
    },
    {
      "cell_type": "code",
      "metadata": {
        "id": "U_UGziQ1LuOv",
        "colab_type": "code",
        "colab": {}
      },
      "source": [
        "!git clone https://github.com/michalovsky/lotr_data.git"
      ],
      "execution_count": 0,
      "outputs": []
    }
  ]
}