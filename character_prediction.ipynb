{
  "nbformat": 4,
  "nbformat_minor": 0,
  "metadata": {
    "colab": {
      "name": "character_prediction.ipynb",
      "provenance": [],
      "collapsed_sections": [],
      "include_colab_link": true
    },
    "kernelspec": {
      "name": "python3",
      "display_name": "Python 3"
    },
    "accelerator": "GPU"
  },
  "cells": [
    {
      "cell_type": "markdown",
      "metadata": {
        "id": "view-in-github",
        "colab_type": "text"
      },
      "source": [
        "<a href=\"https://colab.research.google.com/github/michalovsky/character_prediction/blob/master/character_prediction.ipynb\" target=\"_parent\"><img src=\"https://colab.research.google.com/assets/colab-badge.svg\" alt=\"Open In Colab\"/></a>"
      ]
    },
    {
      "cell_type": "code",
      "metadata": {
        "id": "Lmgy6GCVFf_j",
        "colab_type": "code",
        "outputId": "4c60a0ec-bd03-4f59-a265-8a4d3d67c05b",
        "colab": {
          "base_uri": "https://localhost:8080/",
          "height": 84
        }
      },
      "source": [
        "%tensorflow_version 2.x\n",
        "import tensorflow as tf\n",
        "print(\"Tensorflow version:\", tf.__version__)\n",
        "from tensorflow.keras.callbacks import EarlyStopping as EarlyStopping\n",
        "from tensorflow.keras.models import Sequential\n",
        "from tensorflow.keras.layers import Dense, Dropout, LSTM, BatchNormalization\n",
        "from tensorflow.keras.callbacks import ModelCheckpoint, LambdaCallback\n",
        "from tensorflow.keras.constraints import max_norm\n",
        "from keras.utils import np_utils\n",
        "import numpy as np\n",
        "import random\n",
        "import os\n",
        "import re\n",
        "import string\n",
        "import glob\n",
        "import sys\n",
        "import io\n",
        "# GPU informations\n",
        "print(\"GPU:\", tf.test.gpu_device_name())"
      ],
      "execution_count": 3,
      "outputs": [
        {
          "output_type": "stream",
          "text": [
            "TensorFlow 2.x selected.\n",
            "Tensorflow version: 2.0.0\n"
          ],
          "name": "stdout"
        },
        {
          "output_type": "stream",
          "text": [
            "Using TensorFlow backend.\n"
          ],
          "name": "stderr"
        },
        {
          "output_type": "stream",
          "text": [
            "GPU: /device:GPU:0\n"
          ],
          "name": "stdout"
        }
      ]
    },
    {
      "cell_type": "code",
      "metadata": {
        "id": "U_UGziQ1LuOv",
        "colab_type": "code",
        "colab": {}
      },
      "source": [
        "!git clone https://github.com/michalovsky/books_data.git"
      ],
      "execution_count": 0,
      "outputs": []
    },
    {
      "cell_type": "code",
      "metadata": {
        "id": "8yOZbDntMiSH",
        "colab_type": "code",
        "outputId": "ff002432-b872-4cf3-bad6-7ad055161db9",
        "colab": {
          "base_uri": "https://localhost:8080/",
          "height": 34
        }
      },
      "source": [
        "# Read all file paths from directory\n",
        "directory1 = \"books_data/kafka/\"\n",
        "directory2 = \"books_data/shelley/\"\n",
        "directory3 = \"books_data/defoe/\"\n",
        "directory4 = \"books_data/nietzsche/\"\n",
        "directory5 = \"books_data/dickens/\"\n",
        "directory6 = \"books_data/joyce/\"\n",
        "directory7 = \"books_data/sienkiewicz/\"\n",
        "\n",
        "directory = directory4\n",
        "file_paths = glob.glob(directory +\"*.txt\")    \n",
        "print(\"Found\", len(file_paths), \"text files in directory:\", directory)"
      ],
      "execution_count": 4,
      "outputs": [
        {
          "output_type": "stream",
          "text": [
            "Found 1 text files in directory: books_data/nietzsche/\n"
          ],
          "name": "stdout"
        }
      ]
    },
    {
      "cell_type": "code",
      "metadata": {
        "id": "3NmsP_xHPnRe",
        "colab_type": "code",
        "outputId": "efea7501-1ac6-4b24-fa3b-4ed1c5f81b7f",
        "colab": {
          "base_uri": "https://localhost:8080/",
          "height": 34
        }
      },
      "source": [
        "# Extract text from all text files\n",
        "text = \"\"\n",
        "\n",
        "for file_path in file_paths:\n",
        "    with open(file_path, 'r') as file:\n",
        "        file_content = file.read()\n",
        "        #remove file beginning and ending from gutenberg books\n",
        "        # file_content = file_content.replace(\"***START\", \"*** START\") #temp\n",
        "        # file_content = file_content.replace(\"***END\", \"*** END\") #temp\n",
        "        # file_content = file_content[file_content.find(\"*** START\"):file_content.rfind(\"*** END\")]\n",
        "        # #remove file ending from wolnelektury books\n",
        "        # file_content = file_content[:file_content.rfind(\"-----\")]\n",
        "        text+=file_content\n",
        "print ('Length of text: {} characters'.format(len(text)))"
      ],
      "execution_count": 5,
      "outputs": [
        {
          "output_type": "stream",
          "text": [
            "Length of text: 600893 characters\n"
          ],
          "name": "stdout"
        }
      ]
    },
    {
      "cell_type": "code",
      "metadata": {
        "colab_type": "code",
        "outputId": "08d185ce-3a5e-4a1f-a92a-a7f20ec88037",
        "id": "B8MPgnOfsAjx",
        "colab": {
          "base_uri": "https://localhost:8080/",
          "height": 34
        }
      },
      "source": [
        "# Preprocess data\n",
        "\n",
        "punctuation_translator = str.maketrans('–—”„…«»‘’“°ſ†•✠', '               ', string.punctuation)\n",
        "digits_translator = str.maketrans('', '', string.digits)\n",
        "special_characters_translator = str.maketrans('ąćęłńóśźżäöüæèêéôâáà£çëîñòùúûāœ', 'acelnoszzaoueeeeoaaaeceinouuuae', '')\n",
        "\n",
        "# remove redundant characters and translate special characters\n",
        "text = text.lower().translate(punctuation_translator).translate(digits_translator).translate(special_characters_translator)\n",
        "\n",
        "# remove \"rozdzial <number>\" and \"chapter <number>\" strings \n",
        "text = re.sub(r\"\\nrozdzial\\s(.*)\\n\", \"\", text)\n",
        "text = re.sub(r\"\\nchapter\\s(.*)\\n\", \"\", text)\n",
        "\n",
        "#remove extra spaces and new lines\n",
        "text = ' '.join(text.split())\n",
        "\n",
        "print ('Length of text after preprocessing: {} characters'.format(len(text)))"
      ],
      "execution_count": 6,
      "outputs": [
        {
          "output_type": "stream",
          "text": [
            "Length of text after preprocessing: 576560 characters\n"
          ],
          "name": "stdout"
        }
      ]
    },
    {
      "cell_type": "code",
      "metadata": {
        "id": "ppJ2hrDqGUtP",
        "colab_type": "code",
        "colab": {
          "base_uri": "https://localhost:8080/",
          "height": 50
        },
        "outputId": "3cb8fb3e-9a13-42fb-e825-e96ef70ec32b"
      },
      "source": [
        "# Creating a mapping from unique characters to indices\n",
        "vocab = sorted(list(set(text)))\n",
        "vocab_size = len(vocab)\n",
        "char2idx = dict((c, i) for i, c in enumerate(vocab))\n",
        "idx2char = dict((i, c) for i, c in enumerate(vocab))\n",
        "print ('{} unique characters:'.format(len(vocab)))\n",
        "print(vocab)"
      ],
      "execution_count": 7,
      "outputs": [
        {
          "output_type": "stream",
          "text": [
            "27 unique characters:\n",
            "[' ', 'a', 'b', 'c', 'd', 'e', 'f', 'g', 'h', 'i', 'j', 'k', 'l', 'm', 'n', 'o', 'p', 'q', 'r', 's', 't', 'u', 'v', 'w', 'x', 'y', 'z']\n"
          ],
          "name": "stdout"
        }
      ]
    },
    {
      "cell_type": "code",
      "metadata": {
        "id": "D4T1FgjiGg8d",
        "colab_type": "code",
        "outputId": "0754961e-a3a3-4093-e5d8-14e1ce9cb307",
        "colab": {
          "base_uri": "https://localhost:8080/",
          "height": 34
        }
      },
      "source": [
        "from sklearn.model_selection import train_test_split\n",
        "from sklearn.utils import shuffle\n",
        "\n",
        "sequence_length = 40\n",
        "step = 3\n",
        "sentences = []\n",
        "labels = []\n",
        "encoded = np.array([char2idx[ch] for ch in text]) \n",
        "\n",
        "for i in range(0, len(encoded) - sequence_length, step):\n",
        "    sentences.append(encoded[i:i + sequence_length])\n",
        "    labels.append(encoded[i + sequence_length])\n",
        "\n",
        "data_size = len(sentences)\n",
        "print(\"Data size:\", data_size)\n",
        "\n",
        "X = np.reshape(sentences, (data_size, sequence_length, 1))\n",
        "X = np_utils.to_categorical(X)\n",
        "y = np_utils.to_categorical(labels)\n",
        "\n",
        "# Split into training and testing set\n",
        "X_train, X_test, y_train, y_test = train_test_split(X,y, test_size=0.2, shuffle=True)\n",
        "# Shuffle testing set\n",
        "# X_test, y_test = shuffle(X_test, y_test, random_state=0)"
      ],
      "execution_count": 19,
      "outputs": [
        {
          "output_type": "stream",
          "text": [
            "Data size: 192174\n"
          ],
          "name": "stdout"
        }
      ]
    },
    {
      "cell_type": "code",
      "metadata": {
        "colab_type": "code",
        "outputId": "58b85a23-ed74-4c7a-c38f-3d2f7619948e",
        "id": "Ab_oxOg99PBt",
        "colab": {
          "base_uri": "https://localhost:8080/",
          "height": 218
        }
      },
      "source": [
        "model = Sequential()\n",
        "model.add(LSTM(128, input_shape=(sequence_length, vocab_size)))\n",
        "# model.add(BatchNormalization())\n",
        "model.add(Dense(vocab_size, activation='softmax'))\n",
        "\n",
        "model.compile(loss='categorical_crossentropy', optimizer='adam', metrics=['accuracy'])\n",
        "\n",
        "# model = Sequential()\n",
        "# model.add(LSTM(256, input_shape=(X.shape[1], X.shape[2]), return_sequences=True, recurrent_initializer='glorot_uniform', kernel_constraint=max_norm(3)))\n",
        "# # recurrent_constraint=max_norm(3), bias_constraint=max_norm(3)))\n",
        "# model.add(BatchNormalization())\n",
        "# model.add(LSTM(256, recurrent_initializer='glorot_uniform', kernel_constraint=max_norm(3)))\n",
        "# model.add(BatchNormalization())\n",
        "# # model.add(LSTM(256, recurrent_initializer='glorot_uniform', kernel_constraint=max_norm(3)))\n",
        "# # model.add(BatchNormalization())\n",
        "# model.add(Dense(y.shape[1], activation='softmax'))\n",
        "\n",
        "model.summary()"
      ],
      "execution_count": 20,
      "outputs": [
        {
          "output_type": "stream",
          "text": [
            "Model: \"sequential_3\"\n",
            "_________________________________________________________________\n",
            "Layer (type)                 Output Shape              Param #   \n",
            "=================================================================\n",
            "lstm_3 (LSTM)                (None, 128)               79872     \n",
            "_________________________________________________________________\n",
            "dense_3 (Dense)              (None, 27)                3483      \n",
            "=================================================================\n",
            "Total params: 83,355\n",
            "Trainable params: 83,355\n",
            "Non-trainable params: 0\n",
            "_________________________________________________________________\n"
          ],
          "name": "stdout"
        }
      ]
    },
    {
      "cell_type": "code",
      "metadata": {
        "id": "-DN9MDmbWsRb",
        "colab_type": "code",
        "colab": {}
      },
      "source": [
        "# Setting callbacks\n",
        "\n",
        "def sample(preds, temperature=1.0):\n",
        "    # helper function to sample an index from a probability array\n",
        "    preds = np.asarray(preds).astype('float64')\n",
        "    preds = np.log(preds) / temperature\n",
        "    exp_preds = np.exp(preds)\n",
        "    preds = exp_preds / np.sum(exp_preds)\n",
        "    probas = np.random.multinomial(1, preds, 1)\n",
        "    return np.argmax(probas)\n",
        "\n",
        "def generate_text(amount=100):\n",
        "    start_index = random.randint(0, len(text) - sequence_length - 1)\n",
        "    for diversity in [0.2, 0.5, 1.0, 1.2]:\n",
        "        print('----- diversity:', diversity)\n",
        "\n",
        "        generated = ''\n",
        "        sentence = text[start_index: start_index + sequence_length]\n",
        "        generated += sentence\n",
        "        print('----- Generating with seed: \"' + sentence + '\"')\n",
        "        sys.stdout.write(generated)\n",
        "\n",
        "        for i in range(amount):\n",
        "            x_pred = np.zeros((1, sequence_length, vocab_size))\n",
        "            for t, char in enumerate(sentence):\n",
        "                x_pred[0, t, char2idx[char]] = 1.\n",
        "\n",
        "            preds = model.predict(x_pred, verbose=0)[0]\n",
        "            next_index = sample(preds, diversity)\n",
        "            next_char = idx2char[next_index]\n",
        "\n",
        "            sentence = sentence[1:] + next_char\n",
        "\n",
        "            sys.stdout.write(next_char)\n",
        "            sys.stdout.flush()\n",
        "        print()\n",
        "\n",
        "def on_epoch_end(epoch, _):\n",
        "    # Function invoked at end of each epoch. Prints generated text.\n",
        "    print()\n",
        "    print('----- Generating text after Epoch: %d' % epoch)\n",
        "    generate_text()\n",
        "\n",
        "print_callback = LambdaCallback(on_epoch_end=on_epoch_end)\n",
        "\n",
        "es = EarlyStopping(monitor='val_loss', mode='min', verbose=2, patience=20)\n",
        "\n",
        "# checkpoint_dir = './training_checkpoints'\n",
        "# checkpoint_prefix = os.path.join(checkpoint_dir, \"ckpt_{epoch}\")\n",
        "# checkpoint = ModelCheckpoint(filepath=checkpoint_prefix, monitor='loss', save_best_only=True, mode='min')\n",
        "\n",
        "callbacks = [ es]"
      ],
      "execution_count": 0,
      "outputs": []
    },
    {
      "cell_type": "code",
      "metadata": {
        "id": "ckKUs9m20mXz",
        "colab_type": "code",
        "outputId": "76512dd1-799f-4367-fb8b-26bdb60f01a5",
        "colab": {
          "base_uri": "https://localhost:8080/",
          "height": 1000
        }
      },
      "source": [
        "batch_size = 64 \n",
        "epochs = 60\n",
        "#0.6 beaten for seq_len=60, data=shelley, 3x256, dropouts 0.2, batch_size=64, epochs=40, \n",
        "history = model.fit(X_train, y_train, validation_data=(X_test, y_test), epochs=epochs, batch_size=batch_size, verbose=2, callbacks=callbacks)"
      ],
      "execution_count": 22,
      "outputs": [
        {
          "output_type": "stream",
          "text": [
            "Train on 153739 samples, validate on 38435 samples\n",
            "Epoch 1/60\n",
            "153739/153739 - 17s - loss: 2.2430 - accuracy: 0.3360 - val_loss: 2.0199 - val_accuracy: 0.3924\n",
            "Epoch 2/60\n",
            "153739/153739 - 15s - loss: 1.8989 - accuracy: 0.4283 - val_loss: 1.8247 - val_accuracy: 0.4475\n",
            "Epoch 3/60\n",
            "153739/153739 - 14s - loss: 1.7479 - accuracy: 0.4725 - val_loss: 1.7143 - val_accuracy: 0.4811\n",
            "Epoch 4/60\n",
            "153739/153739 - 14s - loss: 1.6468 - accuracy: 0.5021 - val_loss: 1.6442 - val_accuracy: 0.5007\n",
            "Epoch 5/60\n",
            "153739/153739 - 14s - loss: 1.5718 - accuracy: 0.5239 - val_loss: 1.5968 - val_accuracy: 0.5162\n",
            "Epoch 6/60\n",
            "153739/153739 - 14s - loss: 1.5124 - accuracy: 0.5406 - val_loss: 1.5504 - val_accuracy: 0.5299\n",
            "Epoch 7/60\n",
            "153739/153739 - 15s - loss: 1.4643 - accuracy: 0.5539 - val_loss: 1.5208 - val_accuracy: 0.5384\n",
            "Epoch 8/60\n",
            "153739/153739 - 15s - loss: 1.4239 - accuracy: 0.5660 - val_loss: 1.5067 - val_accuracy: 0.5411\n",
            "Epoch 9/60\n",
            "153739/153739 - 14s - loss: 1.3898 - accuracy: 0.5750 - val_loss: 1.4935 - val_accuracy: 0.5479\n",
            "Epoch 10/60\n",
            "153739/153739 - 14s - loss: 1.3601 - accuracy: 0.5832 - val_loss: 1.4815 - val_accuracy: 0.5499\n",
            "Epoch 11/60\n",
            "153739/153739 - 14s - loss: 1.3340 - accuracy: 0.5918 - val_loss: 1.4783 - val_accuracy: 0.5544\n",
            "Epoch 12/60\n",
            "153739/153739 - 15s - loss: 1.3103 - accuracy: 0.5984 - val_loss: 1.4744 - val_accuracy: 0.5549\n",
            "Epoch 13/60\n",
            "153739/153739 - 15s - loss: 1.2880 - accuracy: 0.6043 - val_loss: 1.4733 - val_accuracy: 0.5562\n",
            "Epoch 14/60\n",
            "153739/153739 - 14s - loss: 1.2675 - accuracy: 0.6103 - val_loss: 1.4721 - val_accuracy: 0.5562\n",
            "Epoch 15/60\n",
            "153739/153739 - 14s - loss: 1.2494 - accuracy: 0.6149 - val_loss: 1.4726 - val_accuracy: 0.5588\n",
            "Epoch 16/60\n",
            "153739/153739 - 15s - loss: 1.2312 - accuracy: 0.6200 - val_loss: 1.4814 - val_accuracy: 0.5574\n",
            "Epoch 17/60\n",
            "153739/153739 - 15s - loss: 1.2147 - accuracy: 0.6236 - val_loss: 1.4876 - val_accuracy: 0.5555\n",
            "Epoch 18/60\n",
            "153739/153739 - 15s - loss: 1.1995 - accuracy: 0.6291 - val_loss: 1.4898 - val_accuracy: 0.5566\n",
            "Epoch 19/60\n",
            "153739/153739 - 15s - loss: 1.1841 - accuracy: 0.6334 - val_loss: 1.4950 - val_accuracy: 0.5556\n",
            "Epoch 20/60\n",
            "153739/153739 - 14s - loss: 1.1719 - accuracy: 0.6363 - val_loss: 1.5013 - val_accuracy: 0.5531\n",
            "Epoch 21/60\n",
            "153739/153739 - 14s - loss: 1.1575 - accuracy: 0.6403 - val_loss: 1.5075 - val_accuracy: 0.5538\n",
            "Epoch 22/60\n",
            "153739/153739 - 14s - loss: 1.1451 - accuracy: 0.6446 - val_loss: 1.5169 - val_accuracy: 0.5548\n",
            "Epoch 23/60\n",
            "153739/153739 - 14s - loss: 1.1340 - accuracy: 0.6470 - val_loss: 1.5240 - val_accuracy: 0.5535\n",
            "Epoch 24/60\n",
            "153739/153739 - 15s - loss: 1.1217 - accuracy: 0.6514 - val_loss: 1.5435 - val_accuracy: 0.5473\n",
            "Epoch 25/60\n",
            "153739/153739 - 14s - loss: 1.1123 - accuracy: 0.6539 - val_loss: 1.5362 - val_accuracy: 0.5491\n",
            "Epoch 26/60\n",
            "153739/153739 - 15s - loss: 1.1024 - accuracy: 0.6562 - val_loss: 1.5428 - val_accuracy: 0.5527\n",
            "Epoch 27/60\n",
            "153739/153739 - 15s - loss: 1.0919 - accuracy: 0.6596 - val_loss: 1.5546 - val_accuracy: 0.5477\n",
            "Epoch 28/60\n",
            "153739/153739 - 14s - loss: 1.0829 - accuracy: 0.6634 - val_loss: 1.5640 - val_accuracy: 0.5477\n",
            "Epoch 29/60\n",
            "153739/153739 - 15s - loss: 1.0757 - accuracy: 0.6634 - val_loss: 1.5727 - val_accuracy: 0.5473\n",
            "Epoch 30/60\n",
            "153739/153739 - 15s - loss: 1.0676 - accuracy: 0.6667 - val_loss: 1.5789 - val_accuracy: 0.5474\n",
            "Epoch 31/60\n",
            "153739/153739 - 14s - loss: 1.0598 - accuracy: 0.6689 - val_loss: 1.5924 - val_accuracy: 0.5420\n",
            "Epoch 32/60\n",
            "153739/153739 - 14s - loss: 1.0523 - accuracy: 0.6705 - val_loss: 1.6009 - val_accuracy: 0.5434\n",
            "Epoch 33/60\n",
            "153739/153739 - 14s - loss: 1.0453 - accuracy: 0.6732 - val_loss: 1.6061 - val_accuracy: 0.5447\n",
            "Epoch 34/60\n",
            "153739/153739 - 15s - loss: 1.0390 - accuracy: 0.6754 - val_loss: 1.6053 - val_accuracy: 0.5455\n",
            "Epoch 00034: early stopping\n"
          ],
          "name": "stdout"
        }
      ]
    },
    {
      "cell_type": "code",
      "metadata": {
        "id": "rktOFz_d0zAd",
        "colab_type": "code",
        "colab": {}
      },
      "source": [
        "tf.train.latest_checkpoint(checkpoint_dir) #second param direct file: \"ckpt_50\""
      ],
      "execution_count": 0,
      "outputs": []
    },
    {
      "cell_type": "code",
      "metadata": {
        "id": "IGzq8hGkpgj9",
        "colab_type": "code",
        "outputId": "39ac9008-2cd3-46b8-e9cf-2406c044a304",
        "colab": {
          "base_uri": "https://localhost:8080/",
          "height": 441
        }
      },
      "source": [
        "import matplotlib.pyplot as plt\n",
        "\n",
        "# Make characteristics\n",
        "training_loss = history.history['loss']\n",
        "validation_loss = history.history['val_loss']\n",
        "training_acc = history.history['accuracy']\n",
        "validation_acc = history.history['val_accuracy']\n",
        "\n",
        "epoch_count = range(1, len(training_loss) + 1)\n",
        "\n",
        "f = plt.figure(figsize=(14,6))\n",
        "\n",
        "a0 = f.add_subplot(121)\n",
        "a0.plot(epoch_count, training_loss, 'r--', label=\"Training loss\")\n",
        "a0.plot(epoch_count, validation_loss, 'b-', label=\"Validation loss\")\n",
        "a0.legend()\n",
        "a0.set_title(\"Loss function\")\n",
        "a0.set_xlabel(\"Epoch\")\n",
        "plt.xlim(0, epochs)\n",
        "a0.set_ylabel(\"Loss\")\n",
        "plt.ylim(0, np.ceil(max(training_loss)))\n",
        "\n",
        "a1 = f.add_subplot(122)\n",
        "a1.plot(epoch_count, training_acc, 'r--', label=\"Training acc\")\n",
        "a1.plot(epoch_count, validation_acc, 'b-', label=\"Validation acc\")\n",
        "a1.set_title(\"Accuracy function\")\n",
        "a1.set_xlabel(\"Epoch\")\n",
        "plt.xlim(0, epochs)\n",
        "a1.set_ylabel(\"Acc\")\n",
        "plt.ylim(0, 1)\n",
        "# plt.savefig(save_directory+\"/characteristics.png\")  \n",
        "\n",
        "plt.tight_layout()\n",
        "plt.show()"
      ],
      "execution_count": 23,
      "outputs": [
        {
          "output_type": "display_data",
          "data": {
            "image/png": "[encoded data removed]",
            "text/plain": [
              "<Figure size 1008x432 with 2 Axes>"
            ]
          },
          "metadata": {
            "tags": []
          }
        }
      ]
    },
    {
      "cell_type": "code",
      "metadata": {
        "id": "hZcRkB_TprQP",
        "colab_type": "code",
        "outputId": "1ceca1a9-b0e9-4e44-8067-fa85c0e97a73",
        "colab": {
          "base_uri": "https://localhost:8080/",
          "height": 238
        }
      },
      "source": [
        "generate_text()"
      ],
      "execution_count": 27,
      "outputs": [
        {
          "output_type": "stream",
          "text": [
            "----- diversity: 0.2\n",
            "----- Generating with seed: \"r an evil huntsman was i see how taut my\"\n",
            "r an evil huntsman was i see how taut my deverined the world in the same timigion the exceptional except of the spirit of the contrary to po\n",
            "----- diversity: 0.5\n",
            "----- Generating with seed: \"r an evil huntsman was i see how taut my\"\n",
            "r an evil huntsman was i see how taut my proposition which the same time of the senses is in all the morality of the good of his passionatio\n",
            "----- diversity: 1.0\n",
            "----- Generating with seed: \"r an evil huntsman was i see how taut my\"\n",
            "r an evil huntsman was i see how taut my deceates it would finer a position we free of peacents however form of gotms of desireance of a it \n",
            "----- diversity: 1.2\n",
            "----- Generating with seed: \"r an evil huntsman was i see how taut my\"\n",
            "r an evil huntsman was i see how taut my pelastes from with his spycures more vigoom for g asher which fundamentally diantait brange dielthe\n"
          ],
          "name": "stdout"
        }
      ]
    }
  ]
}