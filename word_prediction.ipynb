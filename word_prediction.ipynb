{
  "nbformat": 4,
  "nbformat_minor": 0,
  "metadata": {
    "colab": {
      "name": "word_prediction.ipynb",
      "provenance": [],
      "collapsed_sections": [],
      "machine_shape": "hm"
    },
    "kernelspec": {
      "name": "python3",
      "display_name": "Python 3"
    },
    "accelerator": "GPU"
  },
  "cells": [
    {
      "cell_type": "code",
      "metadata": {
        "id": "x_1EEmm7qB4F",
        "colab_type": "code",
        "outputId": "0cef7821-b10c-4e94-c52c-80ec5bfd93e1",
        "colab": {
          "base_uri": "https://localhost:8080/",
          "height": 84
        }
      },
      "source": [
        "%tensorflow_version 2.x\n",
        "import tensorflow as tf\n",
        "print(\"Tensorflow version:\", tf.__version__)\n",
        "from tensorflow.keras.callbacks import EarlyStopping as EarlyStopping\n",
        "from tensorflow.keras.models import Sequential\n",
        "from tensorflow.keras.layers import Dense, Dropout, LSTM, BatchNormalization, Embedding\n",
        "from tensorflow.keras.callbacks import ModelCheckpoint, LambdaCallback\n",
        "from tensorflow.keras.constraints import max_norm\n",
        "from keras.utils import np_utils\n",
        "import numpy as np\n",
        "import random\n",
        "import os\n",
        "import re\n",
        "import string\n",
        "import glob\n",
        "import sys\n",
        "import io\n",
        "print(\"GPU:\", tf.test.gpu_device_name())"
      ],
      "execution_count": 1,
      "outputs": [
        {
          "output_type": "stream",
          "text": [
            "TensorFlow 2.x selected.\n",
            "Tensorflow version: 2.0.0\n"
          ],
          "name": "stdout"
        },
        {
          "output_type": "stream",
          "text": [
            "Using TensorFlow backend.\n"
          ],
          "name": "stderr"
        },
        {
          "output_type": "stream",
          "text": [
            "GPU: /device:GPU:0\n"
          ],
          "name": "stdout"
        }
      ]
    },
    {
      "cell_type": "code",
      "metadata": {
        "id": "wCC3c3Ets9Ae",
        "colab_type": "code",
        "outputId": "5f612f50-b295-4065-ce8e-6968e9c49328",
        "colab": {
          "base_uri": "https://localhost:8080/",
          "height": 118
        }
      },
      "source": [
        "!git clone https://github.com/michalovsky/books_data.git"
      ],
      "execution_count": 2,
      "outputs": [
        {
          "output_type": "stream",
          "text": [
            "Cloning into 'books_data'...\n",
            "remote: Enumerating objects: 67, done.\u001b[K\n",
            "remote: Counting objects: 100% (67/67), done.\u001b[K\n",
            "remote: Compressing objects: 100% (47/47), done.\u001b[K\n",
            "remote: Total 67 (delta 16), reused 48 (delta 9), pack-reused 0\u001b[K\n",
            "Unpacking objects: 100% (67/67), done.\n"
          ],
          "name": "stdout"
        }
      ]
    },
    {
      "cell_type": "code",
      "metadata": {
        "id": "9JzaI455s--N",
        "colab_type": "code",
        "outputId": "01df2572-99a7-4588-83fa-313fcafe5ae1",
        "colab": {
          "base_uri": "https://localhost:8080/",
          "height": 34
        }
      },
      "source": [
        "# Read all text file paths from directory\n",
        "directory1 = \"books_data/kafka/\"\n",
        "directory2 = \"books_data/shelley/\"\n",
        "directory3 = \"books_data/defoe/\"\n",
        "directory4 = \"books_data/plato/\"\n",
        "\n",
        "directory = directory4\n",
        "file_paths = glob.glob(directory +\"*.txt\")    \n",
        "print(\"Found\", len(file_paths), \"text files in directory:\", directory)"
      ],
      "execution_count": 3,
      "outputs": [
        {
          "output_type": "stream",
          "text": [
            "Found 1 text files in directory: books_data/plato/\n"
          ],
          "name": "stdout"
        }
      ]
    },
    {
      "cell_type": "code",
      "metadata": {
        "id": "wwfH5hqKtB3l",
        "colab_type": "code",
        "outputId": "8ea3d0fb-f896-43bb-97a7-99db5c76aace",
        "colab": {
          "base_uri": "https://localhost:8080/",
          "height": 34
        }
      },
      "source": [
        "# Extract text from all text files\n",
        "text = \"\"\n",
        "\n",
        "for file_path in file_paths:\n",
        "    with open(file_path, 'r', encoding=\"utf-8-sig\") as file:\n",
        "        file_content = file.read()\n",
        "        text+=file_content\n",
        "print ('Length of text: {} characters'.format(len(text)))"
      ],
      "execution_count": 4,
      "outputs": [
        {
          "output_type": "stream",
          "text": [
            "Length of text: 1194952 characters\n"
          ],
          "name": "stdout"
        }
      ]
    },
    {
      "cell_type": "code",
      "metadata": {
        "id": "Yx7Gn9OstLgt",
        "colab_type": "code",
        "outputId": "9a92c4c9-b827-41d9-c881-70bdf878a60b",
        "colab": {
          "base_uri": "https://localhost:8080/",
          "height": 84
        }
      },
      "source": [
        "# Preprocess data\n",
        "\n",
        "punctuation_translator = str.maketrans('–—”„…«»‘’“°ſ†•✠', '               ', string.punctuation)\n",
        "digits_translator = str.maketrans('', '', string.digits)\n",
        "special_characters_translator = str.maketrans('ąćęłńóśźżäöüæèêéôâáà£çëîñòùúûāœï', 'acelnoszzaoueeeeoaaaeceinouuuaei', '')\n",
        "\n",
        "# remove redundant characters and translate special characters\n",
        "text = text.lower().translate(punctuation_translator).translate(digits_translator).translate(special_characters_translator)\n",
        "\n",
        "# remove \"chapter <number>\" strings \n",
        "text = re.sub(r\"\\nchapter\\s(.*)\\n\", \"\", text)\n",
        "\n",
        "#remove extra spaces and new lines\n",
        "text = ' '.join(text.split())\n",
        "\n",
        "print ('Length of text after preprocessing: {} characters'.format(len(text)))\n",
        "\n",
        "vocab = sorted(list(set(text)))\n",
        "vocab_size = len(vocab)\n",
        "print ('{} unique characters:'.format(len(vocab)))\n",
        "\n",
        "words = text.split()\n",
        "print('Total words:', len(words))\n",
        "print('Unique words:', len(set(words)))"
      ],
      "execution_count": 5,
      "outputs": [
        {
          "output_type": "stream",
          "text": [
            "Length of text after preprocessing: 1156643 characters\n",
            "27 unique characters:\n",
            "Total words: 215852\n",
            "Unique words: 11225\n"
          ],
          "name": "stdout"
        }
      ]
    },
    {
      "cell_type": "code",
      "metadata": {
        "id": "r1_JeAMxK6q0",
        "colab_type": "code",
        "outputId": "2a70ab88-9e76-4b0f-fd2b-5b192603544c",
        "colab": {
          "base_uri": "https://localhost:8080/",
          "height": 34
        }
      },
      "source": [
        "# organize into sequences of words: 50 input 1 output\n",
        "length = 50 + 1\n",
        "sequences = list()\n",
        "for i in range(length, len(words)):\n",
        "\tseq = words[i-length:i]\n",
        "\tline = ' '.join(seq)\n",
        "\tsequences.append(line)\n",
        "print('Total Sequences: %d' % len(sequences))"
      ],
      "execution_count": 6,
      "outputs": [
        {
          "output_type": "stream",
          "text": [
            "Total Sequences: 215801\n"
          ],
          "name": "stdout"
        }
      ]
    },
    {
      "cell_type": "code",
      "metadata": {
        "id": "sjaTKrnKtPkF",
        "colab_type": "code",
        "colab": {}
      },
      "source": [
        "# Encode sequences of words\n",
        "from keras.preprocessing.text import Tokenizer\n",
        "tokenizer = Tokenizer()\n",
        "tokenizer.fit_on_texts(sequences)\n",
        "tokens = tokenizer.texts_to_sequences(sequences)\n",
        "\n",
        "vocab_size = len(tokenizer.word_index) + 1"
      ],
      "execution_count": 0,
      "outputs": []
    },
    {
      "cell_type": "code",
      "metadata": {
        "id": "jJnOZjTD-WB3",
        "colab_type": "code",
        "colab": {}
      },
      "source": [
        "from sklearn.model_selection import train_test_split\n",
        "\n",
        "data = np.asarray(tokens)\n",
        "X, y = data[:,:-1], data[:,-1]\n",
        "y = np_utils.to_categorical(y, num_classes=vocab_size)\n",
        "\n",
        "# X_train, X_test, y_train, y_test = train_test_split(X, y, test_size=0.2, shuffle=True)"
      ],
      "execution_count": 0,
      "outputs": []
    },
    {
      "cell_type": "code",
      "metadata": {
        "id": "6rJdBfKfHAvR",
        "colab_type": "code",
        "outputId": "dc1340ee-6a9c-4c5c-e708-3ee9d23ee422",
        "colab": {
          "base_uri": "https://localhost:8080/",
          "height": 470
        }
      },
      "source": [
        "# define model\n",
        "model = Sequential()\n",
        "model.add(Embedding(vocab_size, 100, input_length=X.shape[1]))\n",
        "model.add(LSTM(100, return_sequences=True, recurrent_initializer='glorot_uniform'))\n",
        "model.add(Dropout(0.1))\n",
        "model.add(BatchNormalization())\n",
        "model.add(LSTM(100, recurrent_initializer='glorot_uniform'))\n",
        "model.add(Dropout(0.1))\n",
        "model.add(BatchNormalization())\n",
        "model.add(Dense(128, activation='relu'))\n",
        "model.add(Dense(vocab_size, activation='softmax'))\n",
        "\n",
        "model.compile(loss='categorical_crossentropy', optimizer='adam', metrics=['accuracy'])\n",
        "\n",
        "print(model.summary())"
      ],
      "execution_count": 16,
      "outputs": [
        {
          "output_type": "stream",
          "text": [
            "Model: \"sequential_3\"\n",
            "_________________________________________________________________\n",
            "Layer (type)                 Output Shape              Param #   \n",
            "=================================================================\n",
            "embedding_3 (Embedding)      (None, 50, 200)           2245200   \n",
            "_________________________________________________________________\n",
            "lstm_6 (LSTM)                (None, 50, 256)           467968    \n",
            "_________________________________________________________________\n",
            "dropout_4 (Dropout)          (None, 50, 256)           0         \n",
            "_________________________________________________________________\n",
            "batch_normalization_4 (Batch (None, 50, 256)           1024      \n",
            "_________________________________________________________________\n",
            "lstm_7 (LSTM)                (None, 256)               525312    \n",
            "_________________________________________________________________\n",
            "dropout_5 (Dropout)          (None, 256)               0         \n",
            "_________________________________________________________________\n",
            "batch_normalization_5 (Batch (None, 256)               1024      \n",
            "_________________________________________________________________\n",
            "dense_6 (Dense)              (None, 256)               65792     \n",
            "_________________________________________________________________\n",
            "dense_7 (Dense)              (None, 11226)             2885082   \n",
            "=================================================================\n",
            "Total params: 6,191,402\n",
            "Trainable params: 6,190,378\n",
            "Non-trainable params: 1,024\n",
            "_________________________________________________________________\n",
            "None\n"
          ],
          "name": "stdout"
        }
      ]
    },
    {
      "cell_type": "code",
      "metadata": {
        "id": "PqTJJpNdgxAN",
        "colab_type": "code",
        "outputId": "bc642874-5a25-4249-ee2f-982b53138dff",
        "colab": {
          "base_uri": "https://localhost:8080/",
          "height": 1000
        }
      },
      "source": [
        "es = EarlyStopping(monitor='val_loss', mode='min', verbose=2, patience=50)\n",
        "callbacks = [ es]\n",
        "\n",
        "batch_size = 128\n",
        "epochs = 60\n",
        "history = model.fit(X_train, y_train, validation_data=(X_test, y_test), epochs=epochs, batch_size=batch_size, verbose=2, callbacks=callbacks)"
      ],
      "execution_count": 17,
      "outputs": [
        {
          "output_type": "stream",
          "text": [
            "Train on 172640 samples, validate on 43161 samples\n",
            "Epoch 1/60\n",
            "172640/172640 - 67s - loss: 6.1800 - accuracy: 0.0993 - val_loss: 6.0603 - val_accuracy: 0.1164\n",
            "Epoch 2/60\n",
            "172640/172640 - 60s - loss: 5.6237 - accuracy: 0.1433 - val_loss: 5.6469 - val_accuracy: 0.1526\n",
            "Epoch 3/60\n",
            "172640/172640 - 59s - loss: 5.3304 - accuracy: 0.1658 - val_loss: 5.5540 - val_accuracy: 0.1695\n",
            "Epoch 4/60\n",
            "172640/172640 - 60s - loss: 5.1330 - accuracy: 0.1799 - val_loss: 5.5273 - val_accuracy: 0.1749\n",
            "Epoch 5/60\n",
            "172640/172640 - 60s - loss: 4.9766 - accuracy: 0.1906 - val_loss: 5.5359 - val_accuracy: 0.1789\n",
            "Epoch 6/60\n",
            "172640/172640 - 62s - loss: 4.8457 - accuracy: 0.1975 - val_loss: 5.5617 - val_accuracy: 0.1797\n",
            "Epoch 7/60\n",
            "172640/172640 - 62s - loss: 4.7208 - accuracy: 0.2056 - val_loss: 5.6249 - val_accuracy: 0.1850\n",
            "Epoch 8/60\n",
            "172640/172640 - 62s - loss: 4.6092 - accuracy: 0.2116 - val_loss: 5.7147 - val_accuracy: 0.1845\n",
            "Epoch 9/60\n",
            "172640/172640 - 62s - loss: 4.5034 - accuracy: 0.2190 - val_loss: 5.8021 - val_accuracy: 0.1858\n",
            "Epoch 10/60\n",
            "172640/172640 - 62s - loss: 4.4032 - accuracy: 0.2250 - val_loss: 5.9393 - val_accuracy: 0.1823\n",
            "Epoch 11/60\n",
            "172640/172640 - 62s - loss: 4.3104 - accuracy: 0.2313 - val_loss: 6.0703 - val_accuracy: 0.1853\n",
            "Epoch 12/60\n",
            "172640/172640 - 62s - loss: 4.2213 - accuracy: 0.2371 - val_loss: 6.2015 - val_accuracy: 0.1830\n",
            "Epoch 13/60\n",
            "172640/172640 - 62s - loss: 4.1404 - accuracy: 0.2432 - val_loss: 6.3966 - val_accuracy: 0.1841\n",
            "Epoch 14/60\n",
            "172640/172640 - 62s - loss: 4.0639 - accuracy: 0.2492 - val_loss: 6.4795 - val_accuracy: 0.1808\n",
            "Epoch 15/60\n",
            "172640/172640 - 63s - loss: 3.9843 - accuracy: 0.2548 - val_loss: 6.6449 - val_accuracy: 0.1820\n",
            "Epoch 16/60\n",
            "172640/172640 - 62s - loss: 3.9170 - accuracy: 0.2601 - val_loss: 6.8391 - val_accuracy: 0.1815\n",
            "Epoch 17/60\n",
            "172640/172640 - 62s - loss: 3.8484 - accuracy: 0.2655 - val_loss: 7.0625 - val_accuracy: 0.1796\n",
            "Epoch 18/60\n",
            "172640/172640 - 62s - loss: 3.7848 - accuracy: 0.2705 - val_loss: 7.2255 - val_accuracy: 0.1768\n",
            "Epoch 19/60\n",
            "172640/172640 - 62s - loss: 3.7245 - accuracy: 0.2763 - val_loss: 7.3733 - val_accuracy: 0.1736\n",
            "Epoch 20/60\n",
            "172640/172640 - 63s - loss: 3.6684 - accuracy: 0.2816 - val_loss: 7.5722 - val_accuracy: 0.1753\n",
            "Epoch 21/60\n",
            "172640/172640 - 63s - loss: 3.6110 - accuracy: 0.2887 - val_loss: 7.7581 - val_accuracy: 0.1739\n",
            "Epoch 22/60\n",
            "172640/172640 - 62s - loss: 3.5565 - accuracy: 0.2935 - val_loss: 7.9970 - val_accuracy: 0.1722\n",
            "Epoch 23/60\n",
            "172640/172640 - 62s - loss: 3.5076 - accuracy: 0.2991 - val_loss: 8.1578 - val_accuracy: 0.1704\n",
            "Epoch 24/60\n",
            "172640/172640 - 63s - loss: 3.4563 - accuracy: 0.3041 - val_loss: 8.4495 - val_accuracy: 0.1684\n",
            "Epoch 25/60\n",
            "172640/172640 - 63s - loss: 3.4088 - accuracy: 0.3097 - val_loss: 8.4155 - val_accuracy: 0.1675\n",
            "Epoch 26/60\n",
            "172640/172640 - 63s - loss: 3.3669 - accuracy: 0.3130 - val_loss: 8.4878 - val_accuracy: 0.1640\n",
            "Epoch 27/60\n",
            "172640/172640 - 62s - loss: 3.3211 - accuracy: 0.3189 - val_loss: 8.7067 - val_accuracy: 0.1638\n",
            "Epoch 28/60\n",
            "172640/172640 - 63s - loss: 3.2817 - accuracy: 0.3248 - val_loss: 8.8689 - val_accuracy: 0.1636\n",
            "Epoch 29/60\n",
            "172640/172640 - 63s - loss: 3.2373 - accuracy: 0.3292 - val_loss: 8.8936 - val_accuracy: 0.1591\n",
            "Epoch 30/60\n",
            "172640/172640 - 63s - loss: 3.1970 - accuracy: 0.3354 - val_loss: 9.1875 - val_accuracy: 0.1590\n",
            "Epoch 31/60\n",
            "172640/172640 - 63s - loss: 3.1588 - accuracy: 0.3396 - val_loss: 9.2332 - val_accuracy: 0.1579\n",
            "Epoch 32/60\n",
            "172640/172640 - 63s - loss: 3.1231 - accuracy: 0.3435 - val_loss: 9.4565 - val_accuracy: 0.1574\n",
            "Epoch 33/60\n",
            "172640/172640 - 63s - loss: 3.0875 - accuracy: 0.3487 - val_loss: 9.5649 - val_accuracy: 0.1582\n",
            "Epoch 34/60\n",
            "172640/172640 - 63s - loss: 3.0481 - accuracy: 0.3539 - val_loss: 9.6746 - val_accuracy: 0.1541\n",
            "Epoch 35/60\n",
            "172640/172640 - 63s - loss: 3.0155 - accuracy: 0.3588 - val_loss: 9.7709 - val_accuracy: 0.1522\n",
            "Epoch 36/60\n",
            "172640/172640 - 63s - loss: 2.9861 - accuracy: 0.3632 - val_loss: 9.9572 - val_accuracy: 0.1567\n",
            "Epoch 37/60\n",
            "172640/172640 - 63s - loss: 2.9539 - accuracy: 0.3682 - val_loss: 10.0265 - val_accuracy: 0.1547\n",
            "Epoch 38/60\n",
            "172640/172640 - 63s - loss: 2.9195 - accuracy: 0.3726 - val_loss: 10.1434 - val_accuracy: 0.1536\n",
            "Epoch 39/60\n",
            "172640/172640 - 63s - loss: 2.8819 - accuracy: 0.3770 - val_loss: 10.2245 - val_accuracy: 0.1501\n",
            "Epoch 40/60\n",
            "172640/172640 - 63s - loss: 2.8598 - accuracy: 0.3802 - val_loss: 10.2925 - val_accuracy: 0.1525\n",
            "Epoch 41/60\n",
            "172640/172640 - 62s - loss: 2.8251 - accuracy: 0.3864 - val_loss: 10.3506 - val_accuracy: 0.1511\n",
            "Epoch 42/60\n",
            "172640/172640 - 63s - loss: 2.8000 - accuracy: 0.3890 - val_loss: 10.7121 - val_accuracy: 0.1509\n",
            "Epoch 43/60\n",
            "172640/172640 - 63s - loss: 2.7671 - accuracy: 0.3937 - val_loss: 10.5826 - val_accuracy: 0.1476\n",
            "Epoch 44/60\n",
            "172640/172640 - 63s - loss: 2.7469 - accuracy: 0.3968 - val_loss: 10.7940 - val_accuracy: 0.1468\n",
            "Epoch 45/60\n",
            "172640/172640 - 63s - loss: 2.7164 - accuracy: 0.4007 - val_loss: 10.6529 - val_accuracy: 0.1464\n",
            "Epoch 46/60\n",
            "172640/172640 - 62s - loss: 2.6864 - accuracy: 0.4054 - val_loss: 10.8789 - val_accuracy: 0.1490\n",
            "Epoch 47/60\n",
            "172640/172640 - 62s - loss: 2.6608 - accuracy: 0.4106 - val_loss: 11.0856 - val_accuracy: 0.1459\n",
            "Epoch 48/60\n",
            "172640/172640 - 62s - loss: 2.6313 - accuracy: 0.4152 - val_loss: 11.1710 - val_accuracy: 0.1457\n",
            "Epoch 49/60\n",
            "172640/172640 - 62s - loss: 2.6144 - accuracy: 0.4175 - val_loss: 10.9970 - val_accuracy: 0.1436\n",
            "Epoch 50/60\n",
            "172640/172640 - 63s - loss: 2.5885 - accuracy: 0.4214 - val_loss: 11.5812 - val_accuracy: 0.1468\n",
            "Epoch 51/60\n",
            "172640/172640 - 62s - loss: 2.5727 - accuracy: 0.4238 - val_loss: 11.4143 - val_accuracy: 0.1465\n",
            "Epoch 52/60\n",
            "172640/172640 - 62s - loss: 2.5366 - accuracy: 0.4286 - val_loss: 11.4432 - val_accuracy: 0.1458\n",
            "Epoch 53/60\n",
            "172640/172640 - 62s - loss: 2.5235 - accuracy: 0.4330 - val_loss: 11.4730 - val_accuracy: 0.1427\n",
            "Epoch 54/60\n",
            "172640/172640 - 62s - loss: 2.4874 - accuracy: 0.4372 - val_loss: 11.3493 - val_accuracy: 0.1421\n",
            "Epoch 00054: early stopping\n"
          ],
          "name": "stdout"
        }
      ]
    },
    {
      "cell_type": "code",
      "metadata": {
        "id": "NvGYym0ErunF",
        "colab_type": "code",
        "colab": {
          "base_uri": "https://localhost:8080/",
          "height": 441
        },
        "outputId": "d4245960-1477-4c3f-fbf9-08738cea2cc0"
      },
      "source": [
        "import matplotlib.pyplot as plt\n",
        "\n",
        "# Make characteristics\n",
        "training_loss = history.history['loss']\n",
        "validation_loss = history.history['val_loss']\n",
        "training_acc = history.history['accuracy']\n",
        "validation_acc = history.history['val_accuracy']\n",
        "\n",
        "epoch_count = range(1, len(training_loss) + 1)\n",
        "\n",
        "f = plt.figure(figsize=(14,6))\n",
        "\n",
        "a0 = f.add_subplot(121)\n",
        "a0.plot(epoch_count, training_loss, 'r--', label=\"Training loss\")\n",
        "a0.plot(epoch_count, validation_loss, 'b-', label=\"Validation loss\")\n",
        "a0.legend()\n",
        "a0.set_title(\"Loss function\")\n",
        "a0.set_xlabel(\"Epoch\")\n",
        "plt.xlim(0, epochs)\n",
        "a0.set_ylabel(\"Loss\")\n",
        "plt.ylim(0, np.ceil(max(training_loss)))\n",
        "\n",
        "a1 = f.add_subplot(122)\n",
        "a1.plot(epoch_count, training_acc, 'r--', label=\"Training acc\")\n",
        "a1.plot(epoch_count, validation_acc, 'b-', label=\"Validation acc\")\n",
        "a1.set_title(\"Accuracy function\")\n",
        "a1.set_xlabel(\"Epoch\")\n",
        "plt.xlim(0, epochs)\n",
        "a1.set_ylabel(\"Acc\")\n",
        "plt.ylim(0, 1)\n",
        "# plt.savefig(save_directory+\"/characteristics.png\")  \n",
        "\n",
        "plt.tight_layout()\n",
        "plt.show()"
      ],
      "execution_count": 18,
      "outputs": [
        {
          "output_type": "display_data",
          "data": {
            "image/png": "[encoded data removed]",
            "text/plain": [
              "<Figure size 1008x432 with 2 Axes>"
            ]
          },
          "metadata": {
            "tags": []
          }
        }
      ]
    },
    {
      "cell_type": "code",
      "metadata": {
        "id": "EEjs3RAWosq8",
        "colab_type": "code",
        "colab": {}
      },
      "source": [
        "from keras.preprocessing.sequence import pad_sequences\n",
        "\n",
        "# generate a sequence from a language model\n",
        "def generate_seq(model, tokenizer, seq_length, seed_text, n_words):\n",
        "\tresult = list()\n",
        "\tin_text = seed_text\n",
        "\t# generate a fixed number of words\n",
        "\tfor _ in range(n_words):\n",
        "\t\t# encode the text as integer\n",
        "\t\tencoded = tokenizer.texts_to_sequences([in_text])[0]\n",
        "\t\t# truncate sequences to a fixed length\n",
        "\t\tencoded = pad_sequences([encoded], maxlen=seq_length, truncating='pre')\n",
        "\t\t# predict probabilities for each word\n",
        "\t\tyhat = model.predict_classes(encoded, verbose=0)\n",
        "\t\t# map predicted word index to word\n",
        "\t\tout_word = ''\n",
        "\t\tfor word, index in tokenizer.word_index.items():\n",
        "\t\t\tif index == yhat:\n",
        "\t\t\t\tout_word = word\n",
        "\t\t\t\tbreak\n",
        "\t\t# append to input\n",
        "\t\tin_text += ' ' + out_word\n",
        "\t\tresult.append(out_word)\n",
        "\treturn ' '.join(result)"
      ],
      "execution_count": 0,
      "outputs": []
    },
    {
      "cell_type": "code",
      "metadata": {
        "id": "KeYovz3qofnU",
        "colab_type": "code",
        "colab": {
          "base_uri": "https://localhost:8080/",
          "height": 87
        },
        "outputId": "b36313ec-663c-4f8a-ad75-6b34dce370ac"
      },
      "source": [
        "# select a seed text\n",
        "from random import randint\n",
        "seq_length = X.shape[1]\n",
        "seed_text = sequences[randint(0,len(sequences))]\n",
        "print(seed_text + '\\n')\n",
        " \n",
        "# generate new text\n",
        "generated = generate_seq(model, tokenizer, 50, seed_text, 50)\n",
        "print(generated)"
      ],
      "execution_count": 29,
      "outputs": [
        {
          "output_type": "stream",
          "text": [
            "he is the father if it steals into life will have been conceived under auspices very unlike the sacrifices and prayers which at each hymeneal priestesses and priest and the whole city will offer that the new generation may be better and more useful than their good and useful parents whereas\n",
            "\n",
            "his soul is solely actuated by love of truth foodwhich he and is the reverse of the reverse of the reverse of employing i mean to be the same violation of the world all things for defeat and soothing conceivable their theology and not to be found in the same\n"
          ],
          "name": "stdout"
        }
      ]
    }
  ]
}