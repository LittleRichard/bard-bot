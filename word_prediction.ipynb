{
  "nbformat": 4,
  "nbformat_minor": 0,
  "metadata": {
    "colab": {
      "name": "word_prediction.ipynb",
      "provenance": [],
      "collapsed_sections": [],
      "machine_shape": "hm"
    },
    "kernelspec": {
      "name": "python3",
      "display_name": "Python 3"
    },
    "accelerator": "GPU"
  },
  "cells": [
    {
      "cell_type": "code",
      "metadata": {
        "id": "x_1EEmm7qB4F",
        "colab_type": "code",
        "outputId": "305dc280-2740-4e91-d043-2345e4c44dcc",
        "colab": {
          "base_uri": "https://localhost:8080/",
          "height": 84
        }
      },
      "source": [
        "%tensorflow_version 2.x\n",
        "import tensorflow as tf\n",
        "print(\"Tensorflow version:\", tf.__version__)\n",
        "from tensorflow.keras.callbacks import EarlyStopping as EarlyStopping\n",
        "from tensorflow.keras.models import Sequential\n",
        "from tensorflow.keras.layers import Dense, Dropout, LSTM, BatchNormalization, Embedding\n",
        "from tensorflow.keras.callbacks import ModelCheckpoint, LambdaCallback\n",
        "from tensorflow.keras.constraints import max_norm\n",
        "from keras.utils import np_utils\n",
        "import numpy as np\n",
        "import random\n",
        "import os\n",
        "import re\n",
        "import string\n",
        "import glob\n",
        "import sys\n",
        "import io\n",
        "print(\"GPU:\", tf.test.gpu_device_name())"
      ],
      "execution_count": 1,
      "outputs": [
        {
          "output_type": "stream",
          "text": [
            "TensorFlow 2.x selected.\n",
            "Tensorflow version: 2.0.0\n"
          ],
          "name": "stdout"
        },
        {
          "output_type": "stream",
          "text": [
            "Using TensorFlow backend.\n"
          ],
          "name": "stderr"
        },
        {
          "output_type": "stream",
          "text": [
            "GPU: /device:GPU:0\n"
          ],
          "name": "stdout"
        }
      ]
    },
    {
      "cell_type": "code",
      "metadata": {
        "id": "wCC3c3Ets9Ae",
        "colab_type": "code",
        "outputId": "37fb0262-5f37-4357-99b0-49cf65f00b9f",
        "colab": {
          "base_uri": "https://localhost:8080/",
          "height": 118
        }
      },
      "source": [
        "!git clone https://github.com/michalovsky/books_data.git"
      ],
      "execution_count": 2,
      "outputs": [
        {
          "output_type": "stream",
          "text": [
            "Cloning into 'books_data'...\n",
            "remote: Enumerating objects: 67, done.\u001b[K\n",
            "remote: Counting objects: 100% (67/67), done.\u001b[K\n",
            "remote: Compressing objects: 100% (47/47), done.\u001b[K\n",
            "remote: Total 67 (delta 16), reused 48 (delta 9), pack-reused 0\u001b[K\n",
            "Unpacking objects: 100% (67/67), done.\n"
          ],
          "name": "stdout"
        }
      ]
    },
    {
      "cell_type": "code",
      "metadata": {
        "id": "9JzaI455s--N",
        "colab_type": "code",
        "outputId": "fe05b4e7-cc24-4ae5-b106-0324e23fe480",
        "colab": {
          "base_uri": "https://localhost:8080/",
          "height": 34
        }
      },
      "source": [
        "# Read all text file paths from directory\n",
        "directory1 = \"books_data/kafka/\"\n",
        "directory2 = \"books_data/shelley/\"\n",
        "directory3 = \"books_data/defoe/\"\n",
        "directory4 = \"books_data/plato/\"\n",
        "\n",
        "directory = directory1\n",
        "file_paths = glob.glob(directory +\"*.txt\")    \n",
        "print(\"Found\", len(file_paths), \"text files in directory:\", directory)"
      ],
      "execution_count": 3,
      "outputs": [
        {
          "output_type": "stream",
          "text": [
            "Found 2 text files in directory: books_data/kafka/\n"
          ],
          "name": "stdout"
        }
      ]
    },
    {
      "cell_type": "code",
      "metadata": {
        "id": "wwfH5hqKtB3l",
        "colab_type": "code",
        "outputId": "bd77a4f3-87b6-4085-ac1f-7480e73b8aab",
        "colab": {
          "base_uri": "https://localhost:8080/",
          "height": 34
        }
      },
      "source": [
        "# Extract text from all text files\n",
        "text = \"\"\n",
        "\n",
        "for file_path in file_paths:\n",
        "    with open(file_path, 'r', encoding=\"utf-8-sig\") as file:\n",
        "        file_content = file.read()\n",
        "        text+=file_content\n",
        "print ('Length of text: {} characters'.format(len(text)))"
      ],
      "execution_count": 4,
      "outputs": [
        {
          "output_type": "stream",
          "text": [
            "Length of text: 573323 characters\n"
          ],
          "name": "stdout"
        }
      ]
    },
    {
      "cell_type": "code",
      "metadata": {
        "id": "Yx7Gn9OstLgt",
        "colab_type": "code",
        "outputId": "2480bc05-70c9-4037-9007-242cda42e925",
        "colab": {
          "base_uri": "https://localhost:8080/",
          "height": 101
        }
      },
      "source": [
        "# Preprocess data\n",
        "\n",
        "punctuation_translator = str.maketrans('–—”„…«»‘’“°ſ†•✠', '               ', string.punctuation)\n",
        "digits_translator = str.maketrans('', '', string.digits)\n",
        "special_characters_translator = str.maketrans('ąćęłńóśźżäöüæèêéôâáà£çëîñòùúûāœï', 'acelnoszzaoueeeeoaaaeceinouuuaei', '')\n",
        "\n",
        "# remove redundant characters and translate special characters\n",
        "text = text.lower().translate(punctuation_translator).translate(digits_translator).translate(special_characters_translator)\n",
        "\n",
        "# remove \"chapter <number>\" strings \n",
        "text = re.sub(r\"\\nchapter\\s(.*)\\n\", \"\", text)\n",
        "\n",
        "#remove extra spaces and new lines\n",
        "text = ' '.join(text.split())\n",
        "\n",
        "print ('Length of text after preprocessing: {} characters'.format(len(text)))\n",
        "\n",
        "vocab = sorted(list(set(text)))\n",
        "vocab_size = len(vocab)\n",
        "print ('{} unique characters:'.format(len(vocab)))\n",
        "print(vocab)\n",
        "\n",
        "words = text.split()\n",
        "print('Total words:', len(words))\n",
        "print('Unique words:', len(set(words)))"
      ],
      "execution_count": 7,
      "outputs": [
        {
          "output_type": "stream",
          "text": [
            "Length of text after preprocessing: 547769 characters\n",
            "27 unique characters:\n",
            "[' ', 'a', 'b', 'c', 'd', 'e', 'f', 'g', 'h', 'i', 'j', 'k', 'l', 'm', 'n', 'o', 'p', 'q', 'r', 's', 't', 'u', 'v', 'w', 'x', 'y', 'z']\n",
            "Total words: 105922\n",
            "Unique words: 5612\n"
          ],
          "name": "stdout"
        }
      ]
    },
    {
      "cell_type": "code",
      "metadata": {
        "id": "r1_JeAMxK6q0",
        "colab_type": "code",
        "outputId": "741a09dd-7e87-457b-d759-bd287e1eb469",
        "colab": {
          "base_uri": "https://localhost:8080/",
          "height": 34
        }
      },
      "source": [
        "# organize into sequences of words: 50 input 1 output\n",
        "length = 50 + 1\n",
        "sequences = list()\n",
        "for i in range(length, len(words)):\n",
        "\tseq = words[i-length:i]\n",
        "\tline = ' '.join(seq)\n",
        "\tsequences.append(line)\n",
        "print('Total Sequences: %d' % len(sequences))"
      ],
      "execution_count": 8,
      "outputs": [
        {
          "output_type": "stream",
          "text": [
            "Total Sequences: 105871\n"
          ],
          "name": "stdout"
        }
      ]
    },
    {
      "cell_type": "code",
      "metadata": {
        "id": "sjaTKrnKtPkF",
        "colab_type": "code",
        "colab": {}
      },
      "source": [
        "# Encode sequences of words\n",
        "from keras.preprocessing.text import Tokenizer\n",
        "tokenizer = Tokenizer()\n",
        "tokenizer.fit_on_texts(sequences)\n",
        "tokens = tokenizer.texts_to_sequences(sequences)\n",
        "\n",
        "vocab_size = len(tokenizer.word_index) + 1"
      ],
      "execution_count": 0,
      "outputs": []
    },
    {
      "cell_type": "code",
      "metadata": {
        "id": "jJnOZjTD-WB3",
        "colab_type": "code",
        "colab": {}
      },
      "source": [
        "from sklearn.model_selection import train_test_split\n",
        "\n",
        "data = np.asarray(tokens)\n",
        "X, y = data[:,:-1], data[:,-1]\n",
        "y = np_utils.to_categorical(y, num_classes=vocab_size)\n",
        "\n",
        "X_train, X_test, y_train, y_test = train_test_split(X, y, test_size=0.15, shuffle=True)"
      ],
      "execution_count": 0,
      "outputs": []
    },
    {
      "cell_type": "code",
      "metadata": {
        "id": "6rJdBfKfHAvR",
        "colab_type": "code",
        "outputId": "93e28968-dc65-4ee6-bfc3-3e317d4182c3",
        "colab": {
          "base_uri": "https://localhost:8080/",
          "height": 437
        }
      },
      "source": [
        "# define model\n",
        "model = Sequential()\n",
        "model.add(Embedding(vocab_size, 50, input_length=X.shape[1]))\n",
        "model.add(LSTM(100, return_sequences=True, recurrent_initializer='glorot_uniform', kernel_constraint=max_norm(3)))\n",
        "model.add(Dropout(0.2))\n",
        "model.add(BatchNormalization())\n",
        "model.add(LSTM(100, recurrent_initializer='glorot_uniform', kernel_constraint=max_norm(3)))\n",
        "model.add(Dropout(0.2))\n",
        "model.add(BatchNormalization())\n",
        "model.add(Dense(vocab_size, activation='softmax'))\n",
        "\n",
        "model.compile(loss='categorical_crossentropy', optimizer='adam', metrics=['accuracy'])\n",
        "\n",
        "print(model.summary())"
      ],
      "execution_count": 17,
      "outputs": [
        {
          "output_type": "stream",
          "text": [
            "Model: \"sequential_3\"\n",
            "_________________________________________________________________\n",
            "Layer (type)                 Output Shape              Param #   \n",
            "=================================================================\n",
            "embedding_3 (Embedding)      (None, 50, 50)            280650    \n",
            "_________________________________________________________________\n",
            "lstm_6 (LSTM)                (None, 50, 100)           60400     \n",
            "_________________________________________________________________\n",
            "dropout_6 (Dropout)          (None, 50, 100)           0         \n",
            "_________________________________________________________________\n",
            "batch_normalization_6 (Batch (None, 50, 100)           400       \n",
            "_________________________________________________________________\n",
            "lstm_7 (LSTM)                (None, 100)               80400     \n",
            "_________________________________________________________________\n",
            "dropout_7 (Dropout)          (None, 100)               0         \n",
            "_________________________________________________________________\n",
            "batch_normalization_7 (Batch (None, 100)               400       \n",
            "_________________________________________________________________\n",
            "dense_3 (Dense)              (None, 5613)              566913    \n",
            "=================================================================\n",
            "Total params: 989,163\n",
            "Trainable params: 988,763\n",
            "Non-trainable params: 400\n",
            "_________________________________________________________________\n",
            "None\n"
          ],
          "name": "stdout"
        }
      ]
    },
    {
      "cell_type": "code",
      "metadata": {
        "id": "PqTJJpNdgxAN",
        "colab_type": "code",
        "outputId": "009f1015-6ee3-4c65-bcf3-8aa921627631",
        "colab": {
          "base_uri": "https://localhost:8080/",
          "height": 1000
        }
      },
      "source": [
        "es = EarlyStopping(monitor='val_loss', mode='min', verbose=2, patience=100)\n",
        "callbacks = [ es]\n",
        "\n",
        "batch_size = 128\n",
        "epochs = 100\n",
        "\n",
        "history = model.fit(X_train, y_train, validation_data=(X_test, y_test), epochs=epochs, batch_size=batch_size, verbose=2, callbacks=callbacks)"
      ],
      "execution_count": 19,
      "outputs": [
        {
          "output_type": "stream",
          "text": [
            "Train on 89990 samples, validate on 15881 samples\n",
            "Epoch 1/100\n",
            "89990/89990 - 14s - loss: 6.6221 - accuracy: 0.0613 - val_loss: 5.7115 - val_accuracy: 0.1038\n",
            "Epoch 2/100\n",
            "89990/89990 - 13s - loss: 5.3563 - accuracy: 0.1218 - val_loss: 5.3204 - val_accuracy: 0.1344\n",
            "Epoch 3/100\n",
            "89990/89990 - 13s - loss: 4.9760 - accuracy: 0.1473 - val_loss: 5.2194 - val_accuracy: 0.1407\n",
            "Epoch 4/100\n",
            "89990/89990 - 13s - loss: 4.7067 - accuracy: 0.1657 - val_loss: 5.1809 - val_accuracy: 0.1524\n",
            "Epoch 5/100\n",
            "89990/89990 - 14s - loss: 4.4830 - accuracy: 0.1808 - val_loss: 5.1995 - val_accuracy: 0.1478\n",
            "Epoch 6/100\n",
            "89990/89990 - 14s - loss: 4.2779 - accuracy: 0.1961 - val_loss: 5.2580 - val_accuracy: 0.1502\n",
            "Epoch 7/100\n",
            "89990/89990 - 14s - loss: 4.0832 - accuracy: 0.2117 - val_loss: 5.3583 - val_accuracy: 0.1490\n",
            "Epoch 8/100\n",
            "89990/89990 - 13s - loss: 3.9158 - accuracy: 0.2278 - val_loss: 5.4325 - val_accuracy: 0.1478\n",
            "Epoch 9/100\n",
            "89990/89990 - 13s - loss: 3.7565 - accuracy: 0.2456 - val_loss: 5.5108 - val_accuracy: 0.1458\n",
            "Epoch 10/100\n",
            "89990/89990 - 13s - loss: 3.6208 - accuracy: 0.2608 - val_loss: 5.6025 - val_accuracy: 0.1475\n",
            "Epoch 11/100\n",
            "89990/89990 - 13s - loss: 3.4930 - accuracy: 0.2764 - val_loss: 5.7275 - val_accuracy: 0.1473\n",
            "Epoch 12/100\n",
            "89990/89990 - 13s - loss: 3.3872 - accuracy: 0.2883 - val_loss: 5.8149 - val_accuracy: 0.1424\n",
            "Epoch 13/100\n",
            "89990/89990 - 14s - loss: 3.2969 - accuracy: 0.3024 - val_loss: 5.9275 - val_accuracy: 0.1409\n",
            "Epoch 14/100\n",
            "89990/89990 - 13s - loss: 3.2081 - accuracy: 0.3110 - val_loss: 5.9790 - val_accuracy: 0.1407\n",
            "Epoch 15/100\n",
            "89990/89990 - 14s - loss: 3.1301 - accuracy: 0.3235 - val_loss: 6.0445 - val_accuracy: 0.1421\n",
            "Epoch 16/100\n",
            "89990/89990 - 13s - loss: 3.0763 - accuracy: 0.3300 - val_loss: 6.1303 - val_accuracy: 0.1399\n",
            "Epoch 17/100\n",
            "89990/89990 - 13s - loss: 3.0097 - accuracy: 0.3399 - val_loss: 6.2157 - val_accuracy: 0.1383\n",
            "Epoch 18/100\n",
            "89990/89990 - 13s - loss: 2.9497 - accuracy: 0.3496 - val_loss: 6.3056 - val_accuracy: 0.1380\n",
            "Epoch 19/100\n",
            "89990/89990 - 13s - loss: 2.8999 - accuracy: 0.3533 - val_loss: 6.4358 - val_accuracy: 0.1370\n",
            "Epoch 20/100\n",
            "89990/89990 - 14s - loss: 2.8505 - accuracy: 0.3626 - val_loss: 6.3717 - val_accuracy: 0.1409\n",
            "Epoch 21/100\n",
            "89990/89990 - 13s - loss: 2.8006 - accuracy: 0.3696 - val_loss: 6.4935 - val_accuracy: 0.1376\n",
            "Epoch 22/100\n",
            "89990/89990 - 13s - loss: 2.7710 - accuracy: 0.3753 - val_loss: 6.5140 - val_accuracy: 0.1348\n",
            "Epoch 23/100\n",
            "89990/89990 - 13s - loss: 2.7321 - accuracy: 0.3788 - val_loss: 6.6375 - val_accuracy: 0.1346\n",
            "Epoch 24/100\n",
            "89990/89990 - 13s - loss: 2.6910 - accuracy: 0.3870 - val_loss: 6.7066 - val_accuracy: 0.1284\n",
            "Epoch 25/100\n",
            "89990/89990 - 13s - loss: 2.6613 - accuracy: 0.3926 - val_loss: 6.6630 - val_accuracy: 0.1349\n",
            "Epoch 26/100\n",
            "89990/89990 - 13s - loss: 2.6294 - accuracy: 0.3951 - val_loss: 6.7379 - val_accuracy: 0.1340\n",
            "Epoch 27/100\n",
            "89990/89990 - 13s - loss: 2.6067 - accuracy: 0.3995 - val_loss: 6.7911 - val_accuracy: 0.1331\n",
            "Epoch 28/100\n",
            "89990/89990 - 13s - loss: 2.5767 - accuracy: 0.4059 - val_loss: 6.7927 - val_accuracy: 0.1341\n",
            "Epoch 29/100\n",
            "89990/89990 - 13s - loss: 2.5463 - accuracy: 0.4088 - val_loss: 6.7910 - val_accuracy: 0.1366\n",
            "Epoch 30/100\n",
            "89990/89990 - 13s - loss: 2.5261 - accuracy: 0.4123 - val_loss: 6.8885 - val_accuracy: 0.1313\n",
            "Epoch 31/100\n",
            "89990/89990 - 13s - loss: 2.5069 - accuracy: 0.4131 - val_loss: 6.9932 - val_accuracy: 0.1320\n",
            "Epoch 32/100\n",
            "89990/89990 - 13s - loss: 2.4730 - accuracy: 0.4208 - val_loss: 6.9587 - val_accuracy: 0.1332\n",
            "Epoch 33/100\n",
            "89990/89990 - 13s - loss: 2.4634 - accuracy: 0.4209 - val_loss: 6.9843 - val_accuracy: 0.1303\n",
            "Epoch 34/100\n",
            "89990/89990 - 13s - loss: 2.4359 - accuracy: 0.4263 - val_loss: 7.0179 - val_accuracy: 0.1298\n",
            "Epoch 35/100\n",
            "89990/89990 - 13s - loss: 2.4157 - accuracy: 0.4293 - val_loss: 7.0356 - val_accuracy: 0.1325\n",
            "Epoch 36/100\n",
            "89990/89990 - 13s - loss: 2.3970 - accuracy: 0.4322 - val_loss: 7.1077 - val_accuracy: 0.1278\n",
            "Epoch 37/100\n",
            "89990/89990 - 13s - loss: 2.3716 - accuracy: 0.4391 - val_loss: 7.1227 - val_accuracy: 0.1303\n",
            "Epoch 38/100\n",
            "89990/89990 - 14s - loss: 2.3663 - accuracy: 0.4379 - val_loss: 7.2214 - val_accuracy: 0.1288\n",
            "Epoch 39/100\n",
            "89990/89990 - 13s - loss: 2.3455 - accuracy: 0.4404 - val_loss: 7.1899 - val_accuracy: 0.1299\n",
            "Epoch 40/100\n",
            "89990/89990 - 14s - loss: 2.3273 - accuracy: 0.4452 - val_loss: 7.2107 - val_accuracy: 0.1266\n",
            "Epoch 41/100\n",
            "89990/89990 - 13s - loss: 2.3100 - accuracy: 0.4468 - val_loss: 7.1765 - val_accuracy: 0.1270\n",
            "Epoch 42/100\n",
            "89990/89990 - 14s - loss: 2.3034 - accuracy: 0.4483 - val_loss: 7.2471 - val_accuracy: 0.1271\n",
            "Epoch 43/100\n",
            "89990/89990 - 14s - loss: 2.2861 - accuracy: 0.4504 - val_loss: 7.2270 - val_accuracy: 0.1277\n",
            "Epoch 44/100\n",
            "89990/89990 - 14s - loss: 2.2738 - accuracy: 0.4536 - val_loss: 7.2871 - val_accuracy: 0.1308\n",
            "Epoch 45/100\n",
            "89990/89990 - 14s - loss: 2.2498 - accuracy: 0.4572 - val_loss: 7.3017 - val_accuracy: 0.1280\n",
            "Epoch 46/100\n",
            "89990/89990 - 14s - loss: 2.2374 - accuracy: 0.4603 - val_loss: 7.2997 - val_accuracy: 0.1279\n",
            "Epoch 47/100\n",
            "89990/89990 - 14s - loss: 2.2304 - accuracy: 0.4595 - val_loss: 7.3710 - val_accuracy: 0.1267\n",
            "Epoch 48/100\n",
            "89990/89990 - 14s - loss: 2.2247 - accuracy: 0.4609 - val_loss: 7.3659 - val_accuracy: 0.1260\n",
            "Epoch 49/100\n",
            "89990/89990 - 14s - loss: 2.2016 - accuracy: 0.4670 - val_loss: 7.3753 - val_accuracy: 0.1282\n",
            "Epoch 50/100\n",
            "89990/89990 - 14s - loss: 2.1891 - accuracy: 0.4685 - val_loss: 7.3692 - val_accuracy: 0.1279\n",
            "Epoch 51/100\n",
            "89990/89990 - 14s - loss: 2.1785 - accuracy: 0.4698 - val_loss: 7.4278 - val_accuracy: 0.1259\n",
            "Epoch 52/100\n",
            "89990/89990 - 13s - loss: 2.1676 - accuracy: 0.4709 - val_loss: 7.3657 - val_accuracy: 0.1254\n",
            "Epoch 53/100\n",
            "89990/89990 - 14s - loss: 2.1613 - accuracy: 0.4717 - val_loss: 7.4463 - val_accuracy: 0.1274\n",
            "Epoch 54/100\n",
            "89990/89990 - 14s - loss: 2.1396 - accuracy: 0.4741 - val_loss: 7.4368 - val_accuracy: 0.1268\n",
            "Epoch 55/100\n",
            "89990/89990 - 14s - loss: 2.1353 - accuracy: 0.4770 - val_loss: 7.4789 - val_accuracy: 0.1249\n",
            "Epoch 56/100\n",
            "89990/89990 - 14s - loss: 2.1290 - accuracy: 0.4798 - val_loss: 7.5229 - val_accuracy: 0.1266\n",
            "Epoch 57/100\n",
            "89990/89990 - 14s - loss: 2.1171 - accuracy: 0.4811 - val_loss: 7.4993 - val_accuracy: 0.1259\n",
            "Epoch 58/100\n",
            "89990/89990 - 14s - loss: 2.1016 - accuracy: 0.4834 - val_loss: 7.4985 - val_accuracy: 0.1278\n",
            "Epoch 59/100\n",
            "89990/89990 - 13s - loss: 2.0999 - accuracy: 0.4834 - val_loss: 7.5275 - val_accuracy: 0.1257\n",
            "Epoch 60/100\n",
            "89990/89990 - 14s - loss: 2.0895 - accuracy: 0.4874 - val_loss: 7.5170 - val_accuracy: 0.1252\n",
            "Epoch 61/100\n",
            "89990/89990 - 14s - loss: 2.0701 - accuracy: 0.4897 - val_loss: 7.6455 - val_accuracy: 0.1249\n",
            "Epoch 62/100\n",
            "89990/89990 - 13s - loss: 2.0673 - accuracy: 0.4896 - val_loss: 7.5604 - val_accuracy: 0.1242\n",
            "Epoch 63/100\n",
            "89990/89990 - 13s - loss: 2.0523 - accuracy: 0.4935 - val_loss: 7.5697 - val_accuracy: 0.1271\n",
            "Epoch 64/100\n",
            "89990/89990 - 13s - loss: 2.0590 - accuracy: 0.4912 - val_loss: 7.5957 - val_accuracy: 0.1257\n",
            "Epoch 65/100\n",
            "89990/89990 - 14s - loss: 2.0440 - accuracy: 0.4937 - val_loss: 7.5663 - val_accuracy: 0.1281\n",
            "Epoch 66/100\n",
            "89990/89990 - 14s - loss: 2.0332 - accuracy: 0.4971 - val_loss: 7.6284 - val_accuracy: 0.1235\n",
            "Epoch 67/100\n",
            "89990/89990 - 14s - loss: 2.0236 - accuracy: 0.4999 - val_loss: 7.6373 - val_accuracy: 0.1218\n",
            "Epoch 68/100\n",
            "89990/89990 - 14s - loss: 2.0149 - accuracy: 0.4991 - val_loss: 7.6172 - val_accuracy: 0.1266\n",
            "Epoch 69/100\n",
            "89990/89990 - 14s - loss: 2.0131 - accuracy: 0.4991 - val_loss: 7.6944 - val_accuracy: 0.1259\n",
            "Epoch 70/100\n",
            "89990/89990 - 14s - loss: 1.9995 - accuracy: 0.5011 - val_loss: 7.6460 - val_accuracy: 0.1222\n",
            "Epoch 71/100\n",
            "89990/89990 - 14s - loss: 1.9981 - accuracy: 0.5015 - val_loss: 7.7123 - val_accuracy: 0.1255\n",
            "Epoch 72/100\n",
            "89990/89990 - 14s - loss: 1.9931 - accuracy: 0.5041 - val_loss: 7.6582 - val_accuracy: 0.1262\n",
            "Epoch 73/100\n",
            "89990/89990 - 14s - loss: 1.9765 - accuracy: 0.5064 - val_loss: 7.7231 - val_accuracy: 0.1263\n",
            "Epoch 74/100\n",
            "89990/89990 - 14s - loss: 1.9731 - accuracy: 0.5066 - val_loss: 7.6718 - val_accuracy: 0.1257\n",
            "Epoch 75/100\n",
            "89990/89990 - 14s - loss: 1.9619 - accuracy: 0.5101 - val_loss: 7.6918 - val_accuracy: 0.1265\n",
            "Epoch 76/100\n",
            "89990/89990 - 14s - loss: 1.9609 - accuracy: 0.5094 - val_loss: 7.6992 - val_accuracy: 0.1254\n",
            "Epoch 77/100\n",
            "89990/89990 - 14s - loss: 1.9510 - accuracy: 0.5112 - val_loss: 7.6926 - val_accuracy: 0.1257\n",
            "Epoch 78/100\n",
            "89990/89990 - 14s - loss: 1.9541 - accuracy: 0.5089 - val_loss: 7.7566 - val_accuracy: 0.1225\n",
            "Epoch 79/100\n",
            "89990/89990 - 13s - loss: 1.9391 - accuracy: 0.5130 - val_loss: 7.7403 - val_accuracy: 0.1242\n",
            "Epoch 80/100\n",
            "89990/89990 - 14s - loss: 1.9322 - accuracy: 0.5153 - val_loss: 7.7655 - val_accuracy: 0.1228\n",
            "Epoch 81/100\n",
            "89990/89990 - 14s - loss: 1.9244 - accuracy: 0.5156 - val_loss: 7.7668 - val_accuracy: 0.1218\n",
            "Epoch 82/100\n",
            "89990/89990 - 14s - loss: 1.9226 - accuracy: 0.5168 - val_loss: 7.7930 - val_accuracy: 0.1235\n",
            "Epoch 83/100\n",
            "89990/89990 - 14s - loss: 1.9191 - accuracy: 0.5167 - val_loss: 7.8146 - val_accuracy: 0.1205\n",
            "Epoch 84/100\n",
            "89990/89990 - 14s - loss: 1.9009 - accuracy: 0.5197 - val_loss: 7.7870 - val_accuracy: 0.1218\n",
            "Epoch 85/100\n",
            "89990/89990 - 14s - loss: 1.9009 - accuracy: 0.5203 - val_loss: 7.7926 - val_accuracy: 0.1225\n",
            "Epoch 86/100\n",
            "89990/89990 - 13s - loss: 1.9019 - accuracy: 0.5201 - val_loss: 7.7733 - val_accuracy: 0.1217\n",
            "Epoch 87/100\n",
            "89990/89990 - 13s - loss: 1.8816 - accuracy: 0.5242 - val_loss: 7.8122 - val_accuracy: 0.1203\n",
            "Epoch 88/100\n",
            "89990/89990 - 14s - loss: 1.8880 - accuracy: 0.5236 - val_loss: 7.8157 - val_accuracy: 0.1217\n",
            "Epoch 89/100\n",
            "89990/89990 - 14s - loss: 1.8794 - accuracy: 0.5259 - val_loss: 7.8851 - val_accuracy: 0.1221\n",
            "Epoch 90/100\n",
            "89990/89990 - 14s - loss: 1.8781 - accuracy: 0.5247 - val_loss: 7.8784 - val_accuracy: 0.1240\n",
            "Epoch 91/100\n",
            "89990/89990 - 13s - loss: 1.8703 - accuracy: 0.5269 - val_loss: 7.8246 - val_accuracy: 0.1246\n",
            "Epoch 92/100\n",
            "89990/89990 - 14s - loss: 1.8596 - accuracy: 0.5300 - val_loss: 7.8410 - val_accuracy: 0.1206\n",
            "Epoch 93/100\n",
            "89990/89990 - 14s - loss: 1.8537 - accuracy: 0.5283 - val_loss: 7.8922 - val_accuracy: 0.1194\n",
            "Epoch 94/100\n",
            "89990/89990 - 14s - loss: 1.8439 - accuracy: 0.5323 - val_loss: 7.8786 - val_accuracy: 0.1197\n",
            "Epoch 95/100\n",
            "89990/89990 - 14s - loss: 1.8496 - accuracy: 0.5308 - val_loss: 7.8808 - val_accuracy: 0.1183\n",
            "Epoch 96/100\n",
            "89990/89990 - 14s - loss: 1.8386 - accuracy: 0.5326 - val_loss: 7.8262 - val_accuracy: 0.1208\n",
            "Epoch 97/100\n",
            "89990/89990 - 13s - loss: 1.8412 - accuracy: 0.5327 - val_loss: 7.9031 - val_accuracy: 0.1182\n",
            "Epoch 98/100\n",
            "89990/89990 - 13s - loss: 1.8324 - accuracy: 0.5327 - val_loss: 7.8879 - val_accuracy: 0.1206\n",
            "Epoch 99/100\n",
            "89990/89990 - 13s - loss: 1.8208 - accuracy: 0.5356 - val_loss: 7.9147 - val_accuracy: 0.1184\n",
            "Epoch 100/100\n",
            "89990/89990 - 13s - loss: 1.8183 - accuracy: 0.5357 - val_loss: 7.9371 - val_accuracy: 0.1225\n"
          ],
          "name": "stdout"
        }
      ]
    },
    {
      "cell_type": "code",
      "metadata": {
        "id": "NvGYym0ErunF",
        "colab_type": "code",
        "outputId": "27abf7df-cf9b-4550-f2b6-3d04056583ee",
        "colab": {
          "base_uri": "https://localhost:8080/",
          "height": 441
        }
      },
      "source": [
        "import matplotlib.pyplot as plt\n",
        "\n",
        "# Make characteristics\n",
        "training_loss = history.history['loss']\n",
        "validation_loss = history.history['val_loss']\n",
        "training_acc = history.history['accuracy']\n",
        "validation_acc = history.history['val_accuracy']\n",
        "\n",
        "epoch_count = range(1, len(training_loss) + 1)\n",
        "\n",
        "f = plt.figure(figsize=(14,6))\n",
        "\n",
        "a0 = f.add_subplot(121)\n",
        "a0.plot(epoch_count, training_loss, 'r--', label=\"Training loss\")\n",
        "a0.plot(epoch_count, validation_loss, 'b-', label=\"Validation loss\")\n",
        "a0.legend()\n",
        "a0.set_title(\"Loss function\")\n",
        "a0.set_xlabel(\"Epoch\")\n",
        "plt.xlim(0, epochs)\n",
        "a0.set_ylabel(\"Loss\")\n",
        "plt.ylim(0, np.ceil(max(training_loss)))\n",
        "\n",
        "a1 = f.add_subplot(122)\n",
        "a1.plot(epoch_count, training_acc, 'r--', label=\"Training acc\")\n",
        "a1.plot(epoch_count, validation_acc, 'b-', label=\"Validation acc\")\n",
        "a1.set_title(\"Accuracy function\")\n",
        "a1.set_xlabel(\"Epoch\")\n",
        "plt.xlim(0, epochs)\n",
        "a1.set_ylabel(\"Acc\")\n",
        "plt.ylim(0, 1)\n",
        "# plt.savefig(save_directory+\"/characteristics.png\")  \n",
        "\n",
        "plt.tight_layout()\n",
        "plt.show()"
      ],
      "execution_count": 20,
      "outputs": [
        {
          "output_type": "display_data",
          "data": {
            "image/png": "[encoded data removed]",
            "text/plain": [
              "<Figure size 1008x432 with 2 Axes>"
            ]
          },
          "metadata": {
            "tags": []
          }
        }
      ]
    },
    {
      "cell_type": "code",
      "metadata": {
        "id": "EEjs3RAWosq8",
        "colab_type": "code",
        "colab": {}
      },
      "source": [
        "from keras.preprocessing.sequence import pad_sequences\n",
        "\n",
        "# generate a sequence from a language model\n",
        "def generate_seq(model, tokenizer, seq_length, seed_text, n_words):\n",
        "\tresult = list()\n",
        "\tin_text = seed_text\n",
        "\t# generate a fixed number of words\n",
        "\tfor _ in range(n_words):\n",
        "\t\t# encode the text as integer\n",
        "\t\tencoded = tokenizer.texts_to_sequences([in_text])[0]\n",
        "\t\t# truncate sequences to a fixed length\n",
        "\t\tencoded = pad_sequences([encoded], maxlen=seq_length, truncating='pre')\n",
        "\t\t# predict probabilities for each word\n",
        "\t\tyhat = model.predict_classes(encoded, verbose=0)\n",
        "\t\t# map predicted word index to word\n",
        "\t\tout_word = ''\n",
        "\t\tfor word, index in tokenizer.word_index.items():\n",
        "\t\t\tif index == yhat:\n",
        "\t\t\t\tout_word = word\n",
        "\t\t\t\tbreak\n",
        "\t\t# append to input\n",
        "\t\tin_text += ' ' + out_word\n",
        "\t\tresult.append(out_word)\n",
        "\treturn ' '.join(result)"
      ],
      "execution_count": 0,
      "outputs": []
    },
    {
      "cell_type": "code",
      "metadata": {
        "id": "KeYovz3qofnU",
        "colab_type": "code",
        "outputId": "9bb9ce8e-f01b-44ad-bd7b-f693540e9e01",
        "colab": {
          "base_uri": "https://localhost:8080/",
          "height": 87
        }
      },
      "source": [
        "# select a seed text\n",
        "from random import randint\n",
        "seq_length = X.shape[1]\n",
        "seed_text = sequences[randint(0,len(sequences))]\n",
        "print(seed_text + '\\n')\n",
        " \n",
        "# generate new text\n",
        "generated = generate_seq(model, tokenizer, 50, seed_text, 50)\n",
        "print(generated)"
      ],
      "execution_count": 22,
      "outputs": [
        {
          "output_type": "stream",
          "text": [
            "like a kind of torture acknowledged by the court connected with the trial and which followed him around and is it likely that anyone in the bank when judging his work would take any account of his peculiar situation no one and never there were those who knew about his trial\n",
            "\n",
            "but it was not a good choice but to explain the more than to help him and this painter was no longer needed to give him the deputy director was very happy to him with the chief clerk as he could but he had to push his elbows on the\n"
          ],
          "name": "stdout"
        }
      ]
    }
  ]
}